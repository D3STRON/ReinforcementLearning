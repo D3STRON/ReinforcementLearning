{
 "cells": [
  {
   "cell_type": "code",
   "execution_count": 1,
   "id": "3346ab91",
   "metadata": {},
   "outputs": [],
   "source": [
    "import numpy as np\n",
    "import tqdm\n",
    "import torch\n",
    "from torch import nn\n",
    "from torch.distributions import Categorical\n",
    "import torch.nn.functional as F\n",
    "import matplotlib.pyplot as plt\n",
    "from collections import deque\n",
    "from gym import spaces\n",
    "import gym\n",
    "\n",
    "from tqdm import tqdm_notebook\n",
    "\n",
    "import base64, io\n",
    "\n",
    "from gym.wrappers.monitoring import video_recorder\n",
    "from IPython.display import HTML\n",
    "from IPython import display \n",
    "import glob"
   ]
  },
  {
   "cell_type": "code",
   "execution_count": 2,
   "id": "2f4427e9",
   "metadata": {},
   "outputs": [],
   "source": [
    "device = torch.device(\"cuda:0\" if torch.cuda.is_available() else \"cpu\")"
   ]
  },
  {
   "cell_type": "code",
   "execution_count": 3,
   "id": "0b5c7010",
   "metadata": {},
   "outputs": [],
   "source": [
    "def show_video(env_name):\n",
    "    mp4list = glob.glob('video/*.mp4')\n",
    "    if len(mp4list) > 0:\n",
    "        mp4 = 'video/{}.mp4'.format(env_name)\n",
    "        video = io.open(mp4, 'r+b').read()\n",
    "        encoded = base64.b64encode(video)\n",
    "        display.display(HTML(data='''<video alt=\"test\" autoplay \n",
    "                loop controls style=\"height: 400px;\">\n",
    "                <source src=\"data:video/mp4;base64,{0}\" type=\"video/mp4\" />\n",
    "             </video>'''.format(encoded.decode('ascii'))))\n",
    "    else:\n",
    "        print(\"Could not find video\")\n",
    "        \n",
    "def show_video_of_model(policy, env_name):\n",
    "    env = gym.make(env_name)\n",
    "    vid = video_recorder.VideoRecorder(env, path=\"C:/Users/GHOSH/OneDrive/Documents/GitHub/ReinforcementLearning/video/{}.mp4\".format(env_name))\n",
    "    state = env.reset()\n",
    "    done = False\n",
    "    G = 0\n",
    "    for t in range(10000):\n",
    "        vid.capture_frame()\n",
    "        action, _ = policy.act(state)\n",
    "        next_state, reward, done, _ = env.step(action)\n",
    "        G += reward\n",
    "        state = next_state\n",
    "        if done:\n",
    "            break\n",
    "    print(G)\n",
    "    vid.close()\n",
    "    env.close()"
   ]
  },
  {
   "cell_type": "code",
   "execution_count": 4,
   "id": "320faaa3",
   "metadata": {},
   "outputs": [],
   "source": [
    "class ActorNet(nn.Module):\n",
    "    def __init__(self, input_dims, hidden_dims, output_dims):\n",
    "        super(ActorNet, self).__init__()\n",
    "\n",
    "        \"\"\" CODE HERE:\n",
    "                Implement the neural network here\n",
    "        \"\"\"\n",
    "        self.fc1 = nn.Linear(input_dims, hidden_dims)\n",
    "        self.fc2 = nn.Linear(hidden_dims, output_dims)\n",
    "\n",
    "    def forward(self, x):\n",
    "        \"\"\" CODE HERE:\n",
    "                Implement the forward propagation\n",
    "        \"\"\"\n",
    "        x = F.relu(self.fc1(x))\n",
    "        y = F.softmax(self.fc2(x), dim=1)\n",
    "        return y\n",
    "    \n",
    "    def act(self, state):\n",
    "        state_tensor = torch.from_numpy(state.copy()).float().unsqueeze(0).to(device)\n",
    "        probs = self.forward(state_tensor)\n",
    "        # makes a prob distribution from the given probabilities so that we can \n",
    "        # sample action from it\n",
    "        model = Categorical(probs)\n",
    "        action = model.sample()\n",
    "        return action.item(), model.log_prob(action)"
   ]
  },
  {
   "cell_type": "code",
   "execution_count": 5,
   "id": "f5ce1b2f",
   "metadata": {},
   "outputs": [],
   "source": [
    "class CriticNet(nn.Module):\n",
    "    def __init__(self, input_dims, hidden_dims, output_dims):\n",
    "        super(CriticNet, self).__init__()\n",
    "\n",
    "        \"\"\" CODE HERE:\n",
    "                Implement the neural network here\n",
    "        \"\"\"\n",
    "        self.fc1 = nn.Linear(input_dims, hidden_dims)\n",
    "        self.fc2 = nn.Linear(hidden_dims, output_dims)\n",
    "\n",
    "    def forward(self, state):\n",
    "        \"\"\" CODE HERE:\n",
    "                Implement the forward propagation\n",
    "        \"\"\"\n",
    "        x = torch.from_numpy(state).float().unsqueeze(0).to(device)\n",
    "        x = F.relu(self.fc1(x))\n",
    "        y = self.fc2(x)\n",
    "        return y"
   ]
  },
  {
   "cell_type": "code",
   "execution_count": 6,
   "id": "9adac9e9",
   "metadata": {},
   "outputs": [
    {
     "name": "stderr",
     "output_type": "stream",
     "text": [
      "C:\\Users\\GHOSH\\anaconda3\\lib\\site-packages\\gym\\core.py:317: DeprecationWarning: \u001b[33mWARN: Initializing wrapper in old step API which returns one bool instead of two. It is recommended to set `new_step_api=True` to use new step API. This will be the default behaviour in future.\u001b[0m\n",
      "  deprecation(\n",
      "C:\\Users\\GHOSH\\anaconda3\\lib\\site-packages\\gym\\wrappers\\step_api_compatibility.py:39: DeprecationWarning: \u001b[33mWARN: Initializing environment in old step API which returns one bool instead of two. It is recommended to set `new_step_api=True` to use new step API. This will be the default behaviour in future.\u001b[0m\n",
      "  deprecation(\n"
     ]
    }
   ],
   "source": [
    "my_env = gym.make('CartPole-v1')\n",
    "\n",
    "\n",
    "episode_num = 10000\n",
    "learning_rate_actor=  0.0001\n",
    "learning_rate_critic= 0.001\n",
    "solved_score = 300\n",
    "gamma = 0.99\n",
    "\n",
    "action_num = my_env.action_space.n\n",
    "\n",
    "hidden_dim = 128\n",
    "observation_dim = my_env.observation_space.shape[0]\n",
    "\n",
    "actor = ActorNet(observation_dim, hidden_dim, action_num).to(device)\n",
    "\n",
    "critic = CriticNet(observation_dim, hidden_dim, 1).to(device) \n",
    "\n",
    "optimizer_actor = torch.optim.Adam(actor.parameters(), lr=learning_rate_actor)\n",
    "optimizer_critic = torch.optim.Adam(critic.parameters(), lr=learning_rate_critic)"
   ]
  },
  {
   "cell_type": "code",
   "execution_count": 7,
   "id": "0b76ef8b",
   "metadata": {
    "scrolled": false
   },
   "outputs": [
    {
     "name": "stdout",
     "output_type": "stream",
     "text": [
      "Mean score of past 100 episodes 17.0\n",
      "Mean score of past 100 episodes 18.92156862745098\n",
      "Mean score of past 100 episodes 19.4\n",
      "Mean score of past 100 episodes 19.69\n",
      "Mean score of past 100 episodes 22.96\n",
      "Mean score of past 100 episodes 29.05\n",
      "Mean score of past 100 episodes 40.74\n",
      "Mean score of past 100 episodes 50.8\n",
      "Mean score of past 100 episodes 63.73\n",
      "Mean score of past 100 episodes 95.6\n",
      "Mean score of past 100 episodes 136.23\n",
      "Mean score of past 100 episodes 165.7\n",
      "Mean score of past 100 episodes 185.66\n",
      "Mean score of past 100 episodes 254.83\n"
     ]
    }
   ],
   "source": [
    "#track scores\n",
    "scores = []\n",
    "\n",
    "#track recent scores\n",
    "recent_scores = deque(maxlen = 100)\n",
    "\n",
    "for episode in range(episode_num):\n",
    "    \n",
    "    state = my_env.reset()\n",
    "    done = False\n",
    "    I = 1\n",
    "    score = 0\n",
    "    \n",
    "    while not done:\n",
    "        action , log_act_probs = actor.act(state)\n",
    "        next_state, reward, done, _ = my_env.step(action)\n",
    "        score += reward\n",
    "        if done:\n",
    "            v_next_state = torch.tensor([0]).float().unsqueeze(0).to(device)\n",
    "        else:\n",
    "            v_next_state = critic.forward(next_state)\n",
    "        v_state = critic.forward(state)\n",
    "         \n",
    "        # delta or the advantage is estimating how good the actions leading to the next sate and reward will be\n",
    "        # we are trying to increase our advantage and trying to teach the critic to resemble this advantage for the state\n",
    "        with torch.no_grad():\n",
    "            delta = reward + gamma * v_next_state.item() - v_state.item()\n",
    "        # (to implement like in sutton's book, negative because you want ascent not descent)\n",
    "        value_loss = -delta*v_state\n",
    "#         value_loss = F.mse_loss(reward + gamma * v_next_state, v_state)\n",
    "        # the negative of this loss is taken because we want to increase this behaviour via stochastic gradient ascent\n",
    "        # that is because we are trying to maximise the probabilities of actions that lead to higher rewards\n",
    "        # Also we are scaling the gradient of action probs using the advantage and we are able to pass in .backward() because \n",
    "        # the agvantage is not parametrized by the policy nets parameters and thus will not affect the gradient of policy loss\n",
    "        policy_loss = -log_act_probs*delta\n",
    "        policy_loss *= I\n",
    "        \n",
    "        optimizer_critic.zero_grad()\n",
    "        optimizer_actor.zero_grad()\n",
    "        (value_loss + policy_loss).backward()\n",
    "        optimizer_critic.step()\n",
    "        optimizer_actor.step()\n",
    "        \n",
    "        I *= gamma\n",
    "        state = next_state\n",
    "    \n",
    "    #append episode score \n",
    "    scores.append(score)\n",
    "    recent_scores.append(score)\n",
    "    #early stopping if we meet solved score goal\n",
    "    if episode%50==0:\n",
    "        print(\"Mean score of past 100 episodes\" ,np.array(recent_scores).mean())\n",
    "    if np.array(recent_scores).mean() >= solved_score:\n",
    "        break"
   ]
  },
  {
   "cell_type": "code",
   "execution_count": 8,
   "id": "f828a097",
   "metadata": {},
   "outputs": [
    {
     "name": "stderr",
     "output_type": "stream",
     "text": [
      "C:\\Users\\GHOSH\\anaconda3\\lib\\site-packages\\seaborn\\rcmod.py:82: DeprecationWarning: distutils Version classes are deprecated. Use packaging.version instead.\n",
      "  if LooseVersion(mpl.__version__) >= \"3.0\":\n",
      "C:\\Users\\GHOSH\\anaconda3\\lib\\site-packages\\setuptools\\_distutils\\version.py:351: DeprecationWarning: distutils Version classes are deprecated. Use packaging.version instead.\n",
      "  other = LooseVersion(other)\n",
      "C:\\Users\\GHOSH\\anaconda3\\lib\\site-packages\\seaborn\\rcmod.py:400: DeprecationWarning: distutils Version classes are deprecated. Use packaging.version instead.\n",
      "  if LooseVersion(mpl.__version__) >= \"3.0\":\n",
      "C:\\Users\\GHOSH\\anaconda3\\lib\\site-packages\\setuptools\\_distutils\\version.py:351: DeprecationWarning: distutils Version classes are deprecated. Use packaging.version instead.\n",
      "  other = LooseVersion(other)\n"
     ]
    },
    {
     "data": {
      "image/png": "[encoded data removed]",
      "text/plain": [
       "<Figure size 432x288 with 1 Axes>"
      ]
     },
     "metadata": {},
     "output_type": "display_data"
    }
   ],
   "source": [
    "import matplotlib.pyplot as plt\n",
    "from sklearn.linear_model import LinearRegression\n",
    "import seaborn as sns\n",
    "import numpy as np\n",
    "\n",
    "sns.set()\n",
    "\n",
    "plt.plot(scores)\n",
    "plt.ylabel('score')\n",
    "plt.xlabel('episodes')\n",
    "plt.title('Training score of CartPole Actor-Critic TD(0)')\n",
    "\n",
    "reg = LinearRegression().fit(np.arange(len(scores)).reshape(-1, 1), np.array(scores).reshape(-1, 1))\n",
    "y_pred = reg.predict(np.arange(len(scores)).reshape(-1, 1))\n",
    "plt.plot(y_pred)\n",
    "plt.show()"
   ]
  },
  {
   "cell_type": "code",
   "execution_count": null,
   "id": "e999b0eb",
   "metadata": {},
   "outputs": [],
   "source": [
    "show_video_of_model(actor, 'CartPole-v1')"
   ]
  },
  {
   "cell_type": "code",
   "execution_count": 77,
   "id": "cf269821",
   "metadata": {},
   "outputs": [
    {
     "name": "stdout",
     "output_type": "stream",
     "text": [
      "Could not find video\n"
     ]
    }
   ],
   "source": [
    "show_video('LunarLander-v2')"
   ]
  },
  {
   "cell_type": "code",
   "execution_count": null,
   "id": "dc172247",
   "metadata": {},
   "outputs": [],
   "source": []
  }
 ],
 "metadata": {
  "kernelspec": {
   "display_name": "Python 3 (ipykernel)",
   "language": "python",
   "name": "python3"
  },
  "language_info": {
   "codemirror_mode": {
    "name": "ipython",
    "version": 3
   },
   "file_extension": ".py",
   "mimetype": "text/x-python",
   "name": "python",
   "nbconvert_exporter": "python",
   "pygments_lexer": "ipython3",
   "version": "3.9.12"
  }
 },
 "nbformat": 4,
 "nbformat_minor": 5
}
