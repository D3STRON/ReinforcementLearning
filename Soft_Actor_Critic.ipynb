{
  "cells": [
    {
      "cell_type": "code",
      "source": [
        "!git clone https://github.com/benelot/pybullet-gym.git\n",
        "!cd pybullet-gym"
      ],
      "metadata": {
        "colab": {
          "base_uri": "https://localhost:8080/"
        },
        "id": "L_T_U_1G-3Ki",
        "outputId": "9a6e9b6c-9f15-4d42-e1c1-46ae37720953"
      },
      "execution_count": null,
      "outputs": [
        {
          "output_type": "stream",
          "name": "stdout",
          "text": [
            "Cloning into 'pybullet-gym'...\n",
            "remote: Enumerating objects: 804, done.\u001b[K\n",
            "remote: Counting objects: 100% (54/54), done.\u001b[K\n",
            "remote: Compressing objects: 100% (37/37), done.\u001b[K\n",
            "remote: Total 804 (delta 21), reused 44 (delta 17), pack-reused 750\u001b[K\n",
            "Receiving objects: 100% (804/804), 19.31 MiB | 8.17 MiB/s, done.\n",
            "Resolving deltas: 100% (437/437), done.\n"
          ]
        }
      ]
    },
    {
      "cell_type": "code",
      "source": [
        "cd pybullet-gym"
      ],
      "metadata": {
        "colab": {
          "base_uri": "https://localhost:8080/"
        },
        "id": "VhGP1r2M-9Qb",
        "outputId": "19492a1e-04f8-451e-a228-36f21526dfd6"
      },
      "execution_count": null,
      "outputs": [
        {
          "output_type": "stream",
          "name": "stdout",
          "text": [
            "/content/pybullet-gym\n"
          ]
        }
      ]
    },
    {
      "cell_type": "code",
      "source": [
        "!pip install -e."
      ],
      "metadata": {
        "colab": {
          "base_uri": "https://localhost:8080/"
        },
        "id": "xFoJL_oq_F5r",
        "outputId": "96ee0977-c3c3-4e5d-c2ef-fdb7073aee9d"
      },
      "execution_count": null,
      "outputs": [
        {
          "output_type": "stream",
          "name": "stdout",
          "text": [
            "Looking in indexes: https://pypi.org/simple, https://us-python.pkg.dev/colab-wheels/public/simple/\n",
            "Obtaining file:///content/pybullet-gym\n",
            "Collecting pybullet>=1.7.8\n",
            "  Downloading pybullet-3.2.5-cp38-cp38-manylinux_2_5_x86_64.manylinux1_x86_64.whl (91.7 MB)\n",
            "\u001b[K     |████████████████████████████████| 91.7 MB 101 kB/s \n",
            "\u001b[?25hInstalling collected packages: pybullet, pybulletgym\n",
            "  Running setup.py develop for pybulletgym\n",
            "Successfully installed pybullet-3.2.5 pybulletgym-0.1\n"
          ]
        }
      ]
    },
    {
      "cell_type": "code",
      "source": [
        "!pip install gym[box2d]\n",
        "import gym\n",
        "import pybulletgym"
      ],
      "metadata": {
        "colab": {
          "base_uri": "https://localhost:8080/"
        },
        "id": "EjAoWaH8_QqZ",
        "outputId": "f56a222e-d274-4a2f-ca9e-60914fefeaa1"
      },
      "execution_count": null,
      "outputs": [
        {
          "output_type": "stream",
          "name": "stdout",
          "text": [
            "Looking in indexes: https://pypi.org/simple, https://us-python.pkg.dev/colab-wheels/public/simple/\n",
            "Requirement already satisfied: gym[box2d] in /usr/local/lib/python3.8/dist-packages (0.25.2)\n",
            "Requirement already satisfied: cloudpickle>=1.2.0 in /usr/local/lib/python3.8/dist-packages (from gym[box2d]) (1.5.0)\n",
            "Requirement already satisfied: importlib-metadata>=4.8.0 in /usr/local/lib/python3.8/dist-packages (from gym[box2d]) (4.13.0)\n",
            "Requirement already satisfied: gym-notices>=0.0.4 in /usr/local/lib/python3.8/dist-packages (from gym[box2d]) (0.0.8)\n",
            "Requirement already satisfied: numpy>=1.18.0 in /usr/local/lib/python3.8/dist-packages (from gym[box2d]) (1.21.6)\n",
            "Collecting pygame==2.1.0\n",
            "  Downloading pygame-2.1.0-cp38-cp38-manylinux_2_17_x86_64.manylinux2014_x86_64.whl (18.3 MB)\n",
            "\u001b[K     |████████████████████████████████| 18.3 MB 130 kB/s \n",
            "\u001b[?25hCollecting box2d-py==2.3.5\n",
            "  Downloading box2d-py-2.3.5.tar.gz (374 kB)\n",
            "\u001b[K     |████████████████████████████████| 374 kB 74.6 MB/s \n",
            "\u001b[?25hCollecting swig==4.*\n",
            "  Downloading swig-4.1.0-py2.py3-none-manylinux_2_5_x86_64.manylinux1_x86_64.whl (1.8 MB)\n",
            "\u001b[K     |████████████████████████████████| 1.8 MB 48.8 MB/s \n",
            "\u001b[?25hRequirement already satisfied: zipp>=0.5 in /usr/local/lib/python3.8/dist-packages (from importlib-metadata>=4.8.0->gym[box2d]) (3.10.0)\n",
            "Building wheels for collected packages: box2d-py\n",
            "  Building wheel for box2d-py (setup.py) ... \u001b[?25lerror\n",
            "\u001b[31m  ERROR: Failed building wheel for box2d-py\u001b[0m\n",
            "\u001b[?25h  Running setup.py clean for box2d-py\n",
            "Failed to build box2d-py\n",
            "Installing collected packages: swig, pygame, box2d-py\n",
            "    Running setup.py install for box2d-py ... \u001b[?25l\u001b[?25hdone\n",
            "\u001b[33m  DEPRECATION: box2d-py was installed using the legacy 'setup.py install' method, because a wheel could not be built for it. A possible replacement is to fix the wheel build issue reported above. You can find discussion regarding this at https://github.com/pypa/pip/issues/8368.\u001b[0m\n",
            "Successfully installed box2d-py-2.3.5 pygame-2.1.0 swig-4.1.0\n"
          ]
        }
      ]
    },
    {
      "cell_type": "code",
      "execution_count": null,
      "metadata": {
        "id": "QpHfwlaoispX"
      },
      "outputs": [],
      "source": [
        "import os\n",
        "import torch as T\n",
        "import torch.nn.functional as F\n",
        "import torch.nn as nn\n",
        "import torch.optim as optim\n",
        "#import pybullet_envs\n",
        "from torch.distributions.normal import Normal\n",
        "import tqdm\n",
        "import random\n",
        "#import gym\n",
        "import numpy as np\n",
        "import matplotlib.pyplot as plt"
      ]
    },
    {
      "cell_type": "code",
      "execution_count": null,
      "metadata": {
        "id": "zRPWlkemjGcq"
      },
      "outputs": [],
      "source": [
        "def plot_learning_curve(x, scores):\n",
        "    running_avg = np.zeros(len(scores))\n",
        "    for i in range(len(running_avg)):\n",
        "        running_avg[i] = np.mean(scores[max(0, i-100):(i+1)])\n",
        "    plt.plot(x, running_avg)\n",
        "    plt.title('Running average of previous 1000 scores')\n",
        "    plt.show()"
      ]
    },
    {
      "cell_type": "code",
      "execution_count": null,
      "metadata": {
        "id": "T9O9QfPEjVqd"
      },
      "outputs": [],
      "source": [
        "class ReplayBuffer():\n",
        "    def __init__(self, max_size, input_shape, n_actions):\n",
        "        self.mem_size = max_size\n",
        "        self.mem_cntr = 0\n",
        "        self.state_memory = np.zeros((self.mem_size, *input_shape))\n",
        "        self.new_state_memory = np.zeros((self.mem_size, *input_shape))\n",
        "        self.action_memory = np.zeros((self.mem_size, n_actions))\n",
        "        self.reward_memory = np.zeros(self.mem_size)\n",
        "        self.terminal_memory = np.zeros(self.mem_size, dtype=np.bool)\n",
        "\n",
        "    def store_transition(self, state, action, reward, state_, done):\n",
        "        index = self.mem_cntr % self.mem_size\n",
        "\n",
        "        self.state_memory[index] = state\n",
        "        self.new_state_memory[index] = state_\n",
        "        self.action_memory[index] = action\n",
        "        self.reward_memory[index] = reward\n",
        "        self.terminal_memory[index] = done\n",
        "\n",
        "        self.mem_cntr += 1\n",
        "\n",
        "    def sample_buffer(self, batch_size):\n",
        "        max_mem = min(self.mem_cntr, self.mem_size)\n",
        "\n",
        "        batch = np.random.choice(max_mem, batch_size)\n",
        "\n",
        "        states = self.state_memory[batch]\n",
        "        states_ = self.new_state_memory[batch]\n",
        "        actions = self.action_memory[batch]\n",
        "        rewards = self.reward_memory[batch]\n",
        "        dones = self.terminal_memory[batch]\n",
        "\n",
        "        return states, actions, rewards, states_, dones"
      ]
    },
    {
      "cell_type": "code",
      "execution_count": null,
      "metadata": {
        "id": "AH8UMcANjZ-E"
      },
      "outputs": [],
      "source": [
        "class CriticNetwork(nn.Module):\n",
        "    def __init__(self, beta, input_dims, n_actions, fc1_dims=256, fc2_dims = 256,\n",
        "                name='critic'):\n",
        "        super(CriticNetwork, self).__init__()\n",
        "        self.input_dims = input_dims\n",
        "        self.fc1_dims = fc1_dims\n",
        "        self.fc2_dims = fc2_dims\n",
        "        self.n_actions= n_actions\n",
        "        self.name = name\n",
        "        \n",
        "        self.fc1 = nn.Linear(self.input_dims[0]+ n_actions, self.fc1_dims)\n",
        "        self.fc2 = nn.Linear(self.fc1_dims, self.fc2_dims)\n",
        "        self.q = nn.Linear(self.fc2_dims, 1)\n",
        "        \n",
        "        self.optimizer = optim.Adam(self.parameters(), lr= beta)\n",
        "        self.device = T.device('cuda:0' if T.cuda.is_available() else 'cpu')\n",
        "        \n",
        "        self.to(self.device)\n",
        "        \n",
        "    def forward(self, state, action):\n",
        "        action_value = self.fc1(T.cat([state,action], dim=1))\n",
        "        action_value = F.relu(action_value)\n",
        "        action_value = self.fc2(action_value)\n",
        "        action_value = F.relu(action_value)\n",
        "        \n",
        "        q = self.q(action_value)\n",
        "        \n",
        "        return q"
      ]
    },
    {
      "cell_type": "code",
      "execution_count": null,
      "metadata": {
        "id": "Hr1Ld0lfjicL"
      },
      "outputs": [],
      "source": [
        "class ValueNetwork(nn.Module):\n",
        "    def __init__(self, beta, input_dims, fc1_dims=256, fc2_dims = 256\n",
        "                , name='value'):\n",
        "        super(ValueNetwork, self).__init__()\n",
        "        self.input_dims = input_dims\n",
        "        self.fc1_dims = fc1_dims\n",
        "        self.fc2_dims = fc2_dims\n",
        "        self.name = name\n",
        "        \n",
        "        self.fc1 = nn .Linear(*self.input_dims, self.fc1_dims)\n",
        "        self.fc2 = nn.Linear(self.fc1_dims, self.fc2_dims)\n",
        "        self.v = nn.Linear(self.fc2_dims, 1)\n",
        "        \n",
        "        self.optimizer = optim.Adam(self.parameters(), lr= beta)\n",
        "        self.device = T.device('cuda:0' if T.cuda.is_available() else 'cpu')\n",
        "        print(self.device)\n",
        "        \n",
        "        self.to(self.device)\n",
        "    \n",
        "    def forward(self, state):\n",
        "        action_value = self.fc1(state)\n",
        "        action_value = F.relu(action_value)\n",
        "        action_value = self.fc2(action_value)\n",
        "        action_value = F.relu(action_value)\n",
        "        \n",
        "        v = self.v(action_value)\n",
        "        \n",
        "        return v "
      ]
    },
    {
      "cell_type": "code",
      "execution_count": null,
      "metadata": {
        "id": "kD-s22E1jjEf"
      },
      "outputs": [],
      "source": [
        "class ActorNetwork(nn.Module):\n",
        "    def __init__(self, beta, input_dims, max_action, fc1_dims=256, fc2_dims = 256,\n",
        "                n_actions=2, name='value'):\n",
        "        super(ActorNetwork, self).__init__()\n",
        "        self.input_dims = input_dims\n",
        "        self.fc1_dims = fc1_dims\n",
        "        self.fc2_dims = fc2_dims\n",
        "        self.n_actions = n_actions\n",
        "        self.name = name\n",
        "        self.max_action = max_action\n",
        "        self.reparam_noise = 1e-6\n",
        "        \n",
        "        self.fc1 = nn.Linear(*self.input_dims, self.fc1_dims)\n",
        "        self.fc2 = nn.Linear(self.fc1_dims, self.fc2_dims)\n",
        "        self.mu = nn.Linear(self.fc2_dims, self.n_actions)\n",
        "        self.sigma = nn.Linear(self.fc2_dims, self.n_actions)\n",
        "        \n",
        "        self.optimizer = optim.Adam(self.parameters(), lr= beta)\n",
        "        self.device = T.device('cuda:0' if T.cuda.is_available() else 'cpu')\n",
        "        \n",
        "        self.to(self.device)\n",
        "        \n",
        "    def forward(self, state):\n",
        "        prob = self.fc1(state)\n",
        "        prob = F.relu(prob)\n",
        "        prob = self.fc2(prob)\n",
        "        prob = F.relu(prob)\n",
        "        \n",
        "        mu = self.mu(prob)\n",
        "        sigma = self.sigma(prob)\n",
        "        # Limits the deviation of the actions distribution to a certain limit\n",
        "        sigma = T.clamp(sigma, min=self.reparam_noise, max=1)\n",
        "        \n",
        "        return mu, sigma\n",
        "    \n",
        "    def sample_normal(self, state, reparameterize = True):\n",
        "        state = state.float()\n",
        "        mu, sigma = self.forward(state)\n",
        "        probabilities = Normal(mu, sigma)\n",
        "        \n",
        "        if reparameterize:\n",
        "            #Actions seleted from a noise probability distribution\n",
        "            actions = probabilities.rsample()\n",
        "        else:\n",
        "            #Actions selected from a normal probability distribution\n",
        "            actions = probabilities.sample()\n",
        "            \n",
        "        action = T.tanh(actions)*T.tensor(self.max_action).to(self.device)\n",
        "        log_probs = probabilities.log_prob(actions)\n",
        "        log_probs -= T.log(1-action.pow(2)+self.reparam_noise)\n",
        "        log_probs = log_probs.sum(1, keepdim=True)\n",
        "\n",
        "        return action, log_probs"
      ]
    },
    {
      "cell_type": "code",
      "execution_count": null,
      "metadata": {
        "id": "83xkaTtijjyh"
      },
      "outputs": [],
      "source": [
        "class Agent():\n",
        "    def __init__(self, alpha=0.0003, beta=0.0003, input_dims=[8],\n",
        "            env=None, gamma=0.99, n_actions=2, max_size=1000000, tau=0.005,\n",
        "            layer1_size=256, layer2_size=256, batch_size=256, reward_scale=2):\n",
        "        self.gamma = gamma\n",
        "        self.tau = tau\n",
        "        self.memory = ReplayBuffer(max_size, input_dims, n_actions)\n",
        "        self.batch_size = batch_size\n",
        "        self.n_actions = n_actions\n",
        "        \n",
        "        self.actor = ActorNetwork(alpha, input_dims, n_actions=n_actions,\n",
        "                                 name='actor', max_action= env.action_space.high)\n",
        "        self.critic_1 = CriticNetwork(beta, input_dims, n_actions=n_actions,\n",
        "                                     name=\"critic_1\")\n",
        "        self.critic_2 = CriticNetwork(beta, input_dims, n_actions=n_actions,\n",
        "                                     name=\"critic_2\")\n",
        "        self.value = ValueNetwork(beta, input_dims, name='value')\n",
        "        self.target_value = ValueNetwork(beta, input_dims, name='target_value')\n",
        "        \n",
        "        self.scale =reward_scale\n",
        "        self.update_network_parameters(tau=1)\n",
        "        \n",
        "    def choose_action(self, observation):\n",
        "        state = T.tensor([observation]).to(self.actor.device)\n",
        "        actions, _ = self.actor.sample_normal(state, reparameterize= False)\n",
        "        \n",
        "        return actions.cpu().detach().numpy()[0]\n",
        "    \n",
        "    def remember(self, state, action, reward, new_state, done):\n",
        "        self.memory.store_transition(state, action, reward, new_state, done)\n",
        "        \n",
        "    def update_network_parameters(self, tau=None):\n",
        "        if tau is None:\n",
        "            tau = self.tau\n",
        "\n",
        "        target_value_params = self.target_value.named_parameters()\n",
        "        value_params = self.value.named_parameters()\n",
        "\n",
        "        target_value_state_dict = dict(target_value_params)\n",
        "        value_state_dict = dict(value_params)\n",
        "\n",
        "        for name in value_state_dict:\n",
        "            value_state_dict[name] = tau*value_state_dict[name].clone() + \\\n",
        "                    (1-tau)*target_value_state_dict[name].clone()\n",
        "\n",
        "        self.target_value.load_state_dict(value_state_dict)\n",
        "    \n",
        "    def learn(self):\n",
        "        if self.memory.mem_cntr < self.batch_size:\n",
        "            return\n",
        "\n",
        "        state, action, reward, new_state, done = \\\n",
        "                self.memory.sample_buffer(self.batch_size)\n",
        "\n",
        "        reward = T.tensor(reward, dtype=T.float).to(self.actor.device)\n",
        "        done = T.tensor(done).to(self.actor.device)\n",
        "        state_ = T.tensor(new_state, dtype=T.float).to(self.actor.device)\n",
        "        state = T.tensor(state, dtype=T.float).to(self.actor.device)\n",
        "        action = T.tensor(action, dtype=T.float).to(self.actor.device)\n",
        "\n",
        "        value = self.value(state).view(-1)\n",
        "        value_ = self.target_value(state_).view(-1)\n",
        "        value_[done] = 0.0\n",
        "\n",
        "        actions, log_probs = self.actor.sample_normal(state, reparameterize=False)\n",
        "        log_probs = log_probs.view(-1)\n",
        "        q1_new_policy = self.critic_1.forward(state, actions)\n",
        "        q2_new_policy = self.critic_2.forward(state, actions)\n",
        "        critic_value = T.min(q1_new_policy, q2_new_policy)\n",
        "        critic_value = critic_value.view(-1)\n",
        "\n",
        "        self.value.optimizer.zero_grad()\n",
        "        value_target = critic_value - log_probs\n",
        "        value_loss = 0.5 * F.mse_loss(value, value_target)\n",
        "        value_loss.backward(retain_graph=True)\n",
        "        self.value.optimizer.step()\n",
        "\n",
        "        actions, log_probs = self.actor.sample_normal(state, reparameterize=True)\n",
        "        log_probs = log_probs.view(-1)\n",
        "        q1_new_policy = self.critic_1.forward(state, actions)\n",
        "        q2_new_policy = self.critic_2.forward(state, actions)\n",
        "        critic_value = T.min(q1_new_policy, q2_new_policy)\n",
        "        critic_value = critic_value.view(-1)\n",
        "        \n",
        "        actor_loss = log_probs - critic_value\n",
        "        actor_loss = T.mean(actor_loss)\n",
        "        self.actor.optimizer.zero_grad()\n",
        "        actor_loss.backward(retain_graph=True)\n",
        "        self.actor.optimizer.step()\n",
        "\n",
        "        self.critic_1.optimizer.zero_grad()\n",
        "        self.critic_2.optimizer.zero_grad()\n",
        "        q_hat = self.scale*reward + self.gamma*value_\n",
        "        q1_old_policy = self.critic_1.forward(state, action).view(-1)\n",
        "        q2_old_policy = self.critic_2.forward(state, action).view(-1)\n",
        "        critic_1_loss = 0.5 * F.mse_loss(q1_old_policy, q_hat)\n",
        "        critic_2_loss = 0.5 * F.mse_loss(q2_old_policy, q_hat)\n",
        "\n",
        "        critic_loss = critic_1_loss + critic_2_loss\n",
        "        critic_loss.backward()\n",
        "        self.critic_1.optimizer.step()\n",
        "        self.critic_2.optimizer.step()\n",
        "\n",
        "        self.update_network_parameters()"
      ]
    },
    {
      "cell_type": "code",
      "execution_count": null,
      "metadata": {
        "colab": {
          "base_uri": "https://localhost:8080/",
          "height": 235
        },
        "id": "KkoMFzZCktWB",
        "outputId": "66090529-e378-4dba-a212-65a68ceb251d"
      },
      "outputs": [
        {
          "output_type": "error",
          "ename": "NameError",
          "evalue": "ignored",
          "traceback": [
            "\u001b[0;31m---------------------------------------------------------------------------\u001b[0m",
            "\u001b[0;31mNameError\u001b[0m                                 Traceback (most recent call last)",
            "\u001b[0;32m<ipython-input-8-a185debd8fc1>\u001b[0m in \u001b[0;36m<module>\u001b[0;34m\u001b[0m\n\u001b[0;32m----> 1\u001b[0;31m \u001b[0menv\u001b[0m \u001b[0;34m=\u001b[0m \u001b[0mgym\u001b[0m\u001b[0;34m.\u001b[0m\u001b[0mmake\u001b[0m\u001b[0;34m(\u001b[0m\u001b[0;34m'LunarLanderContinuous-v2'\u001b[0m\u001b[0;34m)\u001b[0m\u001b[0;34m\u001b[0m\u001b[0;34m\u001b[0m\u001b[0m\n\u001b[0m\u001b[1;32m      2\u001b[0m \u001b[0;34m\u001b[0m\u001b[0m\n\u001b[1;32m      3\u001b[0m agent = Agent(input_dims=env.observation_space.shape, env=env,\n\u001b[1;32m      4\u001b[0m         n_actions=env.action_space.shape[0])\n\u001b[1;32m      5\u001b[0m \u001b[0mn_games\u001b[0m \u001b[0;34m=\u001b[0m \u001b[0;36m1000\u001b[0m\u001b[0;34m\u001b[0m\u001b[0;34m\u001b[0m\u001b[0m\n",
            "\u001b[0;31mNameError\u001b[0m: name 'gym' is not defined"
          ]
        }
      ],
      "source": [
        "env = gym.make('LunarLanderContinuous-v2')\n",
        "\n",
        "agent = Agent(input_dims=env.observation_space.shape, env=env,\n",
        "        n_actions=env.action_space.shape[0])\n",
        "n_games = 1000\n",
        "# uncomment this line and do a mkdir tmp && mkdir video if you want to\n",
        "# record video of the agent playing the game.\n",
        "#env = wrappers.Monitor(env, 'tmp/video', video_callable=lambda episode_id: True, force=True)\n",
        "# filename = 'inverted_pendulum.png'\n",
        "\n",
        "# figure_file = 'plots/' + filename\n",
        "\n",
        "best_score = env.reward_range[0]\n",
        "score_history = []\n",
        "load_checkpoint = False\n",
        "\n",
        "# if load_checkpoint:\n",
        "#     agent.load_models()\n",
        "#     env.render(mode='human')\n",
        "\n",
        "for i in range(n_games):\n",
        "    observation = env.reset()\n",
        "    done = False\n",
        "    score = 0\n",
        "    while not done:\n",
        "        action = agent.choose_action(observation)\n",
        "        observation_, reward, done, info = env.step(action)\n",
        "        score += reward\n",
        "        agent.remember(observation, action, reward, observation_, done)\n",
        "        if not load_checkpoint:\n",
        "            agent.learn()\n",
        "        observation = observation_\n",
        "    score_history.append(score)\n",
        "    avg_score = np.mean(score_history[-100:])\n",
        "\n",
        "    if avg_score > best_score:\n",
        "        best_score = avg_score\n",
        "#         if not load_checkpoint:\n",
        "#             agent.save_models()\n",
        "\n",
        "    print('episode ', i, 'score %.1f' % score, 'avg_score %.1f' % avg_score)\n",
        "\n",
        "if not load_checkpoint:\n",
        "    x = [i+1 for i in range(n_games)]\n",
        "    plot_learning_curve(x, score_history)"
      ]
    },
    {
      "cell_type": "code",
      "execution_count": null,
      "metadata": {
        "colab": {
          "base_uri": "https://localhost:8080/",
          "height": 235
        },
        "id": "QIuEZeTW-WEa",
        "outputId": "4c100102-7ce9-490c-cab6-c0029bd50e14"
      },
      "outputs": [
        {
          "output_type": "error",
          "ename": "NameError",
          "evalue": "ignored",
          "traceback": [
            "\u001b[0;31m---------------------------------------------------------------------------\u001b[0m",
            "\u001b[0;31mNameError\u001b[0m                                 Traceback (most recent call last)",
            "\u001b[0;32m<ipython-input-2-00691dafd8aa>\u001b[0m in \u001b[0;36m<module>\u001b[0;34m\u001b[0m\n\u001b[0;32m----> 1\u001b[0;31m \u001b[0menv\u001b[0m \u001b[0;34m=\u001b[0m \u001b[0mgym\u001b[0m\u001b[0;34m.\u001b[0m\u001b[0mmake\u001b[0m\u001b[0;34m(\u001b[0m\u001b[0;34m'HalfCheetahPyBulletEnv-v0'\u001b[0m\u001b[0;34m)\u001b[0m\u001b[0;34m\u001b[0m\u001b[0;34m\u001b[0m\u001b[0m\n\u001b[0m\u001b[1;32m      2\u001b[0m \u001b[0;34m\u001b[0m\u001b[0m\n\u001b[1;32m      3\u001b[0m agent = Agent(input_dims=env.observation_space.shape, env=env,\n\u001b[1;32m      4\u001b[0m         n_actions=env.action_space.shape[0])\n\u001b[1;32m      5\u001b[0m \u001b[0mn_games\u001b[0m \u001b[0;34m=\u001b[0m \u001b[0;36m1000\u001b[0m\u001b[0;34m\u001b[0m\u001b[0;34m\u001b[0m\u001b[0m\n",
            "\u001b[0;31mNameError\u001b[0m: name 'gym' is not defined"
          ]
        }
      ],
      "source": [
        "env = gym.make('HalfCheetahPyBulletEnv-v0')\n",
        "\n",
        "agent = Agent(input_dims=env.observation_space.shape, env=env,\n",
        "        n_actions=env.action_space.shape[0])\n",
        "n_games = 1000\n",
        "# uncomment this line and do a mkdir tmp && mkdir video if you want to\n",
        "# record video of the agent playing the game.\n",
        "#env = wrappers.Monitor(env, 'tmp/video', video_callable=lambda episode_id: True, force=True)\n",
        "# filename = 'inverted_pendulum.png'\n",
        "\n",
        "# figure_file = 'plots/' + filename\n",
        "\n",
        "best_score = env.reward_range[0]\n",
        "score_history = []\n",
        "load_checkpoint = False\n",
        "\n",
        "# if load_checkpoint:\n",
        "#     agent.load_models()\n",
        "#     env.render(mode='human')\n",
        "\n",
        "for i in range(n_games):\n",
        "    observation = env.reset()\n",
        "    done = False\n",
        "    score = 0\n",
        "    while not done:\n",
        "        action = agent.choose_action(observation)\n",
        "        observation_, reward, done, info = env.step(action)\n",
        "        score += reward\n",
        "        agent.remember(observation, action, reward, observation_, done)\n",
        "        if not load_checkpoint:\n",
        "            agent.learn()\n",
        "        observation = observation_\n",
        "    score_history.append(score)\n",
        "    avg_score = np.mean(score_history[-100:])\n",
        "\n",
        "    if avg_score > best_score:\n",
        "        best_score = avg_score\n",
        "#         if not load_checkpoint:\n",
        "#             agent.save_models()\n",
        "\n",
        "    print('episode ', i, 'score %.1f' % score, 'avg_score %.1f' % avg_score)\n",
        "\n",
        "if not load_checkpoint:\n",
        "    x = [i+1 for i in range(n_games)]\n",
        "    plot_learning_curve(x, score_history)"
      ]
    },
    {
      "cell_type": "code",
      "execution_count": null,
      "metadata": {
        "id": "frE27wEn-m_4",
        "colab": {
          "base_uri": "https://localhost:8080/",
          "height": 281
        },
        "outputId": "a57388d0-06de-4565-fd99-eac1a9589e88"
      },
      "outputs": [
        {
          "output_type": "display_data",
          "data": {
            "text/plain": [
              "<Figure size 432x288 with 1 Axes>"
            ],
            "image/png": "[encoded data removed]"
          },
          "metadata": {
            "needs_background": "light"
          }
        }
      ],
      "source": []
    },
    {
      "cell_type": "code",
      "source": [],
      "metadata": {
        "id": "w6mIlFAhOMNA"
      },
      "execution_count": null,
      "outputs": []
    }
  ],
  "metadata": {
    "accelerator": "GPU",
    "colab": {
      "provenance": []
    },
    "gpuClass": "standard",
    "kernelspec": {
      "display_name": "Python 3",
      "name": "python3"
    },
    "language_info": {
      "name": "python"
    }
  },
  "nbformat": 4,
  "nbformat_minor": 0
}