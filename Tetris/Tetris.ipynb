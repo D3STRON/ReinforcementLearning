{
 "cells": [
  {
   "cell_type": "code",
   "execution_count": 1,
   "id": "6d7b28be",
   "metadata": {},
   "outputs": [
    {
     "name": "stdout",
     "output_type": "stream",
     "text": [
      "pygame 2.1.0 (SDL 2.0.16, Python 3.9.12)\n",
      "Hello from the pygame community. https://www.pygame.org/contribute.html\n"
     ]
    }
   ],
   "source": [
    "import numpy as np\n",
    "import torch\n",
    "import pygame\n",
    "import random\n",
    "from torch import nn\n",
    "from torch.distributions import Categorical\n",
    "import torch.nn.functional as F\n",
    "import copy\n",
    "from collections import deque\n",
    "import tqdm\n",
    "\n",
    "colors = [\n",
    "    (0, 0, 0),\n",
    "    (120, 37, 179),\n",
    "    (100, 179, 179),\n",
    "    (80, 34, 22),\n",
    "    (80, 134, 22),\n",
    "    (180, 34, 22),\n",
    "    (180, 34, 122),\n",
    "]\n"
   ]
  },
  {
   "cell_type": "code",
   "execution_count": 2,
   "id": "9db31a88",
   "metadata": {},
   "outputs": [
    {
     "data": {
      "text/plain": [
       "device(type='cuda')"
      ]
     },
     "execution_count": 2,
     "metadata": {},
     "output_type": "execute_result"
    }
   ],
   "source": [
    "device = torch.device('cuda' if torch.cuda.is_available() else 'cpu')\n",
    "device"
   ]
  },
  {
   "cell_type": "code",
   "execution_count": 3,
   "id": "cc55c998",
   "metadata": {},
   "outputs": [],
   "source": [
    "class Event():\n",
    "    type = None\n",
    "    key = None\n",
    "\n",
    "    def __init__(self, type, key):\n",
    "        self.type = type\n",
    "        self.key = key"
   ]
  },
  {
   "cell_type": "code",
   "execution_count": 4,
   "id": "1daf30b1",
   "metadata": {},
   "outputs": [],
   "source": [
    "class Figure:\n",
    "    x = 0\n",
    "    y = 0\n",
    "\n",
    "    figures = [\n",
    "        [[1, 5, 9, 13], [4, 5, 6, 7]],\n",
    "        [[4, 5, 9, 10], [2, 6, 5, 9]],\n",
    "        [[6, 7, 9, 10], [1, 5, 6, 10]],\n",
    "        [[1, 2, 5, 9], [0, 4, 5, 6], [1, 5, 9, 8], [4, 5, 6, 10]],\n",
    "        [[1, 2, 6, 10], [5, 6, 7, 9], [2, 6, 10, 11], [3, 5, 6, 7]],\n",
    "        [[1, 4, 5, 6], [1, 4, 5, 9], [4, 5, 6, 9], [1, 5, 6, 9]],\n",
    "        [[1, 2, 5, 6]],\n",
    "    ]\n",
    "\n",
    "    def __init__(self, x, y):\n",
    "        self.x = x\n",
    "        self.y = y\n",
    "        self.type = random.randint(0, len(self.figures) - 1)\n",
    "        self.color = 1\n",
    "        self.rotation = 0\n",
    "\n",
    "    def image(self):\n",
    "        return self.figures[self.type][self.rotation]\n",
    "\n",
    "    def rotate(self):\n",
    "        self.rotation = (self.rotation + 1) % len(self.figures[self.type])\n"
   ]
  },
  {
   "cell_type": "code",
   "execution_count": 5,
   "id": "30a62761",
   "metadata": {},
   "outputs": [],
   "source": [
    "class Tetris:\n",
    "    def __init__(self, height, width):\n",
    "        self.level = 2\n",
    "        self.score = 0\n",
    "        self.field = []\n",
    "        self.height = 0\n",
    "        self.width = 0\n",
    "        self.x = 100\n",
    "        self.y = 60\n",
    "        self.zoom = 20\n",
    "        self.figure = None\n",
    "    \n",
    "        self.height = height\n",
    "        self.width = width\n",
    "        self.field = []\n",
    "        self.score = 0\n",
    "        self.done = False\n",
    "        for i in range(height):\n",
    "            new_line = []\n",
    "            for j in range(width):\n",
    "                new_line.append(0)\n",
    "            self.field.append(new_line)\n",
    "            \n",
    "    def reset(self):\n",
    "        self.field = []\n",
    "        self.score = 0\n",
    "        self.done = False\n",
    "        for i in range(self.height):\n",
    "            new_line = []\n",
    "            for j in range(self.width):\n",
    "                new_line.append(0)\n",
    "            self.field.append(new_line)\n",
    "\n",
    "    def new_figure(self):\n",
    "        self.figure = Figure(3, 0)\n",
    "\n",
    "    def intersects(self, figure):\n",
    "        intersection = False\n",
    "        for i in range(4):\n",
    "            for j in range(4):\n",
    "                if i * 4 + j in figure.image():\n",
    "                    if i + figure.y > self.height - 1 or \\\n",
    "                            j + figure.x > self.width - 1 or \\\n",
    "                            j + figure.x < 0 or \\\n",
    "                            self.field[i + figure.y][j + figure.x] > 0:\n",
    "                        intersection = True\n",
    "        return intersection\n",
    "    \n",
    "    def step(self, figure):  \n",
    "        state = copy.deepcopy(self.field)\n",
    "        for i in range(4):\n",
    "            for j in range(4):\n",
    "                if i * 4 + j in figure.image():\n",
    "                    state[i + figure.y][j + figure.x] = figure.color\n",
    "        return state\n",
    "\n",
    "    def break_lines(self):\n",
    "        lines = 0\n",
    "        for i in range(0, self.height):\n",
    "            zeros = 0\n",
    "            for j in range(self.width):\n",
    "                if self.field[i][j] == 0:\n",
    "                    zeros += 1\n",
    "            if zeros == 0:\n",
    "                lines += 1\n",
    "                del self.field[i]\n",
    "                self.field.insert(0, [0]*self.width)\n",
    "        self.score += lines ** 2\n",
    "\n",
    "    def go_space(self):\n",
    "        while not self.intersects(self.figure):\n",
    "            self.figure.y += 1\n",
    "        self.figure.y -= 1\n",
    "        self.freeze()\n",
    "\n",
    "    def go_down(self):\n",
    "        self.figure.y += 1\n",
    "        if self.intersects(self.figure):\n",
    "            self.figure.y -= 1\n",
    "            self.freeze()\n",
    "\n",
    "    def freeze(self):\n",
    "        for i in range(4):\n",
    "            for j in range(4):\n",
    "                if i * 4 + j in self.figure.image():\n",
    "                    self.field[i + self.figure.y][j + self.figure.x] = self.figure.color\n",
    "        self.break_lines()\n",
    "        self.new_figure()\n",
    "        self.done =  self.intersects(self.figure)\n",
    "\n",
    "    def go_side(self, dx):\n",
    "        old_x = self.figure.x\n",
    "        self.figure.x += dx\n",
    "        intersects = self.intersects(self.figure)\n",
    "        if intersects:\n",
    "            self.figure.x = old_x\n",
    "        return intersects\n",
    "\n",
    "    def rotate(self):\n",
    "        old_rotation = self.figure.rotation\n",
    "        self.figure.rotate()\n",
    "        if self.intersects(self.figure):\n",
    "            self.figure.rotation = old_rotation\n"
   ]
  },
  {
   "cell_type": "code",
   "execution_count": 6,
   "id": "0aae5f34",
   "metadata": {},
   "outputs": [],
   "source": [
    "class NeuralNet(nn.Module):\n",
    "    def __init__(self, input_dims, hidden_dims, output_dims):\n",
    "        super(NeuralNet, self).__init__()\n",
    "\n",
    "        \"\"\" CODE HERE:\n",
    "                Implement the neural network here\n",
    "        \"\"\"\n",
    "        self.fc1 = nn.Linear(input_dims, hidden_dims)\n",
    "        self.fc2 = nn.Linear(hidden_dims, hidden_dims)\n",
    "        self.fc3 = nn.Linear(hidden_dims, output_dims)\n",
    "\n",
    "    def forward(self, x):\n",
    "        \"\"\" CODE HERE:\n",
    "                Implement the forward propagation\n",
    "        \"\"\"\n",
    "        x = F.relu(self.fc1(x))\n",
    "        x = F.relu(self.fc2(x))\n",
    "        return self.fc3(x)"
   ]
  },
  {
   "cell_type": "code",
   "execution_count": 7,
   "id": "f012570c",
   "metadata": {},
   "outputs": [],
   "source": [
    "feature_len = 11\n",
    "def get_state_properties(state):\n",
    "    tower_h = []\n",
    "    height_board = len(state)\n",
    "    width_board  = len(state[0])\n",
    "    area = height_board*width\n",
    "    lines = [1]*height_board\n",
    "    holes = []\n",
    "    for j in range(width_board):\n",
    "        tower_h.append(0)\n",
    "        holes.append(0)\n",
    "        top_reached = False\n",
    "        for i in range(height_board):\n",
    "            if state[i][j] == 0:\n",
    "                if top_reached:\n",
    "                    holes[j] += 1\n",
    "                if lines[i] == 1:\n",
    "                    lines[i] = 0\n",
    "            elif state[i][j] != 0 and not top_reached:\n",
    "                tower_h[j] = height_board - i\n",
    "                top_reached =True\n",
    "    bumps = []\n",
    "    for i in range(width_board):\n",
    "        bumps.append(0)\n",
    "        if i != width_board-1:\n",
    "            bumps[i] += abs(tower_h[i+1]-tower_h[i])\n",
    "        if i != 0:\n",
    "            bumps[i] += abs(tower_h[i-1]-tower_h[i])\n",
    "    tower_h = np.array(tower_h) - sum(lines)\n",
    "    np_feature = np.append(tower_h, sum(holes))\n",
    "    feature = torch.tensor(np_feature, dtype=torch.float32)\n",
    "    bfs_score = -sum(bumps) - 13*sum(holes)  - max(tower_h)\n",
    "    return feature, bfs_score\n",
    "\n",
    "\n",
    "def simulate(t):\n",
    "    fig = Figure(3, 0)\n",
    "    fig.type = t.figure.type\n",
    "    fig.color = t.figure.color\n",
    "    opt = float(\"-inf\")\n",
    "    opt_rotation, opt_x = 0, fig.x\n",
    "    if t.intersects(fig):\n",
    "        return opt_rotation, opt_x\n",
    "    fig.x = -3\n",
    "    for i in range(t.width + 3):\n",
    "        for j in range(len(fig.figures[fig.type])):\n",
    "            if not t.intersects(fig):\n",
    "                while not t.intersects(fig):\n",
    "                    fig.y += 1\n",
    "                fig.y-=1\n",
    "                possible_state = t.step(fig)\n",
    "                feature, score = get_state_properties(possible_state)\n",
    "################################ For RL #################################\n",
    "                score = target(feature)\n",
    "#########################################################################\n",
    "                if score > opt:\n",
    "                    opt = score\n",
    "                    opt_rotation = fig.rotation\n",
    "                    opt_x = fig.x\n",
    "                fig.y = 0\n",
    "            fig.rotate()\n",
    "        fig.x += 1\n",
    "    return opt_rotation, opt_x\n",
    "\n",
    "\n",
    "def run_ai(t):\n",
    "    rotation, x = simulate(t)\n",
    "    if t.figure.rotation != rotation:\n",
    "        t.figure.rotation = rotation\n",
    "    elif t.figure.x != x:\n",
    "        t.figure.x = x\n",
    "    else:\n",
    "        return [Event(pygame.KEYDOWN, pygame.K_SPACE)]\n",
    "    return []"
   ]
  },
  {
   "cell_type": "code",
   "execution_count": 8,
   "id": "4713ee06",
   "metadata": {},
   "outputs": [],
   "source": [
    "behavior = NeuralNet(feature_len,64,1)\n",
    "target = NeuralNet(feature_len,64,1)\n",
    "\n",
    "target.load_state_dict(behavior.state_dict())\n",
    "\n",
    "# Preffered way\n",
    "FILE = \"model.pth\"\n",
    "torch.save(target, FILE)"
   ]
  },
  {
   "cell_type": "code",
   "execution_count": 8,
   "id": "97fa4e39",
   "metadata": {},
   "outputs": [],
   "source": [
    "learning_rate = 1e-3\n",
    "FILE = \"model.pth\"\n",
    "# model must be created agin with parameters\n",
    "behavior = torch.load(FILE)\n",
    "target = NeuralNet(feature_len,64,1)\n",
    "target.load_state_dict(behavior.state_dict())\n",
    "optimizer = torch.optim.AdamW(behavior.parameters(), lr=learning_rate)\n",
    "criterion = nn.MSELoss()"
   ]
  },
  {
   "cell_type": "code",
   "execution_count": 9,
   "id": "88402759",
   "metadata": {},
   "outputs": [],
   "source": [
    "replay_memory = deque(maxlen=30000)\n",
    "scores = deque(maxlen=100)\n",
    "\n",
    "height = 20\n",
    "width = 10\n",
    "env = Tetris(height, width)\n",
    "\n",
    "gamma = 0.99\n",
    "epsilon = 1\n",
    "eps_dec = 1e-4\n",
    "eps_min = 1e-2\n",
    "batch_size = 512"
   ]
  },
  {
   "cell_type": "code",
   "execution_count": 10,
   "id": "7eb301c0",
   "metadata": {},
   "outputs": [],
   "source": [
    "def simulate_RL(t, isRandom):\n",
    "    fig = Figure(3, 0)\n",
    "    reward, best_state, best_feature, done = -300, None, torch.zeros(feature_len), True\n",
    "    if t.intersects(fig):\n",
    "        return best_state, best_feature, reward, done\n",
    "    fig.x = -3\n",
    "    fig.type = t.figure.type\n",
    "    fig.color = t.figure.color\n",
    "    opt = float(\"-inf\")\n",
    "    states, features, rewards = [], [], []\n",
    "    for i in range(t.width + 3):\n",
    "        for j in range(len(fig.figures[fig.type])):\n",
    "            if not t.intersects(fig):\n",
    "                while not t.intersects(fig):\n",
    "                    fig.y += 1\n",
    "                fig.y-=1\n",
    "                done = False\n",
    "                reward = 1\n",
    "                state = t.step(fig)\n",
    "                feature, _ = get_state_properties(state)\n",
    "                score = behavior(feature)\n",
    "                if score > opt:\n",
    "                    opt = score\n",
    "                    best_state = state\n",
    "                    best_feature = feature\n",
    "                states.append(state)\n",
    "                features.append(feature)\n",
    "                fig.y = 0\n",
    "            fig.rotate()\n",
    "        fig.x += 1\n",
    "    if isRandom and not done:\n",
    "        index = random.randint(0, len(states) - 1)\n",
    "        return states[index], features[index], 1, done\n",
    "    return best_state, best_feature, reward, done\n",
    "\n",
    "def train(eps):\n",
    "    pbar = tqdm.trange(100000) \n",
    "    for t in pbar:\n",
    "        env.reset()\n",
    "        feature = torch.zeros(feature_len)\n",
    "        eps =  eps - eps_dec if eps > eps_min else eps_min\n",
    "        score = 0\n",
    "        while True:\n",
    "            random_action =  random.random() <= eps\n",
    "            env.new_figure()\n",
    "            next_state, next_feature, reward, done = simulate_RL(env, random_action)\n",
    "            score += reward\n",
    "            \n",
    "            replay_memory.append((feature, reward, next_feature, done))\n",
    "            \n",
    "            if done:\n",
    "                scores.append(score)\n",
    "                break\n",
    "            env.field = next_state\n",
    "            env.break_lines()\n",
    "            feature = next_feature\n",
    "        batch = random.sample(replay_memory, min(len(replay_memory), batch_size))\n",
    "        feature_batch, reward_batch, next_feature_batch, done_batch = zip(*batch)\n",
    "        feature_batch = torch.stack(tuple(feat for feat in feature_batch))\n",
    "        reward_batch = torch.from_numpy(np.array(reward_batch, dtype=np.float32)[:, None])\n",
    "        next_feature_batch = torch.stack(tuple(feat for feat in next_feature_batch))\n",
    "\n",
    "        q_values = behavior(feature_batch)\n",
    "        with torch.no_grad():\n",
    "            next_prediction_batch = target(next_feature_batch)\n",
    "\n",
    "        y_batch = torch.cat(\n",
    "                tuple(reward if done else reward + gamma * prediction for reward, done, prediction in\n",
    "                      zip(reward_batch, done_batch, next_prediction_batch)))[:, None]\n",
    "        optimizer.zero_grad()\n",
    "        loss = criterion(q_values, y_batch)\n",
    "        loss.backward()\n",
    "        optimizer.step()\n",
    "        if t%100 ==0:\n",
    "            print(\"mean:\",np.mean(scores), \"std:\", np.std(scores), eps)\n",
    "            target.load_state_dict(behavior.state_dict())\n",
    "            torch.save(target, FILE)\n"
   ]
  },
  {
   "cell_type": "code",
   "execution_count": 26,
   "id": "932a1284",
   "metadata": {
    "scrolled": false
   },
   "outputs": [
    {
     "name": "stderr",
     "output_type": "stream",
     "text": [
      "  0%|                                                                           | 1/100000 [00:07<213:01:11,  7.67s/it]"
     ]
    },
    {
     "name": "stdout",
     "output_type": "stream",
     "text": [
      "mean: 159.19 std: 278.83312912923384 0.01\n"
     ]
    },
    {
     "name": "stderr",
     "output_type": "stream",
     "text": [
      "  0%|                                                                         | 101/100000 [05:46<152:11:43,  5.48s/it]"
     ]
    },
    {
     "name": "stdout",
     "output_type": "stream",
     "text": [
      "mean: 164.12 std: 273.7453298231771 0.01\n"
     ]
    },
    {
     "name": "stderr",
     "output_type": "stream",
     "text": [
      "  0%|▏                                                                        | 201/100000 [11:20<104:47:41,  3.78s/it]"
     ]
    },
    {
     "name": "stdout",
     "output_type": "stream",
     "text": [
      "mean: 156.74 std: 300.92376509674335 0.01\n"
     ]
    },
    {
     "name": "stderr",
     "output_type": "stream",
     "text": [
      "  0%|▏                                                                         | 301/100000 [16:48<87:48:31,  3.17s/it]"
     ]
    },
    {
     "name": "stdout",
     "output_type": "stream",
     "text": [
      "mean: 131.34 std: 241.51891106081112 0.01\n"
     ]
    },
    {
     "name": "stderr",
     "output_type": "stream",
     "text": [
      "  0%|▎                                                                        | 401/100000 [22:10<104:53:53,  3.79s/it]"
     ]
    },
    {
     "name": "stdout",
     "output_type": "stream",
     "text": [
      "mean: 139.16 std: 254.71685142526397 0.01\n"
     ]
    },
    {
     "name": "stderr",
     "output_type": "stream",
     "text": [
      "  1%|▎                                                                        | 501/100000 [27:49<126:17:23,  4.57s/it]"
     ]
    },
    {
     "name": "stdout",
     "output_type": "stream",
     "text": [
      "mean: 169.68 std: 271.5414841235128 0.01\n"
     ]
    },
    {
     "name": "stderr",
     "output_type": "stream",
     "text": [
      "  1%|▍                                                                         | 601/100000 [34:11<73:20:43,  2.66s/it]"
     ]
    },
    {
     "name": "stdout",
     "output_type": "stream",
     "text": [
      "mean: 231.2 std: 338.1874628072424 0.01\n"
     ]
    },
    {
     "name": "stderr",
     "output_type": "stream",
     "text": [
      "  1%|▌                                                                        | 701/100000 [39:58<143:28:11,  5.20s/it]"
     ]
    },
    {
     "name": "stdout",
     "output_type": "stream",
     "text": [
      "mean: 181.28 std: 300.0226351460836 0.01\n"
     ]
    },
    {
     "name": "stderr",
     "output_type": "stream",
     "text": [
      "  1%|▌                                                                         | 768/100000 [43:26<93:33:29,  3.39s/it]\n"
     ]
    },
    {
     "ename": "KeyboardInterrupt",
     "evalue": "",
     "output_type": "error",
     "traceback": [
      "\u001b[1;31m---------------------------------------------------------------------------\u001b[0m",
      "\u001b[1;31mKeyboardInterrupt\u001b[0m                         Traceback (most recent call last)",
      "Input \u001b[1;32mIn [26]\u001b[0m, in \u001b[0;36m<cell line: 1>\u001b[1;34m()\u001b[0m\n\u001b[1;32m----> 1\u001b[0m \u001b[43mtrain\u001b[49m\u001b[43m(\u001b[49m\u001b[38;5;241;43m0.01\u001b[39;49m\u001b[43m)\u001b[49m\n",
      "Input \u001b[1;32mIn [10]\u001b[0m, in \u001b[0;36mtrain\u001b[1;34m(eps)\u001b[0m\n\u001b[0;32m     44\u001b[0m random_action \u001b[38;5;241m=\u001b[39m  random\u001b[38;5;241m.\u001b[39mrandom() \u001b[38;5;241m<\u001b[39m\u001b[38;5;241m=\u001b[39m eps\n\u001b[0;32m     45\u001b[0m env\u001b[38;5;241m.\u001b[39mnew_figure()\n\u001b[1;32m---> 46\u001b[0m next_state, next_feature, reward, done \u001b[38;5;241m=\u001b[39m \u001b[43msimulate_RL\u001b[49m\u001b[43m(\u001b[49m\u001b[43menv\u001b[49m\u001b[43m,\u001b[49m\u001b[43m \u001b[49m\u001b[43mrandom_action\u001b[49m\u001b[43m)\u001b[49m\n\u001b[0;32m     47\u001b[0m score \u001b[38;5;241m+\u001b[39m\u001b[38;5;241m=\u001b[39m reward\n\u001b[0;32m     49\u001b[0m replay_memory\u001b[38;5;241m.\u001b[39mappend((feature, reward, next_feature, done))\n",
      "Input \u001b[1;32mIn [10]\u001b[0m, in \u001b[0;36msimulate_RL\u001b[1;34m(t, isRandom)\u001b[0m\n\u001b[0;32m     18\u001b[0m reward \u001b[38;5;241m=\u001b[39m \u001b[38;5;241m1\u001b[39m\n\u001b[0;32m     19\u001b[0m state \u001b[38;5;241m=\u001b[39m t\u001b[38;5;241m.\u001b[39mstep(fig)\n\u001b[1;32m---> 20\u001b[0m feature, _ \u001b[38;5;241m=\u001b[39m \u001b[43mget_state_properties\u001b[49m\u001b[43m(\u001b[49m\u001b[43mstate\u001b[49m\u001b[43m)\u001b[49m\n\u001b[0;32m     21\u001b[0m score \u001b[38;5;241m=\u001b[39m behavior(feature)\n\u001b[0;32m     22\u001b[0m \u001b[38;5;28;01mif\u001b[39;00m score \u001b[38;5;241m>\u001b[39m opt:\n",
      "Input \u001b[1;32mIn [7]\u001b[0m, in \u001b[0;36mget_state_properties\u001b[1;34m(state)\u001b[0m\n\u001b[0;32m     29\u001b[0m tower_h \u001b[38;5;241m=\u001b[39m np\u001b[38;5;241m.\u001b[39marray(tower_h) \u001b[38;5;241m-\u001b[39m \u001b[38;5;28msum\u001b[39m(lines)\n\u001b[0;32m     30\u001b[0m np_feature \u001b[38;5;241m=\u001b[39m np\u001b[38;5;241m.\u001b[39mappend(tower_h, \u001b[38;5;28msum\u001b[39m(holes))\n\u001b[1;32m---> 31\u001b[0m feature \u001b[38;5;241m=\u001b[39m \u001b[43mtorch\u001b[49m\u001b[38;5;241;43m.\u001b[39;49m\u001b[43mtensor\u001b[49m\u001b[43m(\u001b[49m\u001b[43mnp_feature\u001b[49m\u001b[43m,\u001b[49m\u001b[43m \u001b[49m\u001b[43mdtype\u001b[49m\u001b[38;5;241;43m=\u001b[39;49m\u001b[43mtorch\u001b[49m\u001b[38;5;241;43m.\u001b[39;49m\u001b[43mfloat32\u001b[49m\u001b[43m)\u001b[49m\n\u001b[0;32m     32\u001b[0m bfs_score \u001b[38;5;241m=\u001b[39m \u001b[38;5;241m-\u001b[39m\u001b[38;5;28msum\u001b[39m(bumps) \u001b[38;5;241m-\u001b[39m \u001b[38;5;241m13\u001b[39m\u001b[38;5;241m*\u001b[39m\u001b[38;5;28msum\u001b[39m(holes)  \u001b[38;5;241m-\u001b[39m \u001b[38;5;28mmax\u001b[39m(tower_h)\n\u001b[0;32m     33\u001b[0m \u001b[38;5;28;01mreturn\u001b[39;00m feature, bfs_score\n",
      "\u001b[1;31mKeyboardInterrupt\u001b[0m: "
     ]
    }
   ],
   "source": [
    "train(0.01)"
   ]
  },
  {
   "cell_type": "code",
   "execution_count": 23,
   "id": "d7c5e692",
   "metadata": {},
   "outputs": [
    {
     "name": "stderr",
     "output_type": "stream",
     "text": [
      "100%|████████████████████████████████████████████████████████████████████████████████████| 1/1 [00:04<00:00,  4.38s/it]"
     ]
    },
    {
     "name": "stdout",
     "output_type": "stream",
     "text": [
      "///////////Game Over//////////////////\n",
      "327\n"
     ]
    },
    {
     "name": "stderr",
     "output_type": "stream",
     "text": [
      "\n"
     ]
    }
   ],
   "source": [
    "env= Tetris(20, 10)\n",
    "pbar = tqdm.trange(1)\n",
    "for t in pbar:\n",
    "    env.reset() \n",
    "    feature = torch.zeros(feature_len).float()\n",
    "    score = 0\n",
    "    while True:\n",
    "        random_action =  random.random() <= eps_min\n",
    "        env.new_figure()\n",
    "        next_state, next_feature, reward, done = simulate_RL(env, random_action)\n",
    "        score += reward\n",
    "        if done:\n",
    "            scores.append(score)\n",
    "            print(\"///////////Game Over//////////////////\")\n",
    "            break\n",
    "        env.field = next_state\n",
    "        env.break_lines()\n",
    "#         print(\"\")\n",
    "#         for row in env.field:\n",
    "#             print(row)\n",
    "#         print(next_feature, reward)\n",
    "        feature = next_feature\n",
    "print(score)"
   ]
  },
  {
   "cell_type": "code",
   "execution_count": 22,
   "id": "598f5b39",
   "metadata": {},
   "outputs": [
    {
     "name": "stdout",
     "output_type": "stream",
     "text": [
      "Input:q\n"
     ]
    }
   ],
   "source": [
    "t = Tetris(20,10)\n",
    "\n",
    "while True:\n",
    "    sentence = input(\"Input:\")\n",
    "    if sentence ==\"q\":\n",
    "        break\n",
    "    if t.figure is None:\n",
    "        t.new_figure()\n",
    "    if sentence == \"u\":\n",
    "        t.rotate()\n",
    "    elif sentence == \"l\":\n",
    "        t.go_side(-1)\n",
    "    elif sentence == \"r\":\n",
    "        t.go_side(1)\n",
    "    elif sentence == \"s\":\n",
    "        t.go_space()\n",
    "    print(simulate(t))\n",
    "    t.go_down()\n",
    "    print()\n",
    "    for row in t.field:\n",
    "        print(row)"
   ]
  },
  {
   "cell_type": "code",
   "execution_count": 27,
   "id": "e9fd0a68",
   "metadata": {},
   "outputs": [],
   "source": [
    "# Initialize the game engine\n",
    "pygame.init()\n",
    "\n",
    "# Define some colors\n",
    "BLACK = (0, 0, 0)\n",
    "WHITE = (255, 255, 255)\n",
    "GRAY = (128, 128, 128)\n",
    "\n",
    "size = (400, 500)\n",
    "screen = pygame.display.set_mode(size)\n",
    "\n",
    "pygame.display.set_caption(\"Tetris\")\n",
    "\n",
    "# Loop until the user clicks the close button.\n",
    "done = False\n",
    "clock = pygame.time.Clock()\n",
    "fps = 10\n",
    "game = Tetris(20, 10)\n",
    "counter = 0\n",
    "\n",
    "pressing_down = False\n",
    "\n",
    "while not done:\n",
    "    if game.figure is None:\n",
    "        game.new_figure()\n",
    "    counter += 1\n",
    "    if counter > 100000:\n",
    "        counter = 0\n",
    "\n",
    "    if counter % (fps // game.level // 2) == 0 or pressing_down:\n",
    "        if not game.done:\n",
    "            game.go_down()\n",
    "\n",
    "    for event in list(pygame.event.get()) + run_ai(game):\n",
    "        if event.type == pygame.QUIT:\n",
    "            done = True\n",
    "        if event.type == pygame.KEYDOWN:\n",
    "            if event.key == pygame.K_UP:\n",
    "                game.rotate()\n",
    "            if event.key == pygame.K_DOWN:\n",
    "                pressing_down = True\n",
    "            if event.key == pygame.K_LEFT:\n",
    "                game.go_side(-1)\n",
    "            if event.key == pygame.K_RIGHT:\n",
    "                game.go_side(1)\n",
    "            if event.key == pygame.K_SPACE:\n",
    "                game.go_space()\n",
    "            if event.key == pygame.K_ESCAPE:\n",
    "                game.__init__(20, 10)\n",
    "\n",
    "    if event.type == pygame.KEYUP:\n",
    "            if event.key == pygame.K_DOWN:\n",
    "                pressing_down = False\n",
    "\n",
    "    screen.fill(WHITE)\n",
    "\n",
    "    for i in range(game.height):\n",
    "        for j in range(game.width):\n",
    "            pygame.draw.rect(screen, GRAY, [game.x + game.zoom * j, game.y + game.zoom * i, game.zoom, game.zoom], 1)\n",
    "            if game.field[i][j] > 0:\n",
    "                pygame.draw.rect(screen, colors[game.field[i][j]],\n",
    "                                 [game.x + game.zoom * j + 1, game.y + game.zoom * i + 1, game.zoom - 2, game.zoom - 1])\n",
    "    \n",
    "    if game.figure is not None:\n",
    "        for i in range(4):\n",
    "            for j in range(4):\n",
    "                p = i * 4 + j\n",
    "                if p in game.figure.image():\n",
    "                    pygame.draw.rect(screen, colors[game.figure.color],\n",
    "                                     [game.x + game.zoom * (j + game.figure.x) + 1,\n",
    "                                      game.y + game.zoom * (i + game.figure.y) + 1,\n",
    "                                      game.zoom - 2, game.zoom - 2])\n",
    "\n",
    "    font = pygame.font.SysFont('Calibri', 25, True, False)\n",
    "    font1 = pygame.font.SysFont('Calibri', 65, True, False)\n",
    "    text = font.render(\"Score: \" + str(game.score), True, BLACK)\n",
    "    text_game_over = font1.render(\"Game Over\", True, (255, 125, 0))\n",
    "    text_game_over1 = font1.render(\"Press ESC\", True, (255, 215, 0))\n",
    "\n",
    "    screen.blit(text, [0, 0])\n",
    "    if game.done:\n",
    "        screen.blit(text_game_over, [20, 200])\n",
    "        screen.blit(text_game_over1, [25, 265])\n",
    "\n",
    "    pygame.display.flip()\n",
    "    clock.tick(fps)\n",
    "\n",
    "pygame.quit()"
   ]
  },
  {
   "cell_type": "code",
   "execution_count": null,
   "id": "91424cf2",
   "metadata": {},
   "outputs": [],
   "source": []
  }
 ],
 "metadata": {
  "kernelspec": {
   "display_name": "Python 3 (ipykernel)",
   "language": "python",
   "name": "python3"
  },
  "language_info": {
   "codemirror_mode": {
    "name": "ipython",
    "version": 3
   },
   "file_extension": ".py",
   "mimetype": "text/x-python",
   "name": "python",
   "nbconvert_exporter": "python",
   "pygments_lexer": "ipython3",
   "version": "3.9.12"
  }
 },
 "nbformat": 4,
 "nbformat_minor": 5
}
