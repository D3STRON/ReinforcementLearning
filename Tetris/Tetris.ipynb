{
 "cells": [
  {
   "cell_type": "code",
   "execution_count": 37,
   "id": "6d7b28be",
   "metadata": {},
   "outputs": [],
   "source": [
    "import numpy as np\n",
    "import torch\n",
    "import pygame\n",
    "import random\n",
    "from torch import nn\n",
    "from torch.distributions import Categorical\n",
    "import torch.nn.functional as F\n",
    "import copy\n",
    "from collections import deque\n",
    "import tqdm\n",
    "\n",
    "colors = [\n",
    "    (0, 0, 0),\n",
    "    (120, 37, 179),\n",
    "    (100, 179, 179),\n",
    "    (80, 34, 22),\n",
    "    (80, 134, 22),\n",
    "    (180, 34, 22),\n",
    "    (180, 34, 122),\n",
    "]\n"
   ]
  },
  {
   "cell_type": "code",
   "execution_count": 38,
   "id": "9db31a88",
   "metadata": {},
   "outputs": [
    {
     "data": {
      "text/plain": [
       "device(type='cuda')"
      ]
     },
     "execution_count": 38,
     "metadata": {},
     "output_type": "execute_result"
    }
   ],
   "source": [
    "device = torch.device('cuda' if torch.cuda.is_available() else 'cpu')\n",
    "device"
   ]
  },
  {
   "cell_type": "code",
   "execution_count": 39,
   "id": "cc55c998",
   "metadata": {},
   "outputs": [],
   "source": [
    "class Event():\n",
    "    type = None\n",
    "    key = None\n",
    "\n",
    "    def __init__(self, type, key):\n",
    "        self.type = type\n",
    "        self.key = key"
   ]
  },
  {
   "cell_type": "code",
   "execution_count": 40,
   "id": "1daf30b1",
   "metadata": {},
   "outputs": [],
   "source": [
    "class Figure:\n",
    "    x = 0\n",
    "    y = 0\n",
    "\n",
    "    figures = [\n",
    "        [[1, 5, 9, 13], [4, 5, 6, 7]],\n",
    "        [[4, 5, 9, 10], [2, 6, 5, 9]],\n",
    "        [[6, 7, 9, 10], [1, 5, 6, 10]],\n",
    "        [[1, 2, 5, 9], [0, 4, 5, 6], [1, 5, 9, 8], [4, 5, 6, 10]],\n",
    "        [[1, 2, 6, 10], [5, 6, 7, 9], [2, 6, 10, 11], [3, 5, 6, 7]],\n",
    "        [[1, 4, 5, 6], [1, 4, 5, 9], [4, 5, 6, 9], [1, 5, 6, 9]],\n",
    "        [[1, 2, 5, 6]],\n",
    "    ]\n",
    "\n",
    "    def __init__(self, x, y):\n",
    "        self.x = x\n",
    "        self.y = y\n",
    "        self.type = random.randint(0, len(self.figures) - 1)\n",
    "        self.color = 1\n",
    "        self.rotation = 0\n",
    "\n",
    "    def image(self):\n",
    "        return self.figures[self.type][self.rotation]\n",
    "\n",
    "    def rotate(self):\n",
    "        self.rotation = (self.rotation + 1) % len(self.figures[self.type])\n"
   ]
  },
  {
   "cell_type": "code",
   "execution_count": 41,
   "id": "30a62761",
   "metadata": {},
   "outputs": [],
   "source": [
    "class Tetris:\n",
    "    def __init__(self, height, width):\n",
    "        self.level = 2\n",
    "        self.score = 0\n",
    "        self.field = []\n",
    "        self.height = 0\n",
    "        self.width = 0\n",
    "        self.x = 100\n",
    "        self.y = 60\n",
    "        self.zoom = 20\n",
    "        self.figure = None\n",
    "    \n",
    "        self.height = height\n",
    "        self.width = width\n",
    "        self.field = []\n",
    "        self.score = 0\n",
    "        self.done = False\n",
    "        for i in range(height):\n",
    "            new_line = []\n",
    "            for j in range(width):\n",
    "                new_line.append(0)\n",
    "            self.field.append(new_line)\n",
    "            \n",
    "    def reset(self):\n",
    "        self.field = []\n",
    "        self.score = 0\n",
    "        self.done = False\n",
    "        for i in range(self.height):\n",
    "            new_line = []\n",
    "            for j in range(self.width):\n",
    "                new_line.append(0)\n",
    "            self.field.append(new_line)\n",
    "\n",
    "    def new_figure(self):\n",
    "        self.figure = Figure(3, 0)\n",
    "\n",
    "    def intersects(self, figure):\n",
    "        intersection = False\n",
    "        for i in range(4):\n",
    "            for j in range(4):\n",
    "                if i * 4 + j in figure.image():\n",
    "                    if i + figure.y > self.height - 1 or \\\n",
    "                            j + figure.x > self.width - 1 or \\\n",
    "                            j + figure.x < 0 or \\\n",
    "                            self.field[i + figure.y][j + figure.x] > 0:\n",
    "                        intersection = True\n",
    "        return intersection\n",
    "    \n",
    "    def step(self, figure):  \n",
    "        state = copy.deepcopy(self.field)\n",
    "        for i in range(4):\n",
    "            for j in range(4):\n",
    "                if i * 4 + j in figure.image():\n",
    "                    state[i + figure.y][j + figure.x] = figure.color\n",
    "#         print(\"/////////////////////////\")\n",
    "#         for row in state:\n",
    "#             print(row)\n",
    "        return state\n",
    "\n",
    "    def break_lines(self):\n",
    "        lines = 0\n",
    "        for i in range(1, self.height):\n",
    "            zeros = 0\n",
    "            for j in range(self.width):\n",
    "                if self.field[i][j] == 0:\n",
    "                    zeros += 1\n",
    "            if zeros == 0:\n",
    "                lines += 1\n",
    "                for i1 in range(i, 1, -1):\n",
    "                    for j in range(self.width):\n",
    "                        self.field[i1][j] = self.field[i1 - 1][j]\n",
    "        self.score += lines ** 2\n",
    "\n",
    "    def go_space(self):\n",
    "        while not self.intersects(self.figure):\n",
    "            self.figure.y += 1\n",
    "        self.figure.y -= 1\n",
    "        self.freeze()\n",
    "\n",
    "    def go_down(self):\n",
    "        self.figure.y += 1\n",
    "        if self.intersects(self.figure):\n",
    "            self.figure.y -= 1\n",
    "            self.freeze()\n",
    "\n",
    "    def freeze(self):\n",
    "        for i in range(4):\n",
    "            for j in range(4):\n",
    "                if i * 4 + j in self.figure.image():\n",
    "                    self.field[i + self.figure.y][j + self.figure.x] = self.figure.color\n",
    "        self.break_lines()\n",
    "        self.new_figure()\n",
    "        self.done =  self.intersects(self.figure)\n",
    "\n",
    "    def go_side(self, dx):\n",
    "        old_x = self.figure.x\n",
    "        self.figure.x += dx\n",
    "        intersects = self.intersects(self.figure)\n",
    "        if intersects:\n",
    "            self.figure.x = old_x\n",
    "        return intersects\n",
    "\n",
    "    def rotate(self):\n",
    "        old_rotation = self.figure.rotation\n",
    "        self.figure.rotate()\n",
    "        if self.intersects(self.figure):\n",
    "            self.figure.rotation = old_rotation\n"
   ]
  },
  {
   "cell_type": "code",
   "execution_count": 42,
   "id": "0aae5f34",
   "metadata": {},
   "outputs": [],
   "source": [
    "class NeuralNet(nn.Module):\n",
    "    def __init__(self, input_dims, hidden_dims, output_dims):\n",
    "        super(NeuralNet, self).__init__()\n",
    "\n",
    "        \"\"\" CODE HERE:\n",
    "                Implement the neural network here\n",
    "        \"\"\"\n",
    "        self.fc1 = nn.Linear(input_dims, hidden_dims)\n",
    "        self.fc2 = nn.Linear(hidden_dims, hidden_dims)\n",
    "        self.fc3 = nn.Linear(hidden_dims, output_dims)\n",
    "\n",
    "    def forward(self, x):\n",
    "        \"\"\" CODE HERE:\n",
    "                Implement the forward propagation\n",
    "        \"\"\"\n",
    "        x = F.relu(self.fc1(x))\n",
    "        x = F.relu(self.fc2(x))\n",
    "        return self.fc3(x)"
   ]
  },
  {
   "cell_type": "code",
   "execution_count": 16,
   "id": "4713ee06",
   "metadata": {},
   "outputs": [],
   "source": [
    "feature_len = 5\n",
    "behavior = NeuralNet(feature_len,64,1)\n",
    "target = NeuralNet(feature_len,64,1)\n",
    "\n",
    "target.load_state_dict(behavior.state_dict())\n",
    "\n",
    "# Preffered way\n",
    "FILE = \"model.pth\"\n",
    "torch.save(target, FILE)"
   ]
  },
  {
   "cell_type": "code",
   "execution_count": 17,
   "id": "f012570c",
   "metadata": {},
   "outputs": [],
   "source": [
    "def get_state_properties(state):\n",
    "    tower_h = []\n",
    "    height_board = len(state)\n",
    "    width_board  = len(state[0])\n",
    "    area = height_board*width\n",
    "    lines = [1]*height_board\n",
    "    holes = []\n",
    "    for j in range(width_board):\n",
    "        tower_h.append(0)\n",
    "        holes.append(0)\n",
    "        top_reached = False\n",
    "        for i in range(height_board):\n",
    "            if state[i][j] == 0:\n",
    "                if top_reached:\n",
    "                    holes[j] += 1\n",
    "                if lines[i] == 1:\n",
    "                    lines[i] = 0\n",
    "            elif state[i][j] != 0 and not top_reached:\n",
    "                tower_h[j] = height_board - i\n",
    "                top_reached =True\n",
    "    bumps = []\n",
    "    for i in range(width_board):\n",
    "        bumps.append(0)\n",
    "        if i != width_board-1:\n",
    "            bumps[i] += abs(tower_h[i+1]-tower_h[i])\n",
    "        if i != 0:\n",
    "            bumps[i] += abs(tower_h[i-1]-tower_h[i])\n",
    "    tower_h = np.array(tower_h) - sum(lines)\n",
    "    feature = torch.tensor([sum(bumps), sum(holes), sum(tower_h), max(tower_h), sum(lines)], dtype=torch.float32)\n",
    "    return feature, sum(lines)*10\n",
    "\n",
    "\n",
    "def get_bfs_score(state):\n",
    "    feature, _ = get_state_properties(state)\n",
    "    return -feature[0].item() - 13*feature[1].item()  - feature[3].item()\n",
    "\n",
    "def simulate(t):\n",
    "    fig = Figure(3, 0)\n",
    "    fig.type = t.figure.type\n",
    "    fig.color = t.figure.color\n",
    "    opt = float(\"-inf\")\n",
    "    opt_rotation, opt_x = 0, fig.x\n",
    "    if t.intersects(fig):\n",
    "        return opt_rotation, opt_x\n",
    "    fig.x = -3\n",
    "    for i in range(t.width + 3):\n",
    "        for j in range(len(fig.figures[fig.type])):\n",
    "            if not t.intersects(fig):\n",
    "                while not t.intersects(fig):\n",
    "                    fig.y += 1\n",
    "                fig.y-=1\n",
    "                possible_state = t.step(fig)\n",
    "#                 score = get_bfs_score(possible_state)\n",
    "                \n",
    "                feature, _ = get_state_properties(possible_state)\n",
    "                score = target(feature)\n",
    "                if score > opt:\n",
    "                    opt = score\n",
    "                    opt_rotation = fig.rotation\n",
    "                    opt_x = fig.x\n",
    "                fig.y = 0\n",
    "            fig.rotate()\n",
    "        fig.x += 1\n",
    "    return opt_rotation, opt_x\n",
    "\n",
    "\n",
    "def run_ai(t):\n",
    "    rotation, x = simulate(t)\n",
    "    if t.figure.rotation != rotation:\n",
    "        return [Event(pygame.KEYDOWN, pygame.K_UP)]\n",
    "    elif t.figure.x < x:\n",
    "        return [Event(pygame.KEYDOWN, pygame.K_RIGHT)]\n",
    "    elif t.figure.x > x:\n",
    "        return [Event(pygame.KEYDOWN, pygame.K_LEFT)]\n",
    "    else:\n",
    "        return [Event(pygame.KEYDOWN, pygame.K_SPACE)]\n",
    "    return []"
   ]
  },
  {
   "cell_type": "code",
   "execution_count": 20,
   "id": "97fa4e39",
   "metadata": {},
   "outputs": [],
   "source": [
    "feature_len = 5\n",
    "FILE = \"model.pth\"\n",
    "# model must be created agin with parameters\n",
    "behavior = torch.load(FILE)\n",
    "target = NeuralNet(feature_len,64,1)\n",
    "target.load_state_dict(behavior.state_dict())\n",
    "\n",
    "width = 10\n",
    "height = 20\n",
    "\n",
    "env = Tetris(height, width)\n",
    "\n",
    "learning_rate = 5e-4\n",
    "gamma = 0.99\n",
    "epsilon = 1\n",
    "eps_dec = 1e-4\n",
    "eps_min = 0.001\n",
    "optimizer = torch.optim.AdamW(behavior.parameters(), lr=learning_rate)\n",
    "criterion = nn.MSELoss()\n",
    "\n",
    "replay_memory = deque(maxlen=30000)\n",
    "scores = deque(maxlen=100)\n",
    "batch_size = 512"
   ]
  },
  {
   "cell_type": "code",
   "execution_count": 21,
   "id": "7eb301c0",
   "metadata": {},
   "outputs": [],
   "source": [
    "n_episodes = 100000\n",
    "def simulate_RL(t, isRandom):\n",
    "    fig = Figure(3, 0)\n",
    "    reward, best_state, best_feature, done = -300, None, torch.zeros(feature_len), True\n",
    "    if t.intersects(fig):\n",
    "        return best_state, best_feature, reward, done\n",
    "    fig.x = -3\n",
    "    fig.type = t.figure.type\n",
    "    fig.color = t.figure.color\n",
    "    opt = float(\"-inf\")\n",
    "    states, features, rewards = [], [], []\n",
    "    for i in range(t.width + 3):\n",
    "        for j in range(len(fig.figures[fig.type])):\n",
    "            if not t.intersects(fig):\n",
    "                while not t.intersects(fig):\n",
    "                    fig.y += 1\n",
    "                fig.y-=1\n",
    "                done = False\n",
    "                state = t.step(fig)\n",
    "                feature, r = get_state_properties(state)\n",
    "                score = behavior(feature)\n",
    "                if score > opt:\n",
    "                    opt = score\n",
    "                    reward = r\n",
    "                    best_state = state\n",
    "                    best_feature = feature\n",
    "                states.append(state)\n",
    "                features.append(feature)\n",
    "                rewards.append(r)\n",
    "                fig.y = 0\n",
    "            fig.rotate()\n",
    "        fig.x += 1\n",
    "    if isRandom and not done:\n",
    "        index = random.randint(0, len(states) - 1)\n",
    "        return states[index], features[index], rewards[index], done\n",
    "    return best_state, best_feature, reward, done\n",
    "\n",
    "def train(eps):\n",
    "    pbar = tqdm.trange(n_episodes)\n",
    "    for t in pbar:\n",
    "        env.reset()\n",
    "        feature = torch.zeros(feature_len)\n",
    "        eps =  eps - eps_dec \\\n",
    "                if eps > eps_min else eps_min\n",
    "        score = 0\n",
    "        while True:\n",
    "            random_action =  random.random() <= eps\n",
    "            env.new_figure()\n",
    "            next_state, next_feature, reward, done = simulate_RL(env, random_action)\n",
    "            score += reward\n",
    "\n",
    "            replay_memory.append((feature, reward, next_feature, done))\n",
    "            feature = next_feature\n",
    "            batch = random.sample(replay_memory, min(len(replay_memory), batch_size))\n",
    "            feature_batch, reward_batch, next_feature_batch, done_batch = zip(*batch)\n",
    "            feature_batch = torch.stack(tuple(feat for feat in feature_batch))\n",
    "            reward_batch = torch.from_numpy(np.array(reward_batch, dtype=np.float32)[:, None])\n",
    "            next_feature_batch = torch.stack(tuple(feat for feat in next_feature_batch))\n",
    "\n",
    "            q_values = behavior(feature_batch)\n",
    "            with torch.no_grad():\n",
    "                next_prediction_batch = target(next_feature_batch)\n",
    "\n",
    "            y_batch = torch.cat(\n",
    "                    tuple(reward if done else reward + 1 + gamma * prediction for reward, done, prediction in\n",
    "                          zip(reward_batch, done_batch, next_prediction_batch)))[:, None]\n",
    "            optimizer.zero_grad()\n",
    "            loss = criterion(q_values, y_batch)\n",
    "            loss.backward()\n",
    "            optimizer.step()\n",
    "            if done:\n",
    "                scores.append(score)\n",
    "                break\n",
    "            env.field = next_state\n",
    "            env.break_lines()\n",
    "        if t%100 ==0:\n",
    "            print(np.mean(scores), eps)\n",
    "            torch.save(target, FILE)\n",
    "        if t%30 == 0:\n",
    "            target.load_state_dict(behavior.state_dict())\n"
   ]
  },
  {
   "cell_type": "code",
   "execution_count": 22,
   "id": "932a1284",
   "metadata": {},
   "outputs": [
    {
     "name": "stderr",
     "output_type": "stream",
     "text": [
      "  0%|                                                                             | 2/100000 [00:00<4:54:39,  5.66it/s]"
     ]
    },
    {
     "name": "stdout",
     "output_type": "stream",
     "text": [
      "-300.0 0.99995\n"
     ]
    },
    {
     "name": "stderr",
     "output_type": "stream",
     "text": [
      "  0%|                                                                           | 101/100000 [00:36<9:45:22,  2.84it/s]"
     ]
    },
    {
     "name": "stdout",
     "output_type": "stream",
     "text": [
      "-299.5 0.9949500000000006\n"
     ]
    },
    {
     "name": "stderr",
     "output_type": "stream",
     "text": [
      "  0%|▏                                                                         | 201/100000 [01:14<11:31:39,  2.40it/s]"
     ]
    },
    {
     "name": "stdout",
     "output_type": "stream",
     "text": [
      "-299.7 0.9899500000000011\n"
     ]
    },
    {
     "name": "stderr",
     "output_type": "stream",
     "text": [
      "  0%|▏                                                                         | 301/100000 [01:55<11:06:00,  2.49it/s]"
     ]
    },
    {
     "name": "stdout",
     "output_type": "stream",
     "text": [
      "-299.8 0.9849500000000017\n"
     ]
    },
    {
     "name": "stderr",
     "output_type": "stream",
     "text": [
      "  0%|▎                                                                         | 401/100000 [02:39<13:37:07,  2.03it/s]"
     ]
    },
    {
     "name": "stdout",
     "output_type": "stream",
     "text": [
      "-299.5 0.9799500000000022\n"
     ]
    },
    {
     "name": "stderr",
     "output_type": "stream",
     "text": [
      "  1%|▍                                                                          | 501/100000 [03:21<9:21:31,  2.95it/s]"
     ]
    },
    {
     "name": "stdout",
     "output_type": "stream",
     "text": [
      "-299.8 0.9749500000000028\n"
     ]
    },
    {
     "name": "stderr",
     "output_type": "stream",
     "text": [
      "  1%|▍                                                                         | 601/100000 [04:04<13:03:04,  2.12it/s]"
     ]
    },
    {
     "name": "stdout",
     "output_type": "stream",
     "text": [
      "-299.3 0.9699500000000033\n"
     ]
    },
    {
     "name": "stderr",
     "output_type": "stream",
     "text": [
      "  1%|▌                                                                         | 701/100000 [04:47<11:16:22,  2.45it/s]"
     ]
    },
    {
     "name": "stdout",
     "output_type": "stream",
     "text": [
      "-300.0 0.9649500000000039\n"
     ]
    },
    {
     "name": "stderr",
     "output_type": "stream",
     "text": [
      "  1%|▌                                                                         | 801/100000 [05:29<11:15:01,  2.45it/s]"
     ]
    },
    {
     "name": "stdout",
     "output_type": "stream",
     "text": [
      "-299.7 0.9599500000000044\n"
     ]
    },
    {
     "name": "stderr",
     "output_type": "stream",
     "text": [
      "  1%|▋                                                                          | 901/100000 [06:10<9:10:16,  3.00it/s]"
     ]
    },
    {
     "name": "stdout",
     "output_type": "stream",
     "text": [
      "-299.7 0.954950000000005\n"
     ]
    },
    {
     "name": "stderr",
     "output_type": "stream",
     "text": [
      "  1%|▋                                                                        | 1001/100000 [06:53<10:15:57,  2.68it/s]"
     ]
    },
    {
     "name": "stdout",
     "output_type": "stream",
     "text": [
      "-299.7 0.9499500000000055\n"
     ]
    },
    {
     "name": "stderr",
     "output_type": "stream",
     "text": [
      "  1%|▊                                                                        | 1101/100000 [07:36<12:24:58,  2.21it/s]"
     ]
    },
    {
     "name": "stdout",
     "output_type": "stream",
     "text": [
      "-299.4 0.9449500000000061\n"
     ]
    },
    {
     "name": "stderr",
     "output_type": "stream",
     "text": [
      "  1%|▉                                                                        | 1201/100000 [08:18<13:18:03,  2.06it/s]"
     ]
    },
    {
     "name": "stdout",
     "output_type": "stream",
     "text": [
      "-299.6 0.9399500000000066\n"
     ]
    },
    {
     "name": "stderr",
     "output_type": "stream",
     "text": [
      "  1%|▉                                                                        | 1301/100000 [08:59<12:13:04,  2.24it/s]"
     ]
    },
    {
     "name": "stdout",
     "output_type": "stream",
     "text": [
      "-299.5 0.9349500000000072\n"
     ]
    },
    {
     "name": "stderr",
     "output_type": "stream",
     "text": [
      "  1%|█                                                                        | 1401/100000 [09:41<10:12:57,  2.68it/s]"
     ]
    },
    {
     "name": "stdout",
     "output_type": "stream",
     "text": [
      "-299.8 0.9299500000000077\n"
     ]
    },
    {
     "name": "stderr",
     "output_type": "stream",
     "text": [
      "  2%|█                                                                        | 1501/100000 [10:24<11:30:39,  2.38it/s]"
     ]
    },
    {
     "name": "stdout",
     "output_type": "stream",
     "text": [
      "-299.5 0.9249500000000083\n"
     ]
    },
    {
     "name": "stderr",
     "output_type": "stream",
     "text": [
      "  2%|█▏                                                                       | 1601/100000 [11:06<12:08:11,  2.25it/s]"
     ]
    },
    {
     "name": "stdout",
     "output_type": "stream",
     "text": [
      "-299.6 0.9199500000000088\n"
     ]
    },
    {
     "name": "stderr",
     "output_type": "stream",
     "text": [
      "  2%|█▏                                                                       | 1701/100000 [11:49<11:58:17,  2.28it/s]"
     ]
    },
    {
     "name": "stdout",
     "output_type": "stream",
     "text": [
      "-299.6 0.9149500000000094\n"
     ]
    },
    {
     "name": "stderr",
     "output_type": "stream",
     "text": [
      "  2%|█▎                                                                       | 1801/100000 [12:34<12:48:58,  2.13it/s]"
     ]
    },
    {
     "name": "stdout",
     "output_type": "stream",
     "text": [
      "-299.7 0.9099500000000099\n"
     ]
    },
    {
     "name": "stderr",
     "output_type": "stream",
     "text": [
      "  2%|█▍                                                                       | 1901/100000 [13:17<11:57:29,  2.28it/s]"
     ]
    },
    {
     "name": "stdout",
     "output_type": "stream",
     "text": [
      "-299.5 0.9049500000000105\n"
     ]
    },
    {
     "name": "stderr",
     "output_type": "stream",
     "text": [
      "  2%|█▍                                                                       | 2001/100000 [14:00<11:12:56,  2.43it/s]"
     ]
    },
    {
     "name": "stdout",
     "output_type": "stream",
     "text": [
      "-299.2 0.899950000000011\n"
     ]
    },
    {
     "name": "stderr",
     "output_type": "stream",
     "text": [
      "  2%|█▌                                                                       | 2101/100000 [14:46<11:55:50,  2.28it/s]"
     ]
    },
    {
     "name": "stdout",
     "output_type": "stream",
     "text": [
      "-299.2 0.8949500000000116\n"
     ]
    },
    {
     "name": "stderr",
     "output_type": "stream",
     "text": [
      "  2%|█▌                                                                       | 2201/100000 [15:28<12:08:07,  2.24it/s]"
     ]
    },
    {
     "name": "stdout",
     "output_type": "stream",
     "text": [
      "-299.0 0.8899500000000121\n"
     ]
    },
    {
     "name": "stderr",
     "output_type": "stream",
     "text": [
      "  2%|█▋                                                                       | 2301/100000 [16:12<13:39:43,  1.99it/s]"
     ]
    },
    {
     "name": "stdout",
     "output_type": "stream",
     "text": [
      "-299.0 0.8849500000000127\n"
     ]
    },
    {
     "name": "stderr",
     "output_type": "stream",
     "text": [
      "  2%|█▊                                                                       | 2401/100000 [17:02<10:04:58,  2.69it/s]"
     ]
    },
    {
     "name": "stdout",
     "output_type": "stream",
     "text": [
      "-299.0 0.8799500000000132\n"
     ]
    },
    {
     "name": "stderr",
     "output_type": "stream",
     "text": [
      "  3%|█▊                                                                       | 2501/100000 [17:47<11:36:51,  2.33it/s]"
     ]
    },
    {
     "name": "stdout",
     "output_type": "stream",
     "text": [
      "-298.7 0.8749500000000138\n"
     ]
    },
    {
     "name": "stderr",
     "output_type": "stream",
     "text": [
      "  3%|█▉                                                                       | 2601/100000 [18:32<10:23:32,  2.60it/s]"
     ]
    },
    {
     "name": "stdout",
     "output_type": "stream",
     "text": [
      "-299.5 0.8699500000000143\n"
     ]
    },
    {
     "name": "stderr",
     "output_type": "stream",
     "text": [
      "  3%|█▉                                                                       | 2701/100000 [19:18<12:16:24,  2.20it/s]"
     ]
    },
    {
     "name": "stdout",
     "output_type": "stream",
     "text": [
      "-298.9 0.8649500000000149\n"
     ]
    },
    {
     "name": "stderr",
     "output_type": "stream",
     "text": [
      "  3%|██                                                                       | 2801/100000 [20:06<13:55:52,  1.94it/s]"
     ]
    },
    {
     "name": "stdout",
     "output_type": "stream",
     "text": [
      "-298.7 0.8599500000000154\n"
     ]
    },
    {
     "name": "stderr",
     "output_type": "stream",
     "text": [
      "  3%|██                                                                       | 2901/100000 [20:56<13:30:31,  2.00it/s]"
     ]
    },
    {
     "name": "stdout",
     "output_type": "stream",
     "text": [
      "-298.9 0.854950000000016\n"
     ]
    },
    {
     "name": "stderr",
     "output_type": "stream",
     "text": [
      "  3%|██▏                                                                      | 3001/100000 [21:41<11:31:03,  2.34it/s]"
     ]
    },
    {
     "name": "stdout",
     "output_type": "stream",
     "text": [
      "-298.4 0.8499500000000165\n"
     ]
    },
    {
     "name": "stderr",
     "output_type": "stream",
     "text": [
      "  3%|██▎                                                                      | 3101/100000 [22:28<14:10:37,  1.90it/s]"
     ]
    },
    {
     "name": "stdout",
     "output_type": "stream",
     "text": [
      "-298.4 0.8449500000000171\n"
     ]
    },
    {
     "name": "stderr",
     "output_type": "stream",
     "text": [
      "  3%|██▎                                                                      | 3201/100000 [23:15<10:54:42,  2.46it/s]"
     ]
    },
    {
     "name": "stdout",
     "output_type": "stream",
     "text": [
      "-299.1 0.8399500000000176\n"
     ]
    },
    {
     "name": "stderr",
     "output_type": "stream",
     "text": [
      "  3%|██▍                                                                      | 3301/100000 [23:59<11:44:31,  2.29it/s]"
     ]
    },
    {
     "name": "stdout",
     "output_type": "stream",
     "text": [
      "-299.0 0.8349500000000182\n"
     ]
    },
    {
     "name": "stderr",
     "output_type": "stream",
     "text": [
      "  3%|██▍                                                                      | 3401/100000 [24:45<14:12:50,  1.89it/s]"
     ]
    },
    {
     "name": "stdout",
     "output_type": "stream",
     "text": [
      "-298.7 0.8299500000000187\n"
     ]
    },
    {
     "name": "stderr",
     "output_type": "stream",
     "text": [
      "  4%|██▌                                                                      | 3501/100000 [25:34<11:03:40,  2.42it/s]"
     ]
    },
    {
     "name": "stdout",
     "output_type": "stream",
     "text": [
      "-297.8 0.8249500000000193\n"
     ]
    },
    {
     "name": "stderr",
     "output_type": "stream",
     "text": [
      "  4%|██▋                                                                      | 3601/100000 [26:24<13:41:30,  1.96it/s]"
     ]
    },
    {
     "name": "stdout",
     "output_type": "stream",
     "text": [
      "-298.4 0.8199500000000198\n"
     ]
    },
    {
     "name": "stderr",
     "output_type": "stream",
     "text": [
      "  4%|██▋                                                                      | 3701/100000 [27:14<14:05:57,  1.90it/s]"
     ]
    },
    {
     "name": "stdout",
     "output_type": "stream",
     "text": [
      "-299.1 0.8149500000000204\n"
     ]
    },
    {
     "name": "stderr",
     "output_type": "stream",
     "text": [
      "  4%|██▊                                                                      | 3801/100000 [28:04<13:57:52,  1.91it/s]"
     ]
    },
    {
     "name": "stdout",
     "output_type": "stream",
     "text": [
      "-298.7 0.8099500000000209\n"
     ]
    },
    {
     "name": "stderr",
     "output_type": "stream",
     "text": [
      "  4%|██▊                                                                      | 3901/100000 [28:56<11:30:32,  2.32it/s]"
     ]
    },
    {
     "name": "stdout",
     "output_type": "stream",
     "text": [
      "-298.0 0.8049500000000215\n"
     ]
    },
    {
     "name": "stderr",
     "output_type": "stream",
     "text": [
      "  4%|██▉                                                                      | 4001/100000 [29:49<14:34:43,  1.83it/s]"
     ]
    },
    {
     "name": "stdout",
     "output_type": "stream",
     "text": [
      "-297.1 0.799950000000022\n"
     ]
    },
    {
     "name": "stderr",
     "output_type": "stream",
     "text": [
      "  4%|██▉                                                                      | 4101/100000 [30:40<14:37:31,  1.82it/s]"
     ]
    },
    {
     "name": "stdout",
     "output_type": "stream",
     "text": [
      "-298.6 0.7949500000000226\n"
     ]
    },
    {
     "name": "stderr",
     "output_type": "stream",
     "text": [
      "  4%|███                                                                      | 4201/100000 [31:30<15:05:25,  1.76it/s]"
     ]
    },
    {
     "name": "stdout",
     "output_type": "stream",
     "text": [
      "-297.8 0.7899500000000231\n"
     ]
    },
    {
     "name": "stderr",
     "output_type": "stream",
     "text": [
      "  4%|███▏                                                                     | 4301/100000 [32:18<13:01:02,  2.04it/s]"
     ]
    },
    {
     "name": "stdout",
     "output_type": "stream",
     "text": [
      "-298.1 0.7849500000000237\n"
     ]
    },
    {
     "name": "stderr",
     "output_type": "stream",
     "text": [
      "  4%|███▏                                                                     | 4401/100000 [33:08<14:49:02,  1.79it/s]"
     ]
    },
    {
     "name": "stdout",
     "output_type": "stream",
     "text": [
      "-295.9 0.7799500000000242\n"
     ]
    },
    {
     "name": "stderr",
     "output_type": "stream",
     "text": [
      "  5%|███▎                                                                     | 4501/100000 [33:59<13:07:43,  2.02it/s]"
     ]
    },
    {
     "name": "stdout",
     "output_type": "stream",
     "text": [
      "-297.6 0.7749500000000248\n"
     ]
    },
    {
     "name": "stderr",
     "output_type": "stream",
     "text": [
      "  5%|███▎                                                                     | 4601/100000 [34:50<14:35:06,  1.82it/s]"
     ]
    },
    {
     "name": "stdout",
     "output_type": "stream",
     "text": [
      "-297.4 0.7699500000000253\n"
     ]
    },
    {
     "name": "stderr",
     "output_type": "stream",
     "text": [
      "  5%|███▍                                                                     | 4701/100000 [35:44<14:28:48,  1.83it/s]"
     ]
    },
    {
     "name": "stdout",
     "output_type": "stream",
     "text": [
      "-297.7 0.7649500000000259\n"
     ]
    },
    {
     "name": "stderr",
     "output_type": "stream",
     "text": [
      "  5%|███▌                                                                     | 4801/100000 [36:36<13:19:52,  1.98it/s]"
     ]
    },
    {
     "name": "stdout",
     "output_type": "stream",
     "text": [
      "-297.8 0.7599500000000264\n"
     ]
    },
    {
     "name": "stderr",
     "output_type": "stream",
     "text": [
      "  5%|███▌                                                                     | 4901/100000 [37:28<12:15:18,  2.16it/s]"
     ]
    },
    {
     "name": "stdout",
     "output_type": "stream",
     "text": [
      "-297.4 0.754950000000027\n"
     ]
    },
    {
     "name": "stderr",
     "output_type": "stream",
     "text": [
      "  5%|███▋                                                                     | 5001/100000 [38:17<13:02:47,  2.02it/s]"
     ]
    },
    {
     "name": "stdout",
     "output_type": "stream",
     "text": [
      "-298.4 0.7499500000000275\n"
     ]
    },
    {
     "name": "stderr",
     "output_type": "stream",
     "text": [
      "  5%|███▋                                                                     | 5101/100000 [39:11<15:35:45,  1.69it/s]"
     ]
    },
    {
     "name": "stdout",
     "output_type": "stream",
     "text": [
      "-295.6 0.7449500000000281\n"
     ]
    },
    {
     "name": "stderr",
     "output_type": "stream",
     "text": [
      "  5%|███▊                                                                     | 5201/100000 [39:59<13:50:11,  1.90it/s]"
     ]
    },
    {
     "name": "stdout",
     "output_type": "stream",
     "text": [
      "-296.9 0.7399500000000286\n"
     ]
    },
    {
     "name": "stderr",
     "output_type": "stream",
     "text": [
      "  5%|███▊                                                                     | 5301/100000 [40:51<11:56:21,  2.20it/s]"
     ]
    },
    {
     "name": "stdout",
     "output_type": "stream",
     "text": [
      "-296.4 0.7349500000000292\n"
     ]
    },
    {
     "name": "stderr",
     "output_type": "stream",
     "text": [
      "  5%|███▉                                                                     | 5401/100000 [41:41<16:56:17,  1.55it/s]"
     ]
    },
    {
     "name": "stdout",
     "output_type": "stream",
     "text": [
      "-297.4 0.7299500000000297\n"
     ]
    },
    {
     "name": "stderr",
     "output_type": "stream",
     "text": [
      "  6%|████                                                                     | 5501/100000 [42:33<12:19:37,  2.13it/s]"
     ]
    },
    {
     "name": "stdout",
     "output_type": "stream",
     "text": [
      "-296.2 0.7249500000000303\n"
     ]
    },
    {
     "name": "stderr",
     "output_type": "stream",
     "text": [
      "  6%|████                                                                     | 5601/100000 [43:27<14:54:18,  1.76it/s]"
     ]
    },
    {
     "name": "stdout",
     "output_type": "stream",
     "text": [
      "-296.9 0.7199500000000308\n"
     ]
    },
    {
     "name": "stderr",
     "output_type": "stream",
     "text": [
      "  6%|████▏                                                                    | 5701/100000 [44:27<15:20:21,  1.71it/s]"
     ]
    },
    {
     "name": "stdout",
     "output_type": "stream",
     "text": [
      "-295.9 0.7149500000000314\n"
     ]
    },
    {
     "name": "stderr",
     "output_type": "stream",
     "text": [
      "  6%|████▏                                                                    | 5801/100000 [45:22<15:26:16,  1.69it/s]"
     ]
    },
    {
     "name": "stdout",
     "output_type": "stream",
     "text": [
      "-295.5 0.7099500000000319\n"
     ]
    },
    {
     "name": "stderr",
     "output_type": "stream",
     "text": [
      "  6%|████▎                                                                    | 5901/100000 [46:18<14:52:30,  1.76it/s]"
     ]
    },
    {
     "name": "stdout",
     "output_type": "stream",
     "text": [
      "-295.4 0.7049500000000325\n"
     ]
    },
    {
     "name": "stderr",
     "output_type": "stream",
     "text": [
      "  6%|████▍                                                                    | 6001/100000 [47:13<13:54:42,  1.88it/s]"
     ]
    },
    {
     "name": "stdout",
     "output_type": "stream",
     "text": [
      "-295.7 0.699950000000033\n"
     ]
    },
    {
     "name": "stderr",
     "output_type": "stream",
     "text": [
      "  6%|████▍                                                                    | 6101/100000 [48:09<18:43:58,  1.39it/s]"
     ]
    },
    {
     "name": "stdout",
     "output_type": "stream",
     "text": [
      "-295.7 0.6949500000000336\n"
     ]
    },
    {
     "name": "stderr",
     "output_type": "stream",
     "text": [
      "  6%|████▌                                                                    | 6201/100000 [49:06<15:52:11,  1.64it/s]"
     ]
    },
    {
     "name": "stdout",
     "output_type": "stream",
     "text": [
      "-295.5 0.6899500000000341\n"
     ]
    },
    {
     "name": "stderr",
     "output_type": "stream",
     "text": [
      "  6%|████▌                                                                    | 6301/100000 [50:01<14:06:02,  1.85it/s]"
     ]
    },
    {
     "name": "stdout",
     "output_type": "stream",
     "text": [
      "-293.3 0.6849500000000347\n"
     ]
    },
    {
     "name": "stderr",
     "output_type": "stream",
     "text": [
      "  6%|████▋                                                                    | 6401/100000 [50:58<13:32:29,  1.92it/s]"
     ]
    },
    {
     "name": "stdout",
     "output_type": "stream",
     "text": [
      "-295.0 0.6799500000000352\n"
     ]
    },
    {
     "name": "stderr",
     "output_type": "stream",
     "text": [
      "  7%|████▋                                                                    | 6501/100000 [51:56<13:51:44,  1.87it/s]"
     ]
    },
    {
     "name": "stdout",
     "output_type": "stream",
     "text": [
      "-293.7 0.6749500000000358\n"
     ]
    },
    {
     "name": "stderr",
     "output_type": "stream",
     "text": [
      "  7%|████▊                                                                    | 6601/100000 [52:53<14:56:16,  1.74it/s]"
     ]
    },
    {
     "name": "stdout",
     "output_type": "stream",
     "text": [
      "-295.8 0.6699500000000363\n"
     ]
    },
    {
     "name": "stderr",
     "output_type": "stream",
     "text": [
      "  7%|████▉                                                                    | 6701/100000 [53:52<15:05:48,  1.72it/s]"
     ]
    },
    {
     "name": "stdout",
     "output_type": "stream",
     "text": [
      "-294.1 0.6649500000000369\n"
     ]
    },
    {
     "name": "stderr",
     "output_type": "stream",
     "text": [
      "  7%|████▉                                                                    | 6801/100000 [54:50<14:44:18,  1.76it/s]"
     ]
    },
    {
     "name": "stdout",
     "output_type": "stream",
     "text": [
      "-295.3 0.6599500000000375\n"
     ]
    },
    {
     "name": "stderr",
     "output_type": "stream",
     "text": [
      "  7%|█████                                                                    | 6901/100000 [55:50<14:50:48,  1.74it/s]"
     ]
    },
    {
     "name": "stdout",
     "output_type": "stream",
     "text": [
      "-293.6 0.654950000000038\n"
     ]
    },
    {
     "name": "stderr",
     "output_type": "stream",
     "text": [
      "  7%|█████                                                                    | 7001/100000 [56:47<13:55:17,  1.86it/s]"
     ]
    },
    {
     "name": "stdout",
     "output_type": "stream",
     "text": [
      "-296.1 0.6499500000000386\n"
     ]
    },
    {
     "name": "stderr",
     "output_type": "stream",
     "text": [
      "  7%|█████▏                                                                   | 7101/100000 [57:46<15:53:44,  1.62it/s]"
     ]
    },
    {
     "name": "stdout",
     "output_type": "stream",
     "text": [
      "-293.6 0.6449500000000391\n"
     ]
    },
    {
     "name": "stderr",
     "output_type": "stream",
     "text": [
      "  7%|█████▎                                                                   | 7201/100000 [58:45<13:02:26,  1.98it/s]"
     ]
    },
    {
     "name": "stdout",
     "output_type": "stream",
     "text": [
      "-292.5 0.6399500000000397\n"
     ]
    },
    {
     "name": "stderr",
     "output_type": "stream",
     "text": [
      "  7%|█████▎                                                                   | 7301/100000 [59:46<17:16:31,  1.49it/s]"
     ]
    },
    {
     "name": "stdout",
     "output_type": "stream",
     "text": [
      "-292.3 0.6349500000000402\n"
     ]
    },
    {
     "name": "stderr",
     "output_type": "stream",
     "text": [
      "  7%|█████▎                                                                 | 7401/100000 [1:00:47<16:42:13,  1.54it/s]"
     ]
    },
    {
     "name": "stdout",
     "output_type": "stream",
     "text": [
      "-291.0 0.6299500000000408\n"
     ]
    },
    {
     "name": "stderr",
     "output_type": "stream",
     "text": [
      "  8%|█████▎                                                                 | 7501/100000 [1:01:45<16:30:07,  1.56it/s]"
     ]
    },
    {
     "name": "stdout",
     "output_type": "stream",
     "text": [
      "-292.7 0.6249500000000413\n"
     ]
    },
    {
     "name": "stderr",
     "output_type": "stream",
     "text": [
      "  8%|█████▍                                                                 | 7601/100000 [1:02:44<16:06:43,  1.59it/s]"
     ]
    },
    {
     "name": "stdout",
     "output_type": "stream",
     "text": [
      "-293.1 0.6199500000000419\n"
     ]
    },
    {
     "name": "stderr",
     "output_type": "stream",
     "text": [
      "  8%|█████▍                                                                 | 7701/100000 [1:03:46<14:42:30,  1.74it/s]"
     ]
    },
    {
     "name": "stdout",
     "output_type": "stream",
     "text": [
      "-290.7 0.6149500000000424\n"
     ]
    },
    {
     "name": "stderr",
     "output_type": "stream",
     "text": [
      "  8%|█████▌                                                                 | 7801/100000 [1:04:48<15:34:09,  1.64it/s]"
     ]
    },
    {
     "name": "stdout",
     "output_type": "stream",
     "text": [
      "-291.7 0.609950000000043\n"
     ]
    },
    {
     "name": "stderr",
     "output_type": "stream",
     "text": [
      "  8%|█████▌                                                                 | 7901/100000 [1:05:48<15:50:58,  1.61it/s]"
     ]
    },
    {
     "name": "stdout",
     "output_type": "stream",
     "text": [
      "-293.0 0.6049500000000435\n"
     ]
    },
    {
     "name": "stderr",
     "output_type": "stream",
     "text": [
      "  8%|█████▋                                                                 | 8001/100000 [1:06:51<19:54:45,  1.28it/s]"
     ]
    },
    {
     "name": "stdout",
     "output_type": "stream",
     "text": [
      "-290.8 0.5999500000000441\n"
     ]
    },
    {
     "name": "stderr",
     "output_type": "stream",
     "text": [
      "  8%|█████▊                                                                 | 8101/100000 [1:07:52<14:57:24,  1.71it/s]"
     ]
    },
    {
     "name": "stdout",
     "output_type": "stream",
     "text": [
      "-290.8 0.5949500000000446\n"
     ]
    },
    {
     "name": "stderr",
     "output_type": "stream",
     "text": [
      "  8%|█████▊                                                                 | 8201/100000 [1:08:55<16:01:24,  1.59it/s]"
     ]
    },
    {
     "name": "stdout",
     "output_type": "stream",
     "text": [
      "-291.7 0.5899500000000452\n"
     ]
    },
    {
     "name": "stderr",
     "output_type": "stream",
     "text": [
      "  8%|█████▉                                                                 | 8301/100000 [1:09:58<17:51:07,  1.43it/s]"
     ]
    },
    {
     "name": "stdout",
     "output_type": "stream",
     "text": [
      "-290.5 0.5849500000000457\n"
     ]
    },
    {
     "name": "stderr",
     "output_type": "stream",
     "text": [
      "  8%|█████▉                                                                 | 8401/100000 [1:11:00<17:31:40,  1.45it/s]"
     ]
    },
    {
     "name": "stdout",
     "output_type": "stream",
     "text": [
      "-291.0 0.5799500000000463\n"
     ]
    },
    {
     "name": "stderr",
     "output_type": "stream",
     "text": [
      "  9%|██████                                                                 | 8501/100000 [1:12:02<16:07:31,  1.58it/s]"
     ]
    },
    {
     "name": "stdout",
     "output_type": "stream",
     "text": [
      "-291.4 0.5749500000000468\n"
     ]
    },
    {
     "name": "stderr",
     "output_type": "stream",
     "text": [
      "  9%|██████                                                                 | 8601/100000 [1:13:06<16:21:43,  1.55it/s]"
     ]
    },
    {
     "name": "stdout",
     "output_type": "stream",
     "text": [
      "-288.8 0.5699500000000474\n"
     ]
    },
    {
     "name": "stderr",
     "output_type": "stream",
     "text": [
      "  9%|██████▏                                                                | 8701/100000 [1:14:10<15:04:55,  1.68it/s]"
     ]
    },
    {
     "name": "stdout",
     "output_type": "stream",
     "text": [
      "-290.2 0.5649500000000479\n"
     ]
    },
    {
     "name": "stderr",
     "output_type": "stream",
     "text": [
      "  9%|██████▏                                                                | 8801/100000 [1:15:16<15:06:24,  1.68it/s]"
     ]
    },
    {
     "name": "stdout",
     "output_type": "stream",
     "text": [
      "-288.8 0.5599500000000485\n"
     ]
    },
    {
     "name": "stderr",
     "output_type": "stream",
     "text": [
      "  9%|██████▎                                                                | 8901/100000 [1:16:22<19:11:12,  1.32it/s]"
     ]
    },
    {
     "name": "stdout",
     "output_type": "stream",
     "text": [
      "-288.4 0.554950000000049\n"
     ]
    },
    {
     "name": "stderr",
     "output_type": "stream",
     "text": [
      "  9%|██████▍                                                                | 9001/100000 [1:17:30<15:31:24,  1.63it/s]"
     ]
    },
    {
     "name": "stdout",
     "output_type": "stream",
     "text": [
      "-287.2 0.5499500000000496\n"
     ]
    },
    {
     "name": "stderr",
     "output_type": "stream",
     "text": [
      "  9%|██████▍                                                                | 9101/100000 [1:18:38<15:46:09,  1.60it/s]"
     ]
    },
    {
     "name": "stdout",
     "output_type": "stream",
     "text": [
      "-286.0 0.5449500000000501\n"
     ]
    },
    {
     "name": "stderr",
     "output_type": "stream",
     "text": [
      "  9%|██████▌                                                                | 9201/100000 [1:19:42<16:19:16,  1.55it/s]"
     ]
    },
    {
     "name": "stdout",
     "output_type": "stream",
     "text": [
      "-289.7 0.5399500000000507\n"
     ]
    },
    {
     "name": "stderr",
     "output_type": "stream",
     "text": [
      "  9%|██████▌                                                                | 9301/100000 [1:20:49<17:57:03,  1.40it/s]"
     ]
    },
    {
     "name": "stdout",
     "output_type": "stream",
     "text": [
      "-288.0 0.5349500000000512\n"
     ]
    },
    {
     "name": "stderr",
     "output_type": "stream",
     "text": [
      "  9%|██████▋                                                                | 9401/100000 [1:21:53<17:25:49,  1.44it/s]"
     ]
    },
    {
     "name": "stdout",
     "output_type": "stream",
     "text": [
      "-287.8 0.5299500000000518\n"
     ]
    },
    {
     "name": "stderr",
     "output_type": "stream",
     "text": [
      " 10%|██████▋                                                                | 9501/100000 [1:22:59<15:47:07,  1.59it/s]"
     ]
    },
    {
     "name": "stdout",
     "output_type": "stream",
     "text": [
      "-288.5 0.5249500000000523\n"
     ]
    },
    {
     "name": "stderr",
     "output_type": "stream",
     "text": [
      " 10%|██████▊                                                                | 9601/100000 [1:24:07<14:05:58,  1.78it/s]"
     ]
    },
    {
     "name": "stdout",
     "output_type": "stream",
     "text": [
      "-285.5 0.5199500000000529\n"
     ]
    },
    {
     "name": "stderr",
     "output_type": "stream",
     "text": [
      " 10%|██████▉                                                                | 9701/100000 [1:25:15<17:34:26,  1.43it/s]"
     ]
    },
    {
     "name": "stdout",
     "output_type": "stream",
     "text": [
      "-286.8 0.5149500000000534\n"
     ]
    },
    {
     "name": "stderr",
     "output_type": "stream",
     "text": [
      " 10%|██████▉                                                                | 9801/100000 [1:26:25<18:44:03,  1.34it/s]"
     ]
    },
    {
     "name": "stdout",
     "output_type": "stream",
     "text": [
      "-284.4 0.509950000000054\n"
     ]
    },
    {
     "name": "stderr",
     "output_type": "stream",
     "text": [
      " 10%|███████                                                                | 9901/100000 [1:27:32<17:22:45,  1.44it/s]"
     ]
    },
    {
     "name": "stdout",
     "output_type": "stream",
     "text": [
      "-288.1 0.5049500000000545\n"
     ]
    },
    {
     "name": "stderr",
     "output_type": "stream",
     "text": [
      " 10%|███████                                                               | 10001/100000 [1:28:40<16:38:00,  1.50it/s]"
     ]
    },
    {
     "name": "stdout",
     "output_type": "stream",
     "text": [
      "-284.1 0.4999500000000551\n"
     ]
    },
    {
     "name": "stderr",
     "output_type": "stream",
     "text": [
      " 10%|███████                                                               | 10101/100000 [1:29:50<15:47:59,  1.58it/s]"
     ]
    },
    {
     "name": "stdout",
     "output_type": "stream",
     "text": [
      "-286.0 0.4949500000000556\n"
     ]
    },
    {
     "name": "stderr",
     "output_type": "stream",
     "text": [
      " 10%|███████▏                                                              | 10201/100000 [1:30:59<15:43:43,  1.59it/s]"
     ]
    },
    {
     "name": "stdout",
     "output_type": "stream",
     "text": [
      "-284.5 0.4899500000000562\n"
     ]
    },
    {
     "name": "stderr",
     "output_type": "stream",
     "text": [
      " 10%|███████▏                                                              | 10301/100000 [1:32:09<16:36:33,  1.50it/s]"
     ]
    },
    {
     "name": "stdout",
     "output_type": "stream",
     "text": [
      "-282.7 0.4849500000000567\n"
     ]
    },
    {
     "name": "stderr",
     "output_type": "stream",
     "text": [
      " 10%|███████▎                                                              | 10401/100000 [1:33:23<18:25:37,  1.35it/s]"
     ]
    },
    {
     "name": "stdout",
     "output_type": "stream",
     "text": [
      "-278.5 0.4799500000000573\n"
     ]
    },
    {
     "name": "stderr",
     "output_type": "stream",
     "text": [
      " 11%|███████▎                                                              | 10501/100000 [1:34:34<18:10:49,  1.37it/s]"
     ]
    },
    {
     "name": "stdout",
     "output_type": "stream",
     "text": [
      "-283.4 0.4749500000000578\n"
     ]
    },
    {
     "name": "stderr",
     "output_type": "stream",
     "text": [
      " 11%|███████▍                                                              | 10601/100000 [1:35:45<19:55:33,  1.25it/s]"
     ]
    },
    {
     "name": "stdout",
     "output_type": "stream",
     "text": [
      "-284.1 0.4699500000000584\n"
     ]
    },
    {
     "name": "stderr",
     "output_type": "stream",
     "text": [
      " 11%|███████▍                                                              | 10701/100000 [1:36:58<17:11:16,  1.44it/s]"
     ]
    },
    {
     "name": "stdout",
     "output_type": "stream",
     "text": [
      "-280.7 0.4649500000000589\n"
     ]
    },
    {
     "name": "stderr",
     "output_type": "stream",
     "text": [
      " 11%|███████▌                                                              | 10801/100000 [1:38:09<17:14:18,  1.44it/s]"
     ]
    },
    {
     "name": "stdout",
     "output_type": "stream",
     "text": [
      "-281.2 0.4599500000000595\n"
     ]
    },
    {
     "name": "stderr",
     "output_type": "stream",
     "text": [
      " 11%|███████▋                                                              | 10901/100000 [1:39:23<19:58:50,  1.24it/s]"
     ]
    },
    {
     "name": "stdout",
     "output_type": "stream",
     "text": [
      "-279.2 0.45495000000006003\n"
     ]
    },
    {
     "name": "stderr",
     "output_type": "stream",
     "text": [
      " 11%|███████▋                                                              | 11001/100000 [1:40:37<16:39:42,  1.48it/s]"
     ]
    },
    {
     "name": "stdout",
     "output_type": "stream",
     "text": [
      "-279.9 0.4499500000000606\n"
     ]
    },
    {
     "name": "stderr",
     "output_type": "stream",
     "text": [
      " 11%|███████▊                                                              | 11101/100000 [1:41:51<19:32:54,  1.26it/s]"
     ]
    },
    {
     "name": "stdout",
     "output_type": "stream",
     "text": [
      "-278.6 0.44495000000006113\n"
     ]
    },
    {
     "name": "stderr",
     "output_type": "stream",
     "text": [
      " 11%|███████▊                                                              | 11201/100000 [1:43:05<18:31:34,  1.33it/s]"
     ]
    },
    {
     "name": "stdout",
     "output_type": "stream",
     "text": [
      "-279.5 0.4399500000000617\n"
     ]
    },
    {
     "name": "stderr",
     "output_type": "stream",
     "text": [
      " 11%|███████▉                                                              | 11301/100000 [1:44:20<18:46:23,  1.31it/s]"
     ]
    },
    {
     "name": "stdout",
     "output_type": "stream",
     "text": [
      "-276.5 0.43495000000006223\n"
     ]
    },
    {
     "name": "stderr",
     "output_type": "stream",
     "text": [
      " 11%|███████▉                                                              | 11401/100000 [1:45:36<18:08:58,  1.36it/s]"
     ]
    },
    {
     "name": "stdout",
     "output_type": "stream",
     "text": [
      "-278.4 0.4299500000000628\n"
     ]
    },
    {
     "name": "stderr",
     "output_type": "stream",
     "text": [
      " 12%|████████                                                              | 11501/100000 [1:46:50<19:03:15,  1.29it/s]"
     ]
    },
    {
     "name": "stdout",
     "output_type": "stream",
     "text": [
      "-277.6 0.42495000000006333\n"
     ]
    },
    {
     "name": "stderr",
     "output_type": "stream",
     "text": [
      " 12%|████████                                                              | 11601/100000 [1:48:06<21:43:50,  1.13it/s]"
     ]
    },
    {
     "name": "stdout",
     "output_type": "stream",
     "text": [
      "-277.2 0.4199500000000639\n"
     ]
    },
    {
     "name": "stderr",
     "output_type": "stream",
     "text": [
      " 12%|████████▏                                                             | 11701/100000 [1:49:26<21:40:16,  1.13it/s]"
     ]
    },
    {
     "name": "stdout",
     "output_type": "stream",
     "text": [
      "-272.2 0.41495000000006443\n"
     ]
    },
    {
     "name": "stderr",
     "output_type": "stream",
     "text": [
      " 12%|████████▎                                                             | 11801/100000 [1:50:46<16:27:55,  1.49it/s]"
     ]
    },
    {
     "name": "stdout",
     "output_type": "stream",
     "text": [
      "-274.4 0.409950000000065\n"
     ]
    },
    {
     "name": "stderr",
     "output_type": "stream",
     "text": [
      " 12%|████████▎                                                             | 11901/100000 [1:52:04<21:13:14,  1.15it/s]"
     ]
    },
    {
     "name": "stdout",
     "output_type": "stream",
     "text": [
      "-271.9 0.40495000000006554\n"
     ]
    },
    {
     "name": "stderr",
     "output_type": "stream",
     "text": [
      " 12%|████████▍                                                             | 12001/100000 [1:53:21<17:15:41,  1.42it/s]"
     ]
    },
    {
     "name": "stdout",
     "output_type": "stream",
     "text": [
      "-274.2 0.3999500000000661\n"
     ]
    },
    {
     "name": "stderr",
     "output_type": "stream",
     "text": [
      " 12%|████████▍                                                             | 12101/100000 [1:54:37<17:50:25,  1.37it/s]"
     ]
    },
    {
     "name": "stdout",
     "output_type": "stream",
     "text": [
      "-274.0 0.39495000000006664\n"
     ]
    },
    {
     "name": "stderr",
     "output_type": "stream",
     "text": [
      " 12%|████████▌                                                             | 12201/100000 [1:55:56<21:24:26,  1.14it/s]"
     ]
    },
    {
     "name": "stdout",
     "output_type": "stream",
     "text": [
      "-269.6 0.3899500000000672\n"
     ]
    },
    {
     "name": "stderr",
     "output_type": "stream",
     "text": [
      " 12%|████████▌                                                             | 12301/100000 [1:57:13<19:32:16,  1.25it/s]"
     ]
    },
    {
     "name": "stdout",
     "output_type": "stream",
     "text": [
      "-273.6 0.38495000000006774\n"
     ]
    },
    {
     "name": "stderr",
     "output_type": "stream",
     "text": [
      " 12%|████████▋                                                             | 12401/100000 [1:58:31<16:18:45,  1.49it/s]"
     ]
    },
    {
     "name": "stdout",
     "output_type": "stream",
     "text": [
      "-269.9 0.3799500000000683\n"
     ]
    },
    {
     "name": "stderr",
     "output_type": "stream",
     "text": [
      " 13%|████████▊                                                             | 12501/100000 [1:59:55<22:33:32,  1.08it/s]"
     ]
    },
    {
     "name": "stdout",
     "output_type": "stream",
     "text": [
      "-260.2 0.37495000000006884\n"
     ]
    },
    {
     "name": "stderr",
     "output_type": "stream",
     "text": [
      " 13%|████████▊                                                             | 12601/100000 [2:01:17<19:56:31,  1.22it/s]"
     ]
    },
    {
     "name": "stdout",
     "output_type": "stream",
     "text": [
      "-264.0 0.3699500000000694\n"
     ]
    },
    {
     "name": "stderr",
     "output_type": "stream",
     "text": [
      " 13%|████████▉                                                             | 12701/100000 [2:02:39<22:32:57,  1.08it/s]"
     ]
    },
    {
     "name": "stdout",
     "output_type": "stream",
     "text": [
      "-264.7 0.36495000000006994\n"
     ]
    },
    {
     "name": "stderr",
     "output_type": "stream",
     "text": [
      " 13%|████████▉                                                             | 12801/100000 [2:04:01<21:27:27,  1.13it/s]"
     ]
    },
    {
     "name": "stdout",
     "output_type": "stream",
     "text": [
      "-265.7 0.3599500000000705\n"
     ]
    },
    {
     "name": "stderr",
     "output_type": "stream",
     "text": [
      " 13%|█████████                                                             | 12901/100000 [2:05:23<17:33:05,  1.38it/s]"
     ]
    },
    {
     "name": "stdout",
     "output_type": "stream",
     "text": [
      "-262.4 0.35495000000007104\n"
     ]
    },
    {
     "name": "stderr",
     "output_type": "stream",
     "text": [
      " 13%|█████████                                                             | 13001/100000 [2:06:43<20:24:14,  1.18it/s]"
     ]
    },
    {
     "name": "stdout",
     "output_type": "stream",
     "text": [
      "-265.7 0.3499500000000716\n"
     ]
    },
    {
     "name": "stderr",
     "output_type": "stream",
     "text": [
      " 13%|█████████▏                                                            | 13101/100000 [2:08:07<19:41:55,  1.23it/s]"
     ]
    },
    {
     "name": "stdout",
     "output_type": "stream",
     "text": [
      "-259.9 0.34495000000007214\n"
     ]
    },
    {
     "name": "stderr",
     "output_type": "stream",
     "text": [
      " 13%|█████████▏                                                            | 13201/100000 [2:09:31<18:59:40,  1.27it/s]"
     ]
    },
    {
     "name": "stdout",
     "output_type": "stream",
     "text": [
      "-263.6 0.3399500000000727\n"
     ]
    },
    {
     "name": "stderr",
     "output_type": "stream",
     "text": [
      " 13%|█████████▎                                                            | 13301/100000 [2:10:56<23:08:20,  1.04it/s]"
     ]
    },
    {
     "name": "stdout",
     "output_type": "stream",
     "text": [
      "-259.1 0.33495000000007324\n"
     ]
    },
    {
     "name": "stderr",
     "output_type": "stream",
     "text": [
      " 13%|█████████▍                                                            | 13401/100000 [2:12:28<22:29:54,  1.07it/s]"
     ]
    },
    {
     "name": "stdout",
     "output_type": "stream",
     "text": [
      "-249.9 0.3299500000000738\n"
     ]
    },
    {
     "name": "stderr",
     "output_type": "stream",
     "text": [
      " 14%|█████████▍                                                            | 13501/100000 [2:13:59<23:33:53,  1.02it/s]"
     ]
    },
    {
     "name": "stdout",
     "output_type": "stream",
     "text": [
      "-253.0 0.32495000000007435\n"
     ]
    },
    {
     "name": "stderr",
     "output_type": "stream",
     "text": [
      " 14%|█████████▌                                                            | 13601/100000 [2:15:28<22:31:21,  1.07it/s]"
     ]
    },
    {
     "name": "stdout",
     "output_type": "stream",
     "text": [
      "-256.4 0.3199500000000749\n"
     ]
    },
    {
     "name": "stderr",
     "output_type": "stream",
     "text": [
      " 14%|█████████▌                                                            | 13701/100000 [2:16:54<21:22:10,  1.12it/s]"
     ]
    },
    {
     "name": "stdout",
     "output_type": "stream",
     "text": [
      "-260.7 0.31495000000007545\n"
     ]
    },
    {
     "name": "stderr",
     "output_type": "stream",
     "text": [
      " 14%|█████████▋                                                            | 13801/100000 [2:18:29<22:49:49,  1.05it/s]"
     ]
    },
    {
     "name": "stdout",
     "output_type": "stream",
     "text": [
      "-254.5 0.309950000000076\n"
     ]
    },
    {
     "name": "stderr",
     "output_type": "stream",
     "text": [
      " 14%|█████████▋                                                            | 13901/100000 [2:20:01<21:40:10,  1.10it/s]"
     ]
    },
    {
     "name": "stdout",
     "output_type": "stream",
     "text": [
      "-257.4 0.30495000000007655\n"
     ]
    },
    {
     "name": "stderr",
     "output_type": "stream",
     "text": [
      " 14%|█████████▊                                                            | 14001/100000 [2:21:40<23:45:56,  1.01it/s]"
     ]
    },
    {
     "name": "stdout",
     "output_type": "stream",
     "text": [
      "-246.2 0.2999500000000771\n"
     ]
    },
    {
     "name": "stderr",
     "output_type": "stream",
     "text": [
      " 14%|█████████▊                                                            | 14101/100000 [2:23:19<26:13:31,  1.10s/it]"
     ]
    },
    {
     "name": "stdout",
     "output_type": "stream",
     "text": [
      "-246.5 0.29495000000007765\n"
     ]
    },
    {
     "name": "stderr",
     "output_type": "stream",
     "text": [
      " 14%|█████████▉                                                            | 14201/100000 [2:25:03<25:57:56,  1.09s/it]"
     ]
    },
    {
     "name": "stdout",
     "output_type": "stream",
     "text": [
      "-241.7 0.2899500000000782\n"
     ]
    },
    {
     "name": "stderr",
     "output_type": "stream",
     "text": [
      " 14%|██████████                                                            | 14301/100000 [2:26:49<26:56:33,  1.13s/it]"
     ]
    },
    {
     "name": "stdout",
     "output_type": "stream",
     "text": [
      "-237.3 0.28495000000007875\n"
     ]
    },
    {
     "name": "stderr",
     "output_type": "stream",
     "text": [
      " 14%|██████████                                                            | 14401/100000 [2:28:38<36:48:29,  1.55s/it]"
     ]
    },
    {
     "name": "stdout",
     "output_type": "stream",
     "text": [
      "-234.7 0.2799500000000793\n"
     ]
    },
    {
     "name": "stderr",
     "output_type": "stream",
     "text": [
      " 15%|██████████▏                                                           | 14501/100000 [2:30:25<23:07:49,  1.03it/s]"
     ]
    },
    {
     "name": "stdout",
     "output_type": "stream",
     "text": [
      "-237.0 0.27495000000007985\n"
     ]
    },
    {
     "name": "stderr",
     "output_type": "stream",
     "text": [
      " 15%|██████████▏                                                           | 14601/100000 [2:32:15<25:45:01,  1.09s/it]"
     ]
    },
    {
     "name": "stdout",
     "output_type": "stream",
     "text": [
      "-237.5 0.2699500000000804\n"
     ]
    },
    {
     "name": "stderr",
     "output_type": "stream",
     "text": [
      " 15%|██████████▎                                                           | 14701/100000 [2:34:00<20:02:56,  1.18it/s]"
     ]
    },
    {
     "name": "stdout",
     "output_type": "stream",
     "text": [
      "-232.9 0.26495000000008095\n"
     ]
    },
    {
     "name": "stderr",
     "output_type": "stream",
     "text": [
      " 15%|██████████▎                                                           | 14801/100000 [2:35:42<21:18:33,  1.11it/s]"
     ]
    },
    {
     "name": "stdout",
     "output_type": "stream",
     "text": [
      "-235.5 0.2599500000000815\n"
     ]
    },
    {
     "name": "stderr",
     "output_type": "stream",
     "text": [
      " 15%|██████████▍                                                           | 14901/100000 [2:37:28<26:23:09,  1.12s/it]"
     ]
    },
    {
     "name": "stdout",
     "output_type": "stream",
     "text": [
      "-230.5 0.25495000000008206\n"
     ]
    },
    {
     "name": "stderr",
     "output_type": "stream",
     "text": [
      " 15%|██████████▌                                                           | 15001/100000 [2:39:13<27:00:50,  1.14s/it]"
     ]
    },
    {
     "name": "stdout",
     "output_type": "stream",
     "text": [
      "-229.4 0.2499500000000826\n"
     ]
    },
    {
     "name": "stderr",
     "output_type": "stream",
     "text": [
      " 15%|██████████▌                                                           | 15101/100000 [2:41:02<24:28:18,  1.04s/it]"
     ]
    },
    {
     "name": "stdout",
     "output_type": "stream",
     "text": [
      "-225.4 0.24495000000008316\n"
     ]
    },
    {
     "name": "stderr",
     "output_type": "stream",
     "text": [
      " 15%|██████████▋                                                           | 15201/100000 [2:42:42<25:07:37,  1.07s/it]"
     ]
    },
    {
     "name": "stdout",
     "output_type": "stream",
     "text": [
      "-239.0 0.2399500000000837\n"
     ]
    },
    {
     "name": "stderr",
     "output_type": "stream",
     "text": [
      " 15%|██████████▋                                                           | 15301/100000 [2:44:27<28:24:19,  1.21s/it]"
     ]
    },
    {
     "name": "stdout",
     "output_type": "stream",
     "text": [
      "-229.6 0.23495000000008426\n"
     ]
    },
    {
     "name": "stderr",
     "output_type": "stream",
     "text": [
      " 15%|██████████▊                                                           | 15401/100000 [2:46:18<25:35:09,  1.09s/it]"
     ]
    },
    {
     "name": "stdout",
     "output_type": "stream",
     "text": [
      "-223.4 0.2299500000000848\n"
     ]
    },
    {
     "name": "stderr",
     "output_type": "stream",
     "text": [
      " 16%|██████████▊                                                           | 15501/100000 [2:48:09<27:28:56,  1.17s/it]"
     ]
    },
    {
     "name": "stdout",
     "output_type": "stream",
     "text": [
      "-221.3 0.22495000000008536\n"
     ]
    },
    {
     "name": "stderr",
     "output_type": "stream",
     "text": [
      " 16%|██████████▉                                                           | 15601/100000 [2:50:06<28:29:19,  1.22s/it]"
     ]
    },
    {
     "name": "stdout",
     "output_type": "stream",
     "text": [
      "-210.6 0.2199500000000859\n"
     ]
    },
    {
     "name": "stderr",
     "output_type": "stream",
     "text": [
      " 16%|██████████▉                                                           | 15701/100000 [2:51:56<24:49:33,  1.06s/it]"
     ]
    },
    {
     "name": "stdout",
     "output_type": "stream",
     "text": [
      "-220.2 0.21495000000008646\n"
     ]
    },
    {
     "name": "stderr",
     "output_type": "stream",
     "text": [
      " 16%|███████████                                                           | 15801/100000 [2:53:52<28:41:13,  1.23s/it]"
     ]
    },
    {
     "name": "stdout",
     "output_type": "stream",
     "text": [
      "-206.2 0.209950000000087\n"
     ]
    },
    {
     "name": "stderr",
     "output_type": "stream",
     "text": [
      " 16%|███████████▏                                                          | 15901/100000 [2:55:52<26:47:28,  1.15s/it]"
     ]
    },
    {
     "name": "stdout",
     "output_type": "stream",
     "text": [
      "-200.4 0.20495000000008756\n"
     ]
    },
    {
     "name": "stderr",
     "output_type": "stream",
     "text": [
      " 16%|███████████▏                                                          | 16001/100000 [2:57:56<32:18:20,  1.38s/it]"
     ]
    },
    {
     "name": "stdout",
     "output_type": "stream",
     "text": [
      "-197.7 0.1999500000000881\n"
     ]
    },
    {
     "name": "stderr",
     "output_type": "stream",
     "text": [
      " 16%|███████████▎                                                          | 16101/100000 [3:00:06<26:59:00,  1.16s/it]"
     ]
    },
    {
     "name": "stdout",
     "output_type": "stream",
     "text": [
      "-181.9 0.19495000000008866\n"
     ]
    },
    {
     "name": "stderr",
     "output_type": "stream",
     "text": [
      " 16%|███████████▎                                                          | 16201/100000 [3:02:10<27:08:33,  1.17s/it]"
     ]
    },
    {
     "name": "stdout",
     "output_type": "stream",
     "text": [
      "-194.1 0.18995000000008921\n"
     ]
    },
    {
     "name": "stderr",
     "output_type": "stream",
     "text": [
      " 16%|███████████▍                                                          | 16301/100000 [3:04:18<29:07:47,  1.25s/it]"
     ]
    },
    {
     "name": "stdout",
     "output_type": "stream",
     "text": [
      "-190.4 0.18495000000008976\n"
     ]
    },
    {
     "name": "stderr",
     "output_type": "stream",
     "text": [
      " 16%|███████████▍                                                          | 16401/100000 [3:06:24<34:45:08,  1.50s/it]"
     ]
    },
    {
     "name": "stdout",
     "output_type": "stream",
     "text": [
      "-190.1 0.17995000000009032\n"
     ]
    },
    {
     "name": "stderr",
     "output_type": "stream",
     "text": [
      " 17%|███████████▌                                                          | 16501/100000 [3:08:29<37:15:40,  1.61s/it]"
     ]
    },
    {
     "name": "stdout",
     "output_type": "stream",
     "text": [
      "-194.7 0.17495000000009087\n"
     ]
    },
    {
     "name": "stderr",
     "output_type": "stream",
     "text": [
      " 17%|███████████▌                                                          | 16601/100000 [3:10:42<27:29:49,  1.19s/it]"
     ]
    },
    {
     "name": "stdout",
     "output_type": "stream",
     "text": [
      "-179.2 0.16995000000009142\n"
     ]
    },
    {
     "name": "stderr",
     "output_type": "stream",
     "text": [
      " 17%|███████████▋                                                          | 16701/100000 [3:12:59<33:14:57,  1.44s/it]"
     ]
    },
    {
     "name": "stdout",
     "output_type": "stream",
     "text": [
      "-170.6 0.16495000000009197\n"
     ]
    },
    {
     "name": "stderr",
     "output_type": "stream",
     "text": [
      " 17%|███████████▊                                                          | 16801/100000 [3:15:05<29:30:52,  1.28s/it]"
     ]
    },
    {
     "name": "stdout",
     "output_type": "stream",
     "text": [
      "-192.7 0.15995000000009252\n"
     ]
    },
    {
     "name": "stderr",
     "output_type": "stream",
     "text": [
      " 17%|███████████▊                                                          | 16901/100000 [3:17:36<48:42:08,  2.11s/it]"
     ]
    },
    {
     "name": "stdout",
     "output_type": "stream",
     "text": [
      "-147.6 0.15495000000009307\n"
     ]
    },
    {
     "name": "stderr",
     "output_type": "stream",
     "text": [
      " 17%|███████████▉                                                          | 17001/100000 [3:19:58<38:39:06,  1.68s/it]"
     ]
    },
    {
     "name": "stdout",
     "output_type": "stream",
     "text": [
      "-165.1 0.14995000000009362\n"
     ]
    },
    {
     "name": "stderr",
     "output_type": "stream",
     "text": [
      " 17%|███████████▉                                                          | 17101/100000 [3:22:20<40:04:21,  1.74s/it]"
     ]
    },
    {
     "name": "stdout",
     "output_type": "stream",
     "text": [
      "-165.3 0.14495000000009417\n"
     ]
    },
    {
     "name": "stderr",
     "output_type": "stream",
     "text": [
      " 17%|████████████                                                          | 17201/100000 [3:24:50<32:27:17,  1.41s/it]"
     ]
    },
    {
     "name": "stdout",
     "output_type": "stream",
     "text": [
      "-151.6 0.13995000000009472\n"
     ]
    },
    {
     "name": "stderr",
     "output_type": "stream",
     "text": [
      " 17%|████████████                                                          | 17301/100000 [3:27:31<38:38:23,  1.68s/it]"
     ]
    },
    {
     "name": "stdout",
     "output_type": "stream",
     "text": [
      "-127.4 0.13495000000009527\n"
     ]
    },
    {
     "name": "stderr",
     "output_type": "stream",
     "text": [
      " 17%|████████████▏                                                         | 17401/100000 [3:30:22<45:51:13,  2.00s/it]"
     ]
    },
    {
     "name": "stdout",
     "output_type": "stream",
     "text": [
      "-112.8 0.12995000000009582\n"
     ]
    },
    {
     "name": "stderr",
     "output_type": "stream",
     "text": [
      " 18%|████████████▎                                                         | 17501/100000 [3:33:08<42:59:52,  1.88s/it]"
     ]
    },
    {
     "name": "stdout",
     "output_type": "stream",
     "text": [
      "-118.5 0.12495000000009637\n"
     ]
    },
    {
     "name": "stderr",
     "output_type": "stream",
     "text": [
      " 18%|████████████▎                                                         | 17601/100000 [3:36:07<52:12:58,  2.28s/it]"
     ]
    },
    {
     "name": "stdout",
     "output_type": "stream",
     "text": [
      "-95.3 0.11995000000009692\n"
     ]
    },
    {
     "name": "stderr",
     "output_type": "stream",
     "text": [
      " 18%|████████████▍                                                         | 17701/100000 [3:39:01<38:32:44,  1.69s/it]"
     ]
    },
    {
     "name": "stdout",
     "output_type": "stream",
     "text": [
      "-104.4 0.11495000000009747\n"
     ]
    },
    {
     "name": "stderr",
     "output_type": "stream",
     "text": [
      " 18%|████████████▍                                                         | 17801/100000 [3:42:07<44:59:16,  1.97s/it]"
     ]
    },
    {
     "name": "stdout",
     "output_type": "stream",
     "text": [
      "-82.7 0.10995000000009802\n"
     ]
    },
    {
     "name": "stderr",
     "output_type": "stream",
     "text": [
      " 18%|████████████▌                                                         | 17901/100000 [3:45:03<30:09:34,  1.32s/it]"
     ]
    },
    {
     "name": "stdout",
     "output_type": "stream",
     "text": [
      "-99.9 0.10495000000009858\n"
     ]
    },
    {
     "name": "stderr",
     "output_type": "stream",
     "text": [
      " 18%|████████████▌                                                         | 18001/100000 [3:48:15<41:42:40,  1.83s/it]"
     ]
    },
    {
     "name": "stdout",
     "output_type": "stream",
     "text": [
      "-71.5 0.09995000000009913\n"
     ]
    },
    {
     "name": "stderr",
     "output_type": "stream",
     "text": [
      " 18%|████████████▋                                                         | 18101/100000 [3:51:29<41:26:21,  1.82s/it]"
     ]
    },
    {
     "name": "stdout",
     "output_type": "stream",
     "text": [
      "-66.2 0.09495000000009968\n"
     ]
    },
    {
     "name": "stderr",
     "output_type": "stream",
     "text": [
      " 18%|████████████▋                                                         | 18201/100000 [3:54:47<40:56:56,  1.80s/it]"
     ]
    },
    {
     "name": "stdout",
     "output_type": "stream",
     "text": [
      "-60.7 0.08995000000010023\n"
     ]
    },
    {
     "name": "stderr",
     "output_type": "stream",
     "text": [
      " 18%|████████████▊                                                         | 18301/100000 [3:58:17<56:43:52,  2.50s/it]"
     ]
    },
    {
     "name": "stdout",
     "output_type": "stream",
     "text": [
      "-84.4 0.08495000000010078\n"
     ]
    },
    {
     "name": "stderr",
     "output_type": "stream",
     "text": [
      " 18%|████████████▉                                                         | 18401/100000 [4:02:32<51:02:22,  2.25s/it]"
     ]
    },
    {
     "name": "stdout",
     "output_type": "stream",
     "text": [
      "-50.7 0.07995000000010133\n"
     ]
    },
    {
     "name": "stderr",
     "output_type": "stream",
     "text": [
      " 19%|████████████▉                                                         | 18501/100000 [4:06:45<47:43:17,  2.11s/it]"
     ]
    },
    {
     "name": "stdout",
     "output_type": "stream",
     "text": [
      "-47.8 0.07495000000010188\n"
     ]
    },
    {
     "name": "stderr",
     "output_type": "stream",
     "text": [
      " 19%|█████████████                                                         | 18601/100000 [4:11:22<57:40:40,  2.55s/it]"
     ]
    },
    {
     "name": "stdout",
     "output_type": "stream",
     "text": [
      "-8.3 0.06995000000010243\n"
     ]
    },
    {
     "name": "stderr",
     "output_type": "stream",
     "text": [
      " 19%|█████████████                                                         | 18701/100000 [4:15:49<56:57:28,  2.52s/it]"
     ]
    },
    {
     "name": "stdout",
     "output_type": "stream",
     "text": [
      "-19.1 0.06495000000010298\n"
     ]
    },
    {
     "name": "stderr",
     "output_type": "stream",
     "text": [
      " 19%|█████████████▏                                                        | 18801/100000 [4:20:38<65:31:59,  2.91s/it]"
     ]
    },
    {
     "name": "stdout",
     "output_type": "stream",
     "text": [
      "14.0 0.05995000000010318\n"
     ]
    },
    {
     "name": "stderr",
     "output_type": "stream",
     "text": [
      " 19%|█████████████▏                                                        | 18901/100000 [4:25:39<56:49:52,  2.52s/it]"
     ]
    },
    {
     "name": "stdout",
     "output_type": "stream",
     "text": [
      "34.5 0.054950000000103034\n"
     ]
    },
    {
     "name": "stderr",
     "output_type": "stream",
     "text": [
      " 19%|█████████████▎                                                        | 19001/100000 [4:30:30<63:08:53,  2.81s/it]"
     ]
    },
    {
     "name": "stdout",
     "output_type": "stream",
     "text": [
      "14.2 0.04995000000010289\n"
     ]
    },
    {
     "name": "stderr",
     "output_type": "stream",
     "text": [
      " 19%|█████████████▎                                                        | 19101/100000 [4:36:02<86:33:14,  3.85s/it]"
     ]
    },
    {
     "name": "stdout",
     "output_type": "stream",
     "text": [
      "82.2 0.04495000000010275\n"
     ]
    },
    {
     "name": "stderr",
     "output_type": "stream",
     "text": [
      " 19%|█████████████▍                                                        | 19201/100000 [4:41:44<88:18:56,  3.93s/it]"
     ]
    },
    {
     "name": "stdout",
     "output_type": "stream",
     "text": [
      "97.1 0.039950000000102605\n"
     ]
    },
    {
     "name": "stderr",
     "output_type": "stream",
     "text": [
      " 19%|█████████████▌                                                        | 19301/100000 [4:47:50<77:45:02,  3.47s/it]"
     ]
    },
    {
     "name": "stdout",
     "output_type": "stream",
     "text": [
      "142.3 0.03495000000010246\n"
     ]
    },
    {
     "name": "stderr",
     "output_type": "stream",
     "text": [
      " 19%|█████████████▌                                                        | 19401/100000 [4:53:49<71:28:17,  3.19s/it]"
     ]
    },
    {
     "name": "stdout",
     "output_type": "stream",
     "text": [
      "112.1 0.02995000000010232\n"
     ]
    },
    {
     "name": "stderr",
     "output_type": "stream",
     "text": [
      " 20%|█████████████▋                                                        | 19501/100000 [4:58:44<59:47:57,  2.67s/it]"
     ]
    },
    {
     "name": "stdout",
     "output_type": "stream",
     "text": [
      "97.4 0.024950000000102175\n"
     ]
    },
    {
     "name": "stderr",
     "output_type": "stream",
     "text": [
      " 20%|█████████████▋                                                        | 19601/100000 [5:04:07<81:53:05,  3.67s/it]"
     ]
    },
    {
     "name": "stdout",
     "output_type": "stream",
     "text": [
      "174.2 0.019950000000102032\n"
     ]
    },
    {
     "name": "stderr",
     "output_type": "stream",
     "text": [
      " 20%|█████████████▊                                                        | 19701/100000 [5:09:35<69:18:13,  3.11s/it]"
     ]
    },
    {
     "name": "stdout",
     "output_type": "stream",
     "text": [
      "169.9 0.014950000000101913\n"
     ]
    },
    {
     "name": "stderr",
     "output_type": "stream",
     "text": [
      " 20%|█████████████▋                                                       | 19801/100000 [5:15:55<133:39:00,  6.00s/it]"
     ]
    },
    {
     "name": "stdout",
     "output_type": "stream",
     "text": [
      "238.2 0.009950000000101943\n"
     ]
    },
    {
     "name": "stderr",
     "output_type": "stream",
     "text": [
      " 20%|█████████████▋                                                       | 19901/100000 [5:22:43<173:19:22,  7.79s/it]"
     ]
    },
    {
     "name": "stdout",
     "output_type": "stream",
     "text": [
      "297.6 0.0049500000001019735\n"
     ]
    },
    {
     "name": "stderr",
     "output_type": "stream",
     "text": [
      " 20%|█████████████▊                                                       | 20001/100000 [5:30:46<101:17:51,  4.56s/it]"
     ]
    },
    {
     "name": "stdout",
     "output_type": "stream",
     "text": [
      "425.4 0.001\n"
     ]
    },
    {
     "name": "stderr",
     "output_type": "stream",
     "text": [
      " 20%|█████████████▊                                                       | 20101/100000 [5:38:05<119:44:51,  5.40s/it]"
     ]
    },
    {
     "name": "stdout",
     "output_type": "stream",
     "text": [
      "392.0 0.001\n"
     ]
    },
    {
     "name": "stderr",
     "output_type": "stream",
     "text": [
      " 20%|██████████████▏                                                       | 20201/100000 [5:43:30<51:59:27,  2.35s/it]"
     ]
    },
    {
     "name": "stdout",
     "output_type": "stream",
     "text": [
      "167.2 0.001\n"
     ]
    },
    {
     "name": "stderr",
     "output_type": "stream",
     "text": [
      " 20%|██████████████▏                                                       | 20301/100000 [5:49:43<47:53:28,  2.16s/it]"
     ]
    },
    {
     "name": "stdout",
     "output_type": "stream",
     "text": [
      "303.3 0.001\n"
     ]
    },
    {
     "name": "stderr",
     "output_type": "stream",
     "text": [
      " 20%|██████████████▏                                                       | 20305/100000 [5:49:52<22:53:12,  1.03s/it]\n"
     ]
    },
    {
     "ename": "KeyboardInterrupt",
     "evalue": "",
     "output_type": "error",
     "traceback": [
      "\u001b[1;31m---------------------------------------------------------------------------\u001b[0m",
      "\u001b[1;31mKeyboardInterrupt\u001b[0m                         Traceback (most recent call last)",
      "Input \u001b[1;32mIn [22]\u001b[0m, in \u001b[0;36m<cell line: 1>\u001b[1;34m()\u001b[0m\n\u001b[1;32m----> 1\u001b[0m \u001b[43mtrain\u001b[49m\u001b[43m(\u001b[49m\u001b[43mepsilon\u001b[49m\u001b[43m)\u001b[49m\n",
      "Input \u001b[1;32mIn [21]\u001b[0m, in \u001b[0;36mtrain\u001b[1;34m(eps)\u001b[0m\n\u001b[0;32m     51\u001b[0m random_action \u001b[38;5;241m=\u001b[39m  random\u001b[38;5;241m.\u001b[39mrandom() \u001b[38;5;241m<\u001b[39m\u001b[38;5;241m=\u001b[39m eps\n\u001b[0;32m     52\u001b[0m env\u001b[38;5;241m.\u001b[39mnew_figure()\n\u001b[1;32m---> 53\u001b[0m next_state, next_feature, reward, done \u001b[38;5;241m=\u001b[39m \u001b[43msimulate_RL\u001b[49m\u001b[43m(\u001b[49m\u001b[43menv\u001b[49m\u001b[43m,\u001b[49m\u001b[43m \u001b[49m\u001b[43mrandom_action\u001b[49m\u001b[43m)\u001b[49m\n\u001b[0;32m     54\u001b[0m score \u001b[38;5;241m+\u001b[39m\u001b[38;5;241m=\u001b[39m reward\n\u001b[0;32m     56\u001b[0m replay_memory\u001b[38;5;241m.\u001b[39mappend((feature, reward, next_feature, done))\n",
      "Input \u001b[1;32mIn [21]\u001b[0m, in \u001b[0;36msimulate_RL\u001b[1;34m(t, isRandom)\u001b[0m\n\u001b[0;32m     23\u001b[0m state \u001b[38;5;241m=\u001b[39m t\u001b[38;5;241m.\u001b[39mstep(fig)\n\u001b[0;32m     24\u001b[0m feature, r \u001b[38;5;241m=\u001b[39m get_state_properties(state)\n\u001b[1;32m---> 25\u001b[0m score \u001b[38;5;241m=\u001b[39m \u001b[43mbehavior\u001b[49m\u001b[43m(\u001b[49m\u001b[43mfeature\u001b[49m\u001b[43m)\u001b[49m\n\u001b[0;32m     26\u001b[0m \u001b[38;5;28;01mif\u001b[39;00m score \u001b[38;5;241m>\u001b[39m opt:\n\u001b[0;32m     27\u001b[0m     opt \u001b[38;5;241m=\u001b[39m score\n",
      "File \u001b[1;32m~\\anaconda3\\lib\\site-packages\\torch\\nn\\modules\\module.py:1194\u001b[0m, in \u001b[0;36mModule._call_impl\u001b[1;34m(self, *input, **kwargs)\u001b[0m\n\u001b[0;32m   1190\u001b[0m \u001b[38;5;66;03m# If we don't have any hooks, we want to skip the rest of the logic in\u001b[39;00m\n\u001b[0;32m   1191\u001b[0m \u001b[38;5;66;03m# this function, and just call forward.\u001b[39;00m\n\u001b[0;32m   1192\u001b[0m \u001b[38;5;28;01mif\u001b[39;00m \u001b[38;5;129;01mnot\u001b[39;00m (\u001b[38;5;28mself\u001b[39m\u001b[38;5;241m.\u001b[39m_backward_hooks \u001b[38;5;129;01mor\u001b[39;00m \u001b[38;5;28mself\u001b[39m\u001b[38;5;241m.\u001b[39m_forward_hooks \u001b[38;5;129;01mor\u001b[39;00m \u001b[38;5;28mself\u001b[39m\u001b[38;5;241m.\u001b[39m_forward_pre_hooks \u001b[38;5;129;01mor\u001b[39;00m _global_backward_hooks\n\u001b[0;32m   1193\u001b[0m         \u001b[38;5;129;01mor\u001b[39;00m _global_forward_hooks \u001b[38;5;129;01mor\u001b[39;00m _global_forward_pre_hooks):\n\u001b[1;32m-> 1194\u001b[0m     \u001b[38;5;28;01mreturn\u001b[39;00m forward_call(\u001b[38;5;241m*\u001b[39m\u001b[38;5;28minput\u001b[39m, \u001b[38;5;241m*\u001b[39m\u001b[38;5;241m*\u001b[39mkwargs)\n\u001b[0;32m   1195\u001b[0m \u001b[38;5;66;03m# Do not call functions when jit is used\u001b[39;00m\n\u001b[0;32m   1196\u001b[0m full_backward_hooks, non_full_backward_hooks \u001b[38;5;241m=\u001b[39m [], []\n",
      "Input \u001b[1;32mIn [15]\u001b[0m, in \u001b[0;36mNeuralNet.forward\u001b[1;34m(self, x)\u001b[0m\n\u001b[0;32m     12\u001b[0m \u001b[38;5;28;01mdef\u001b[39;00m \u001b[38;5;21mforward\u001b[39m(\u001b[38;5;28mself\u001b[39m, x):\n\u001b[0;32m     13\u001b[0m     \u001b[38;5;124;03m\"\"\" CODE HERE:\u001b[39;00m\n\u001b[0;32m     14\u001b[0m \u001b[38;5;124;03m            Implement the forward propagation\u001b[39;00m\n\u001b[0;32m     15\u001b[0m \u001b[38;5;124;03m    \"\"\"\u001b[39;00m\n\u001b[1;32m---> 16\u001b[0m     x \u001b[38;5;241m=\u001b[39m F\u001b[38;5;241m.\u001b[39mrelu(\u001b[38;5;28;43mself\u001b[39;49m\u001b[38;5;241;43m.\u001b[39;49m\u001b[43mfc1\u001b[49m\u001b[43m(\u001b[49m\u001b[43mx\u001b[49m\u001b[43m)\u001b[49m)\n\u001b[0;32m     17\u001b[0m     x \u001b[38;5;241m=\u001b[39m F\u001b[38;5;241m.\u001b[39mrelu(\u001b[38;5;28mself\u001b[39m\u001b[38;5;241m.\u001b[39mfc2(x))\n\u001b[0;32m     18\u001b[0m     \u001b[38;5;28;01mreturn\u001b[39;00m \u001b[38;5;28mself\u001b[39m\u001b[38;5;241m.\u001b[39mfc3(x)\n",
      "File \u001b[1;32m~\\anaconda3\\lib\\site-packages\\torch\\nn\\modules\\module.py:1194\u001b[0m, in \u001b[0;36mModule._call_impl\u001b[1;34m(self, *input, **kwargs)\u001b[0m\n\u001b[0;32m   1190\u001b[0m \u001b[38;5;66;03m# If we don't have any hooks, we want to skip the rest of the logic in\u001b[39;00m\n\u001b[0;32m   1191\u001b[0m \u001b[38;5;66;03m# this function, and just call forward.\u001b[39;00m\n\u001b[0;32m   1192\u001b[0m \u001b[38;5;28;01mif\u001b[39;00m \u001b[38;5;129;01mnot\u001b[39;00m (\u001b[38;5;28mself\u001b[39m\u001b[38;5;241m.\u001b[39m_backward_hooks \u001b[38;5;129;01mor\u001b[39;00m \u001b[38;5;28mself\u001b[39m\u001b[38;5;241m.\u001b[39m_forward_hooks \u001b[38;5;129;01mor\u001b[39;00m \u001b[38;5;28mself\u001b[39m\u001b[38;5;241m.\u001b[39m_forward_pre_hooks \u001b[38;5;129;01mor\u001b[39;00m _global_backward_hooks\n\u001b[0;32m   1193\u001b[0m         \u001b[38;5;129;01mor\u001b[39;00m _global_forward_hooks \u001b[38;5;129;01mor\u001b[39;00m _global_forward_pre_hooks):\n\u001b[1;32m-> 1194\u001b[0m     \u001b[38;5;28;01mreturn\u001b[39;00m forward_call(\u001b[38;5;241m*\u001b[39m\u001b[38;5;28minput\u001b[39m, \u001b[38;5;241m*\u001b[39m\u001b[38;5;241m*\u001b[39mkwargs)\n\u001b[0;32m   1195\u001b[0m \u001b[38;5;66;03m# Do not call functions when jit is used\u001b[39;00m\n\u001b[0;32m   1196\u001b[0m full_backward_hooks, non_full_backward_hooks \u001b[38;5;241m=\u001b[39m [], []\n",
      "File \u001b[1;32m~\\anaconda3\\lib\\site-packages\\torch\\nn\\modules\\linear.py:114\u001b[0m, in \u001b[0;36mLinear.forward\u001b[1;34m(self, input)\u001b[0m\n\u001b[0;32m    113\u001b[0m \u001b[38;5;28;01mdef\u001b[39;00m \u001b[38;5;21mforward\u001b[39m(\u001b[38;5;28mself\u001b[39m, \u001b[38;5;28minput\u001b[39m: Tensor) \u001b[38;5;241m-\u001b[39m\u001b[38;5;241m>\u001b[39m Tensor:\n\u001b[1;32m--> 114\u001b[0m     \u001b[38;5;28;01mreturn\u001b[39;00m \u001b[43mF\u001b[49m\u001b[38;5;241;43m.\u001b[39;49m\u001b[43mlinear\u001b[49m\u001b[43m(\u001b[49m\u001b[38;5;28;43minput\u001b[39;49m\u001b[43m,\u001b[49m\u001b[43m \u001b[49m\u001b[38;5;28;43mself\u001b[39;49m\u001b[38;5;241;43m.\u001b[39;49m\u001b[43mweight\u001b[49m\u001b[43m,\u001b[49m\u001b[43m \u001b[49m\u001b[38;5;28;43mself\u001b[39;49m\u001b[38;5;241;43m.\u001b[39;49m\u001b[43mbias\u001b[49m\u001b[43m)\u001b[49m\n",
      "\u001b[1;31mKeyboardInterrupt\u001b[0m: "
     ]
    }
   ],
   "source": [
    "train(epsilon)"
   ]
  },
  {
   "cell_type": "code",
   "execution_count": 25,
   "id": "d7c5e692",
   "metadata": {},
   "outputs": [
    {
     "name": "stderr",
     "output_type": "stream",
     "text": [
      "100%|████████████████████████████████████████████████████████████████████████████████████| 1/1 [00:01<00:00,  1.31s/it]"
     ]
    },
    {
     "name": "stdout",
     "output_type": "stream",
     "text": [
      "///////////Game Over//////////////////\n",
      "390\n"
     ]
    },
    {
     "name": "stderr",
     "output_type": "stream",
     "text": [
      "\n"
     ]
    }
   ],
   "source": [
    "pbar = tqdm.trange(1)\n",
    "for t in pbar:\n",
    "    env.reset() \n",
    "    feature = torch.zeros(feature_len).float()\n",
    "    score = 0\n",
    "    while True:\n",
    "        random_action =  random.random() <= eps_min\n",
    "        env.new_figure()\n",
    "        next_state, next_feature, reward, done = simulate_RL(env, random_action)\n",
    "        score += reward\n",
    "        replay_memory.append((feature, reward, next_feature, done))\n",
    "        if done:\n",
    "            scores.append(score)\n",
    "            print(\"///////////Game Over//////////////////\")\n",
    "            break\n",
    "        env.field = next_state\n",
    "        env.break_lines()\n",
    "#         print()\n",
    "#         for row in env.field:\n",
    "#             print(row)\n",
    "#         print(next_feature)\n",
    "        feature = next_feature\n",
    "print(score)"
   ]
  },
  {
   "cell_type": "code",
   "execution_count": 36,
   "id": "598f5b39",
   "metadata": {},
   "outputs": [
    {
     "name": "stdout",
     "output_type": "stream",
     "text": [
      "Input:q\n"
     ]
    }
   ],
   "source": [
    "t = Tetris(20,10)\n",
    "\n",
    "while True:\n",
    "    sentence = input(\"Input:\")\n",
    "    if sentence ==\"q\":\n",
    "        break\n",
    "    if t.figure is None:\n",
    "        t.new_figure()\n",
    "    if sentence == \"u\":\n",
    "        t.rotate()\n",
    "    elif sentence == \"l\":\n",
    "        t.go_side(-1)\n",
    "    elif sentence == \"r\":\n",
    "        t.go_side(1)\n",
    "    elif sentence == \"s\":\n",
    "        t.go_space()\n",
    "    print(simulate(t))\n",
    "    t.go_down()\n",
    "    print()\n",
    "    for row in t.field:\n",
    "        print(row)"
   ]
  },
  {
   "cell_type": "code",
   "execution_count": 36,
   "id": "e9fd0a68",
   "metadata": {},
   "outputs": [],
   "source": [
    "# Initialize the game engine\n",
    "pygame.init()\n",
    "\n",
    "# Define some colors\n",
    "BLACK = (0, 0, 0)\n",
    "WHITE = (255, 255, 255)\n",
    "GRAY = (128, 128, 128)\n",
    "\n",
    "size = (400, 500)\n",
    "screen = pygame.display.set_mode(size)\n",
    "\n",
    "pygame.display.set_caption(\"Tetris\")\n",
    "\n",
    "# Loop until the user clicks the close button.\n",
    "done = False\n",
    "clock = pygame.time.Clock()\n",
    "fps = 10\n",
    "game = Tetris(20, 10)\n",
    "counter = 0\n",
    "\n",
    "pressing_down = False\n",
    "\n",
    "while not done:\n",
    "    if game.figure is None:\n",
    "        game.new_figure()\n",
    "    counter += 1\n",
    "    if counter > 100000:\n",
    "        counter = 0\n",
    "\n",
    "    if counter % (fps // game.level // 2) == 0 or pressing_down:\n",
    "        if not game.done:\n",
    "            game.go_down()\n",
    "\n",
    "    for event in list(pygame.event.get()) + run_ai(game):\n",
    "        if event.type == pygame.QUIT:\n",
    "            done = True\n",
    "        if event.type == pygame.KEYDOWN:\n",
    "            if event.key == pygame.K_UP:\n",
    "                game.rotate()\n",
    "            if event.key == pygame.K_DOWN:\n",
    "                pressing_down = True\n",
    "            if event.key == pygame.K_LEFT:\n",
    "                game.go_side(-1)\n",
    "            if event.key == pygame.K_RIGHT:\n",
    "                game.go_side(1)\n",
    "            if event.key == pygame.K_SPACE:\n",
    "                game.go_space()\n",
    "            if event.key == pygame.K_ESCAPE:\n",
    "                game.__init__(20, 10)\n",
    "\n",
    "    if event.type == pygame.KEYUP:\n",
    "            if event.key == pygame.K_DOWN:\n",
    "                pressing_down = False\n",
    "\n",
    "    screen.fill(WHITE)\n",
    "\n",
    "    for i in range(game.height):\n",
    "        for j in range(game.width):\n",
    "            pygame.draw.rect(screen, GRAY, [game.x + game.zoom * j, game.y + game.zoom * i, game.zoom, game.zoom], 1)\n",
    "            if game.field[i][j] > 0:\n",
    "                pygame.draw.rect(screen, colors[game.field[i][j]],\n",
    "                                 [game.x + game.zoom * j + 1, game.y + game.zoom * i + 1, game.zoom - 2, game.zoom - 1])\n",
    "    \n",
    "    if game.figure is not None:\n",
    "        for i in range(4):\n",
    "            for j in range(4):\n",
    "                p = i * 4 + j\n",
    "                if p in game.figure.image():\n",
    "                    pygame.draw.rect(screen, colors[game.figure.color],\n",
    "                                     [game.x + game.zoom * (j + game.figure.x) + 1,\n",
    "                                      game.y + game.zoom * (i + game.figure.y) + 1,\n",
    "                                      game.zoom - 2, game.zoom - 2])\n",
    "\n",
    "    font = pygame.font.SysFont('Calibri', 25, True, False)\n",
    "    font1 = pygame.font.SysFont('Calibri', 65, True, False)\n",
    "    text = font.render(\"Score: \" + str(game.score), True, BLACK)\n",
    "    text_game_over = font1.render(\"Game Over\", True, (255, 125, 0))\n",
    "    text_game_over1 = font1.render(\"Press ESC\", True, (255, 215, 0))\n",
    "\n",
    "    screen.blit(text, [0, 0])\n",
    "    if game.done:\n",
    "        screen.blit(text_game_over, [20, 200])\n",
    "        screen.blit(text_game_over1, [25, 265])\n",
    "\n",
    "    pygame.display.flip()\n",
    "    clock.tick(fps)\n",
    "\n",
    "pygame.quit()"
   ]
  },
  {
   "cell_type": "code",
   "execution_count": null,
   "id": "c14b4bf3",
   "metadata": {},
   "outputs": [],
   "source": []
  }
 ],
 "metadata": {
  "kernelspec": {
   "display_name": "Python 3 (ipykernel)",
   "language": "python",
   "name": "python3"
  },
  "language_info": {
   "codemirror_mode": {
    "name": "ipython",
    "version": 3
   },
   "file_extension": ".py",
   "mimetype": "text/x-python",
   "name": "python",
   "nbconvert_exporter": "python",
   "pygments_lexer": "ipython3",
   "version": "3.9.12"
  }
 },
 "nbformat": 4,
 "nbformat_minor": 5
}
