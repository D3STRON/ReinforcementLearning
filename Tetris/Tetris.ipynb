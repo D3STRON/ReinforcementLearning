{
 "cells": [
  {
   "cell_type": "code",
   "execution_count": 1,
   "id": "6d7b28be",
   "metadata": {},
   "outputs": [
    {
     "name": "stdout",
     "output_type": "stream",
     "text": [
      "pygame 2.1.0 (SDL 2.0.16, Python 3.9.12)\n",
      "Hello from the pygame community. https://www.pygame.org/contribute.html\n"
     ]
    }
   ],
   "source": [
    "import numpy as np\n",
    "import torch\n",
    "import pygame\n",
    "import random\n",
    "from torch import nn\n",
    "from torch.distributions import Categorical\n",
    "import torch.nn.functional as F\n",
    "import copy\n",
    "from collections import deque\n",
    "import tqdm\n",
    "\n",
    "colors = [\n",
    "    (0, 0, 0),\n",
    "    (120, 37, 179),\n",
    "    (100, 179, 179),\n",
    "    (80, 34, 22),\n",
    "    (80, 134, 22),\n",
    "    (180, 34, 22),\n",
    "    (180, 34, 122),\n",
    "]\n"
   ]
  },
  {
   "cell_type": "code",
   "execution_count": 2,
   "id": "9db31a88",
   "metadata": {},
   "outputs": [
    {
     "data": {
      "text/plain": [
       "device(type='cuda')"
      ]
     },
     "execution_count": 2,
     "metadata": {},
     "output_type": "execute_result"
    }
   ],
   "source": [
    "device = torch.device('cuda' if torch.cuda.is_available() else 'cpu')\n",
    "device"
   ]
  },
  {
   "cell_type": "code",
   "execution_count": 3,
   "id": "cc55c998",
   "metadata": {},
   "outputs": [],
   "source": [
    "class Event():\n",
    "    type = None\n",
    "    key = None\n",
    "\n",
    "    def __init__(self, type, key):\n",
    "        self.type = type\n",
    "        self.key = key"
   ]
  },
  {
   "cell_type": "code",
   "execution_count": 27,
   "id": "1daf30b1",
   "metadata": {},
   "outputs": [],
   "source": [
    "class Figure:\n",
    "    x = 0\n",
    "    y = 0\n",
    "\n",
    "    figures = [\n",
    "        [[1, 5, 9, 13], [4, 5, 6, 7]],\n",
    "        [[4, 5, 9, 10], [2, 6, 5, 9]],\n",
    "        [[6, 7, 9, 10], [1, 5, 6, 10]],\n",
    "        [[1, 2, 5, 9], [0, 4, 5, 6], [1, 5, 9, 8], [4, 5, 6, 10]],\n",
    "        [[1, 2, 6, 10], [5, 6, 7, 9], [2, 6, 10, 11], [3, 5, 6, 7]],\n",
    "        [[1, 4, 5, 6], [1, 4, 5, 9], [4, 5, 6, 9], [1, 5, 6, 9]],\n",
    "        [[1, 2, 5, 6]],\n",
    "    ]\n",
    "\n",
    "    def __init__(self, x, y):\n",
    "        self.x = x\n",
    "        self.y = y\n",
    "        self.type = random.randint(0, len(self.figures) - 1)\n",
    "        self.color = 1\n",
    "        self.rotation = 0\n",
    "\n",
    "    def image(self):\n",
    "        return self.figures[self.type][self.rotation]\n",
    "\n",
    "    def rotate(self):\n",
    "        self.rotation = (self.rotation + 1) % len(self.figures[self.type])\n"
   ]
  },
  {
   "cell_type": "code",
   "execution_count": 5,
   "id": "30a62761",
   "metadata": {},
   "outputs": [],
   "source": [
    "class Tetris:\n",
    "    def __init__(self, height, width):\n",
    "        self.level = 2\n",
    "        self.score = 0\n",
    "        self.field = []\n",
    "        self.height = 0\n",
    "        self.width = 0\n",
    "        self.x = 100\n",
    "        self.y = 60\n",
    "        self.zoom = 20\n",
    "        self.figure = None\n",
    "    \n",
    "        self.height = height\n",
    "        self.width = width\n",
    "        self.field = []\n",
    "        self.score = 0\n",
    "        self.done = False\n",
    "        for i in range(height):\n",
    "            new_line = []\n",
    "            for j in range(width):\n",
    "                new_line.append(0)\n",
    "            self.field.append(new_line)\n",
    "            \n",
    "    def reset(self):\n",
    "        self.field = []\n",
    "        self.score = 0\n",
    "        self.done = False\n",
    "        for i in range(self.height):\n",
    "            new_line = []\n",
    "            for j in range(self.width):\n",
    "                new_line.append(0)\n",
    "            self.field.append(new_line)\n",
    "\n",
    "    def new_figure(self):\n",
    "        self.figure = Figure(3, 0)\n",
    "\n",
    "    def intersects(self, figure):\n",
    "        intersection = False\n",
    "        for i in range(4):\n",
    "            for j in range(4):\n",
    "                if i * 4 + j in figure.image():\n",
    "                    if i + figure.y > self.height - 1 or \\\n",
    "                            j + figure.x > self.width - 1 or \\\n",
    "                            j + figure.x < 0 or \\\n",
    "                            self.field[i + figure.y][j + figure.x] > 0:\n",
    "                        intersection = True\n",
    "        return intersection\n",
    "    \n",
    "    def step(self, figure):  \n",
    "        state = copy.deepcopy(self.field)\n",
    "        for i in range(4):\n",
    "            for j in range(4):\n",
    "                if i * 4 + j in figure.image():\n",
    "                    state[i + figure.y][j + figure.x] = figure.color\n",
    "        return state\n",
    "\n",
    "    def break_lines(self):\n",
    "        lines = 0\n",
    "        for i in range(0, self.height):\n",
    "            zeros = 0\n",
    "            for j in range(self.width):\n",
    "                if self.field[i][j] == 0:\n",
    "                    zeros += 1\n",
    "            if zeros == 0:\n",
    "                lines += 1\n",
    "                del self.field[i]\n",
    "                self.field.insert(0, [0]*self.width)\n",
    "        self.score += lines ** 2\n",
    "\n",
    "    def go_space(self):\n",
    "        while not self.intersects(self.figure):\n",
    "            self.figure.y += 1\n",
    "        self.figure.y -= 1\n",
    "        self.freeze()\n",
    "\n",
    "    def go_down(self):\n",
    "        self.figure.y += 1\n",
    "        if self.intersects(self.figure):\n",
    "            self.figure.y -= 1\n",
    "            self.freeze()\n",
    "\n",
    "    def freeze(self):\n",
    "        for i in range(4):\n",
    "            for j in range(4):\n",
    "                if i * 4 + j in self.figure.image():\n",
    "                    self.field[i + self.figure.y][j + self.figure.x] = self.figure.color\n",
    "        self.break_lines()\n",
    "        self.new_figure()\n",
    "        self.done =  self.intersects(self.figure)\n",
    "\n",
    "    def go_side(self, dx):\n",
    "        old_x = self.figure.x\n",
    "        self.figure.x += dx\n",
    "        intersects = self.intersects(self.figure)\n",
    "        if intersects:\n",
    "            self.figure.x = old_x\n",
    "        return intersects\n",
    "\n",
    "    def rotate(self):\n",
    "        old_rotation = self.figure.rotation\n",
    "        self.figure.rotate()\n",
    "        if self.intersects(self.figure):\n",
    "            self.figure.rotation = old_rotation\n"
   ]
  },
  {
   "cell_type": "code",
   "execution_count": 6,
   "id": "0aae5f34",
   "metadata": {},
   "outputs": [],
   "source": [
    "class NeuralNet(nn.Module):\n",
    "    def __init__(self, input_dims, hidden_dims, output_dims):\n",
    "        super(NeuralNet, self).__init__()\n",
    "\n",
    "        \"\"\" CODE HERE:\n",
    "                Implement the neural network here\n",
    "        \"\"\"\n",
    "        self.fc1 = nn.Linear(input_dims, hidden_dims)\n",
    "        self.fc2 = nn.Linear(hidden_dims, hidden_dims)\n",
    "        self.fc3 = nn.Linear(hidden_dims, output_dims)\n",
    "\n",
    "    def forward(self, x):\n",
    "        \"\"\" CODE HERE:\n",
    "                Implement the forward propagation\n",
    "        \"\"\"\n",
    "        x = F.relu(self.fc1(x))\n",
    "        x = F.relu(self.fc2(x))\n",
    "        return self.fc3(x)"
   ]
  },
  {
   "cell_type": "code",
   "execution_count": 7,
   "id": "4713ee06",
   "metadata": {},
   "outputs": [],
   "source": [
    "feature_len = 5\n",
    "behavior = NeuralNet(feature_len,64,1)\n",
    "target = NeuralNet(feature_len,64,1)\n",
    "\n",
    "target.load_state_dict(behavior.state_dict())\n",
    "\n",
    "# Preffered way\n",
    "FILE = \"model.pth\"\n",
    "torch.save(target, FILE)"
   ]
  },
  {
   "cell_type": "code",
   "execution_count": 8,
   "id": "f012570c",
   "metadata": {},
   "outputs": [],
   "source": [
    "def get_state_properties(state):\n",
    "    tower_h = []\n",
    "    height_board = len(state)\n",
    "    width_board  = len(state[0])\n",
    "    area = height_board*width\n",
    "    lines = [1]*height_board\n",
    "    holes = []\n",
    "    for j in range(width_board):\n",
    "        tower_h.append(0)\n",
    "        holes.append(0)\n",
    "        top_reached = False\n",
    "        for i in range(height_board):\n",
    "            if state[i][j] == 0:\n",
    "                if top_reached:\n",
    "                    holes[j] += 1\n",
    "                if lines[i] == 1:\n",
    "                    lines[i] = 0\n",
    "            elif state[i][j] != 0 and not top_reached:\n",
    "                tower_h[j] = height_board - i\n",
    "                top_reached =True\n",
    "    bumps = []\n",
    "    for i in range(width_board):\n",
    "        bumps.append(0)\n",
    "        if i != width_board-1:\n",
    "            bumps[i] += abs(tower_h[i+1]-tower_h[i])\n",
    "        if i != 0:\n",
    "            bumps[i] += abs(tower_h[i-1]-tower_h[i])\n",
    "    tower_h = np.array(tower_h) - sum(lines)\n",
    "    feature = torch.tensor([sum(bumps), sum(holes), sum(tower_h), max(tower_h), sum(lines)], dtype=torch.float32)\n",
    "    bfs_score = -sum(bumps) - 13*sum(holes)  - max(tower_h)\n",
    "    return feature, bfs_score\n",
    "\n",
    "\n",
    "def simulate(t):\n",
    "    fig = Figure(3, 0)\n",
    "    fig.type = t.figure.type\n",
    "    fig.color = t.figure.color\n",
    "    opt = float(\"-inf\")\n",
    "    opt_rotation, opt_x = 0, fig.x\n",
    "    if t.intersects(fig):\n",
    "        return opt_rotation, opt_x\n",
    "    fig.x = -3\n",
    "    for i in range(t.width + 3):\n",
    "        for j in range(len(fig.figures[fig.type])):\n",
    "            if not t.intersects(fig):\n",
    "                while not t.intersects(fig):\n",
    "                    fig.y += 1\n",
    "                fig.y-=1\n",
    "                possible_state = t.step(fig)\n",
    "                feature, score = get_state_properties(possible_state)\n",
    "################################ For RL #################################\n",
    "                score = target(feature)\n",
    "#########################################################################\n",
    "                if score > opt:\n",
    "                    opt = score\n",
    "                    opt_rotation = fig.rotation\n",
    "                    opt_x = fig.x\n",
    "                fig.y = 0\n",
    "            fig.rotate()\n",
    "        fig.x += 1\n",
    "    return opt_rotation, opt_x\n",
    "\n",
    "\n",
    "def run_ai(t):\n",
    "    rotation, x = simulate(t)\n",
    "    if t.figure.rotation != rotation:\n",
    "        t.figure.rotation = rotation\n",
    "    elif t.figure.x != x:\n",
    "        t.figure.x = x\n",
    "    else:\n",
    "        return [Event(pygame.KEYDOWN, pygame.K_SPACE)]\n",
    "    return []"
   ]
  },
  {
   "cell_type": "code",
   "execution_count": 9,
   "id": "97fa4e39",
   "metadata": {},
   "outputs": [],
   "source": [
    "feature_len = 5\n",
    "FILE = \"model.pth\"\n",
    "# model must be created agin with parameters\n",
    "behavior = torch.load(FILE)\n",
    "target = NeuralNet(feature_len,64,1)\n",
    "target.load_state_dict(behavior.state_dict())\n",
    "\n",
    "width = 20\n",
    "height = 10\n",
    "\n",
    "env = Tetris(height, width)\n",
    "\n",
    "learning_rate = 1e-3\n",
    "gamma = 0.99\n",
    "epsilon = 0.1\n",
    "eps_dec = 5e-5\n",
    "eps_min = 1e-3\n",
    "optimizer = torch.optim.AdamW(behavior.parameters(), lr=learning_rate)\n",
    "criterion = nn.MSELoss()\n",
    "batch_size = 512"
   ]
  },
  {
   "cell_type": "code",
   "execution_count": 10,
   "id": "7eb301c0",
   "metadata": {},
   "outputs": [],
   "source": [
    "replay_memory = deque(maxlen=30000)\n",
    "scores = deque(maxlen=100)\n",
    "def simulate_RL(t, isRandom):\n",
    "    fig = Figure(3, 0)\n",
    "    reward, best_state, best_feature, done = -300, None, torch.zeros(feature_len), True\n",
    "    if t.intersects(fig):\n",
    "        return best_state, best_feature, reward, done\n",
    "    fig.x = -3\n",
    "    fig.type = t.figure.type\n",
    "    fig.color = t.figure.color\n",
    "    opt = float(\"-inf\")\n",
    "    states, features, rewards = [], [], []\n",
    "    for i in range(t.width + 3):\n",
    "        for j in range(len(fig.figures[fig.type])):\n",
    "            if not t.intersects(fig):\n",
    "                while not t.intersects(fig):\n",
    "                    fig.y += 1\n",
    "                fig.y-=1\n",
    "                done = False\n",
    "                reward = 1\n",
    "                state = t.step(fig)\n",
    "                feature, _ = get_state_properties(state)\n",
    "                score = behavior(feature)\n",
    "                if score > opt:\n",
    "                    opt = score\n",
    "                    best_state = state\n",
    "                    best_feature = feature\n",
    "                states.append(state)\n",
    "                features.append(feature)\n",
    "                fig.y = 0\n",
    "            fig.rotate()\n",
    "        fig.x += 1\n",
    "    if isRandom and not done:\n",
    "        index = random.randint(0, len(states) - 1)\n",
    "        return states[index], features[index], 1, done\n",
    "    return best_state, best_feature, reward, done\n",
    "\n",
    "def train(eps):\n",
    "    pbar = tqdm.trange(int(eps/eps_dec) + 100) \n",
    "    for t in pbar:\n",
    "        env.reset()\n",
    "        feature = torch.zeros(feature_len)\n",
    "        eps =  eps - eps_dec if eps > eps_min else eps_min\n",
    "        score = 0\n",
    "        while True:\n",
    "            random_action =  random.random() <= eps\n",
    "            env.new_figure()\n",
    "            next_state, next_feature, reward, done = simulate_RL(env, random_action)\n",
    "            score += reward\n",
    "            \n",
    "            replay_memory.append((feature, reward, next_feature, done))\n",
    "            \n",
    "            if done:\n",
    "                scores.append(score)\n",
    "                break\n",
    "            env.field = next_state\n",
    "            env.break_lines()\n",
    "            feature = next_feature\n",
    "        batch = random.sample(replay_memory, min(len(replay_memory), batch_size))\n",
    "        feature_batch, reward_batch, next_feature_batch, done_batch = zip(*batch)\n",
    "        feature_batch = torch.stack(tuple(feat for feat in feature_batch))\n",
    "        reward_batch = torch.from_numpy(np.array(reward_batch, dtype=np.float32)[:, None])\n",
    "        next_feature_batch = torch.stack(tuple(feat for feat in next_feature_batch))\n",
    "\n",
    "        q_values = behavior(feature_batch)\n",
    "        with torch.no_grad():\n",
    "            next_prediction_batch = target(next_feature_batch)\n",
    "\n",
    "        y_batch = torch.cat(\n",
    "                tuple(reward if done else reward + gamma * prediction for reward, done, prediction in\n",
    "                      zip(reward_batch, done_batch, next_prediction_batch)))[:, None]\n",
    "        optimizer.zero_grad()\n",
    "        loss = criterion(q_values, y_batch)\n",
    "        loss.backward()\n",
    "        optimizer.step()\n",
    "        if t%100 ==0:\n",
    "            print(np.mean(scores), eps)\n",
    "            torch.save(target, FILE)\n",
    "        if t%30 == 0:\n",
    "            target.load_state_dict(behavior.state_dict())\n"
   ]
  },
  {
   "cell_type": "code",
   "execution_count": 11,
   "id": "932a1284",
   "metadata": {},
   "outputs": [
    {
     "name": "stderr",
     "output_type": "stream",
     "text": [
      "  0%|                                                                                 | 1/2100 [00:00<08:19,  4.20it/s]"
     ]
    },
    {
     "name": "stdout",
     "output_type": "stream",
     "text": [
      "-287.0 0.09995000000000001\n"
     ]
    },
    {
     "name": "stderr",
     "output_type": "stream",
     "text": [
      "  5%|███▊                                                                           | 101/2100 [01:01<22:06,  1.51it/s]"
     ]
    },
    {
     "name": "stdout",
     "output_type": "stream",
     "text": [
      "-266.28 0.09495000000000056\n"
     ]
    },
    {
     "name": "stderr",
     "output_type": "stream",
     "text": [
      " 10%|███████▌                                                                       | 201/2100 [02:10<29:06,  1.09it/s]"
     ]
    },
    {
     "name": "stdout",
     "output_type": "stream",
     "text": [
      "-261.12 0.08995000000000111\n"
     ]
    },
    {
     "name": "stderr",
     "output_type": "stream",
     "text": [
      " 14%|███████████▎                                                                   | 301/2100 [03:32<22:07,  1.36it/s]"
     ]
    },
    {
     "name": "stdout",
     "output_type": "stream",
     "text": [
      "-253.25 0.08495000000000166\n"
     ]
    },
    {
     "name": "stderr",
     "output_type": "stream",
     "text": [
      " 19%|███████████████                                                                | 401/2100 [04:52<23:08,  1.22it/s]"
     ]
    },
    {
     "name": "stdout",
     "output_type": "stream",
     "text": [
      "-254.02 0.07995000000000221\n"
     ]
    },
    {
     "name": "stderr",
     "output_type": "stream",
     "text": [
      " 24%|██████████████████▊                                                            | 501/2100 [06:00<13:19,  2.00it/s]"
     ]
    },
    {
     "name": "stdout",
     "output_type": "stream",
     "text": [
      "-258.93 0.07495000000000276\n"
     ]
    },
    {
     "name": "stderr",
     "output_type": "stream",
     "text": [
      " 29%|██████████████████████▌                                                        | 601/2100 [07:00<20:17,  1.23it/s]"
     ]
    },
    {
     "name": "stdout",
     "output_type": "stream",
     "text": [
      "-257.36 0.06995000000000332\n"
     ]
    },
    {
     "name": "stderr",
     "output_type": "stream",
     "text": [
      " 33%|██████████████████████████▎                                                    | 701/2100 [08:03<16:57,  1.38it/s]"
     ]
    },
    {
     "name": "stdout",
     "output_type": "stream",
     "text": [
      "-255.88 0.06495000000000387\n"
     ]
    },
    {
     "name": "stderr",
     "output_type": "stream",
     "text": [
      " 38%|██████████████████████████████▏                                                | 801/2100 [09:10<14:19,  1.51it/s]"
     ]
    },
    {
     "name": "stdout",
     "output_type": "stream",
     "text": [
      "-252.38 0.05995000000000406\n"
     ]
    },
    {
     "name": "stderr",
     "output_type": "stream",
     "text": [
      " 43%|█████████████████████████████████▉                                             | 901/2100 [10:23<10:15,  1.95it/s]"
     ]
    },
    {
     "name": "stdout",
     "output_type": "stream",
     "text": [
      "-248.17 0.05495000000000392\n"
     ]
    },
    {
     "name": "stderr",
     "output_type": "stream",
     "text": [
      " 48%|█████████████████████████████████████▏                                        | 1001/2100 [11:42<16:11,  1.13it/s]"
     ]
    },
    {
     "name": "stdout",
     "output_type": "stream",
     "text": [
      "-243.62 0.049950000000003776\n"
     ]
    },
    {
     "name": "stderr",
     "output_type": "stream",
     "text": [
      " 52%|████████████████████████████████████████▉                                     | 1101/2100 [12:59<16:19,  1.02it/s]"
     ]
    },
    {
     "name": "stdout",
     "output_type": "stream",
     "text": [
      "-244.06 0.04495000000000363\n"
     ]
    },
    {
     "name": "stderr",
     "output_type": "stream",
     "text": [
      " 57%|████████████████████████████████████████████▌                                 | 1201/2100 [14:32<10:59,  1.36it/s]"
     ]
    },
    {
     "name": "stdout",
     "output_type": "stream",
     "text": [
      "-233.0 0.03995000000000349\n"
     ]
    },
    {
     "name": "stderr",
     "output_type": "stream",
     "text": [
      " 62%|████████████████████████████████████████████████▎                             | 1301/2100 [16:08<13:00,  1.02it/s]"
     ]
    },
    {
     "name": "stdout",
     "output_type": "stream",
     "text": [
      "-230.0 0.034950000000003346\n"
     ]
    },
    {
     "name": "stderr",
     "output_type": "stream",
     "text": [
      " 67%|████████████████████████████████████████████████████                          | 1401/2100 [17:53<12:28,  1.07s/it]"
     ]
    },
    {
     "name": "stdout",
     "output_type": "stream",
     "text": [
      "-223.6 0.029950000000003203\n"
     ]
    },
    {
     "name": "stderr",
     "output_type": "stream",
     "text": [
      " 71%|███████████████████████████████████████████████████████▊                      | 1501/2100 [19:50<20:51,  2.09s/it]"
     ]
    },
    {
     "name": "stdout",
     "output_type": "stream",
     "text": [
      "-214.58 0.02495000000000306\n"
     ]
    },
    {
     "name": "stderr",
     "output_type": "stream",
     "text": [
      " 76%|███████████████████████████████████████████████████████████▍                  | 1601/2100 [22:06<09:06,  1.09s/it]"
     ]
    },
    {
     "name": "stdout",
     "output_type": "stream",
     "text": [
      "-199.83 0.019950000000002917\n"
     ]
    },
    {
     "name": "stderr",
     "output_type": "stream",
     "text": [
      " 81%|███████████████████████████████████████████████████████████████▏              | 1701/2100 [24:49<11:32,  1.74s/it]"
     ]
    },
    {
     "name": "stdout",
     "output_type": "stream",
     "text": [
      "-180.17 0.014950000000002798\n"
     ]
    },
    {
     "name": "stderr",
     "output_type": "stream",
     "text": [
      " 86%|█████████████████████████████████████████████████████████████████▏          | 1801/2100 [2:13:55<19:36,  3.94s/it]"
     ]
    },
    {
     "name": "stdout",
     "output_type": "stream",
     "text": [
      "-150.83 0.009950000000002828\n"
     ]
    },
    {
     "name": "stderr",
     "output_type": "stream",
     "text": [
      " 91%|████████████████████████████████████████████████████████████████████▊       | 1901/2100 [2:20:16<20:46,  6.26s/it]"
     ]
    },
    {
     "name": "stdout",
     "output_type": "stream",
     "text": [
      "-75.2 0.004950000000002858\n"
     ]
    },
    {
     "name": "stderr",
     "output_type": "stream",
     "text": [
      " 95%|████████████████████████████████████████████████████████████████████████▍   | 2001/2100 [3:23:39<12:33,  7.62s/it]"
     ]
    },
    {
     "name": "stdout",
     "output_type": "stream",
     "text": [
      "97.32 0.001\n"
     ]
    },
    {
     "name": "stderr",
     "output_type": "stream",
     "text": [
      "100%|████████████████████████████████████████████████████████████████████████████| 2100/2100 [3:34:56<00:00,  6.14s/it]\n"
     ]
    }
   ],
   "source": [
    "train(epsilon)"
   ]
  },
  {
   "cell_type": "code",
   "execution_count": 35,
   "id": "d7c5e692",
   "metadata": {},
   "outputs": [
    {
     "name": "stderr",
     "output_type": "stream",
     "text": [
      "100%|████████████████████████████████████████████████████████████████████████████████████| 1/1 [00:04<00:00,  4.92s/it]"
     ]
    },
    {
     "name": "stdout",
     "output_type": "stream",
     "text": [
      "///////////Game Over//////////////////\n",
      "421\n"
     ]
    },
    {
     "name": "stderr",
     "output_type": "stream",
     "text": [
      "\n"
     ]
    }
   ],
   "source": [
    "env= Tetris(20, 10)\n",
    "pbar = tqdm.trange(1)\n",
    "for t in pbar:\n",
    "    env.reset() \n",
    "    feature = torch.zeros(feature_len).float()\n",
    "    score = 0\n",
    "    while True:\n",
    "        random_action =  random.random() <= eps_min\n",
    "        env.new_figure()\n",
    "        next_state, next_feature, reward, done = simulate_RL(env, random_action)\n",
    "        score += reward\n",
    "        if done:\n",
    "            scores.append(score)\n",
    "            print(\"///////////Game Over//////////////////\")\n",
    "            break\n",
    "        env.field = next_state\n",
    "        env.break_lines()\n",
    "#         print(\"\")\n",
    "#         for row in env.field:\n",
    "#             print(row)\n",
    "#         print(next_feature)\n",
    "        feature = next_feature\n",
    "print(score)"
   ]
  },
  {
   "cell_type": "code",
   "execution_count": 22,
   "id": "598f5b39",
   "metadata": {},
   "outputs": [
    {
     "name": "stdout",
     "output_type": "stream",
     "text": [
      "Input:q\n"
     ]
    }
   ],
   "source": [
    "t = Tetris(20,10)\n",
    "\n",
    "while True:\n",
    "    sentence = input(\"Input:\")\n",
    "    if sentence ==\"q\":\n",
    "        break\n",
    "    if t.figure is None:\n",
    "        t.new_figure()\n",
    "    if sentence == \"u\":\n",
    "        t.rotate()\n",
    "    elif sentence == \"l\":\n",
    "        t.go_side(-1)\n",
    "    elif sentence == \"r\":\n",
    "        t.go_side(1)\n",
    "    elif sentence == \"s\":\n",
    "        t.go_space()\n",
    "    print(simulate(t))\n",
    "    t.go_down()\n",
    "    print()\n",
    "    for row in t.field:\n",
    "        print(row)"
   ]
  },
  {
   "cell_type": "code",
   "execution_count": 36,
   "id": "e9fd0a68",
   "metadata": {},
   "outputs": [],
   "source": [
    "# Initialize the game engine\n",
    "pygame.init()\n",
    "\n",
    "# Define some colors\n",
    "BLACK = (0, 0, 0)\n",
    "WHITE = (255, 255, 255)\n",
    "GRAY = (128, 128, 128)\n",
    "\n",
    "size = (400, 500)\n",
    "screen = pygame.display.set_mode(size)\n",
    "\n",
    "pygame.display.set_caption(\"Tetris\")\n",
    "\n",
    "# Loop until the user clicks the close button.\n",
    "done = False\n",
    "clock = pygame.time.Clock()\n",
    "fps = 10\n",
    "game = Tetris(20, 10)\n",
    "counter = 0\n",
    "\n",
    "pressing_down = False\n",
    "\n",
    "while not done:\n",
    "    if game.figure is None:\n",
    "        game.new_figure()\n",
    "    counter += 1\n",
    "    if counter > 100000:\n",
    "        counter = 0\n",
    "\n",
    "    if counter % (fps // game.level // 2) == 0 or pressing_down:\n",
    "        if not game.done:\n",
    "            game.go_down()\n",
    "\n",
    "    for event in list(pygame.event.get()) + run_ai(game):\n",
    "        if event.type == pygame.QUIT:\n",
    "            done = True\n",
    "        if event.type == pygame.KEYDOWN:\n",
    "            if event.key == pygame.K_UP:\n",
    "                game.rotate()\n",
    "            if event.key == pygame.K_DOWN:\n",
    "                pressing_down = True\n",
    "            if event.key == pygame.K_LEFT:\n",
    "                game.go_side(-1)\n",
    "            if event.key == pygame.K_RIGHT:\n",
    "                game.go_side(1)\n",
    "            if event.key == pygame.K_SPACE:\n",
    "                game.go_space()\n",
    "            if event.key == pygame.K_ESCAPE:\n",
    "                game.__init__(20, 10)\n",
    "\n",
    "    if event.type == pygame.KEYUP:\n",
    "            if event.key == pygame.K_DOWN:\n",
    "                pressing_down = False\n",
    "\n",
    "    screen.fill(WHITE)\n",
    "\n",
    "    for i in range(game.height):\n",
    "        for j in range(game.width):\n",
    "            pygame.draw.rect(screen, GRAY, [game.x + game.zoom * j, game.y + game.zoom * i, game.zoom, game.zoom], 1)\n",
    "            if game.field[i][j] > 0:\n",
    "                pygame.draw.rect(screen, colors[game.field[i][j]],\n",
    "                                 [game.x + game.zoom * j + 1, game.y + game.zoom * i + 1, game.zoom - 2, game.zoom - 1])\n",
    "    \n",
    "    if game.figure is not None:\n",
    "        for i in range(4):\n",
    "            for j in range(4):\n",
    "                p = i * 4 + j\n",
    "                if p in game.figure.image():\n",
    "                    pygame.draw.rect(screen, colors[game.figure.color],\n",
    "                                     [game.x + game.zoom * (j + game.figure.x) + 1,\n",
    "                                      game.y + game.zoom * (i + game.figure.y) + 1,\n",
    "                                      game.zoom - 2, game.zoom - 2])\n",
    "\n",
    "    font = pygame.font.SysFont('Calibri', 25, True, False)\n",
    "    font1 = pygame.font.SysFont('Calibri', 65, True, False)\n",
    "    text = font.render(\"Score: \" + str(game.score), True, BLACK)\n",
    "    text_game_over = font1.render(\"Game Over\", True, (255, 125, 0))\n",
    "    text_game_over1 = font1.render(\"Press ESC\", True, (255, 215, 0))\n",
    "\n",
    "    screen.blit(text, [0, 0])\n",
    "    if game.done:\n",
    "        screen.blit(text_game_over, [20, 200])\n",
    "        screen.blit(text_game_over1, [25, 265])\n",
    "\n",
    "    pygame.display.flip()\n",
    "    clock.tick(fps)\n",
    "\n",
    "pygame.quit()"
   ]
  },
  {
   "cell_type": "code",
   "execution_count": null,
   "id": "91424cf2",
   "metadata": {},
   "outputs": [],
   "source": []
  }
 ],
 "metadata": {
  "kernelspec": {
   "display_name": "Python 3 (ipykernel)",
   "language": "python",
   "name": "python3"
  },
  "language_info": {
   "codemirror_mode": {
    "name": "ipython",
    "version": 3
   },
   "file_extension": ".py",
   "mimetype": "text/x-python",
   "name": "python",
   "nbconvert_exporter": "python",
   "pygments_lexer": "ipython3",
   "version": "3.9.12"
  }
 },
 "nbformat": 4,
 "nbformat_minor": 5
}
