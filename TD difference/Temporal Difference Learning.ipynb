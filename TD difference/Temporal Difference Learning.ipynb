{
 "cells": [
  {
   "cell_type": "markdown",
   "id": "31b1f1b8",
   "metadata": {},
   "source": [
    "# Please install the following python libraries\n",
    "- python3: https://www.python.org/\n",
    "- numpy: https://numpy.org/install/\n",
    "- tqdm: https://github.com/tqdm/tqdm#installation\n",
    "- matplotlib: https://matplotlib.org/stable/users/installing/index.html\n",
    "- scipy: https://scipy.org/install/\n",
    "- gym: https://github.com/openai/gym \n",
    "\n",
    "If you encounter the error: \"IProgress not found. Please update jupyter & ipywidgets\"\n",
    "    \n",
    "Please install the ipywidgets as follows:\n",
    "\n",
    "    with pip, do\n",
    "    - pip install ipywidgets\n",
    "    \n",
    "    with conda, do\n",
    "    - conda install -c conda-forge ipywidgets\n",
    "    \n",
    "Restart your notebook "
   ]
  },
  {
   "cell_type": "markdown",
   "id": "02c4ab46",
   "metadata": {},
   "source": [
    "# Implementation of the Windy GridWorld environment in Example 6.5"
   ]
  },
  {
   "cell_type": "code",
   "execution_count": 189,
   "id": "0d007d0e",
   "metadata": {},
   "outputs": [],
   "source": [
    "import numpy as np\n",
    "import random\n",
    "from collections import defaultdict\n",
    "import tqdm.notebook as tqdm\n",
    "import matplotlib.pyplot as plt"
   ]
  },
  {
   "cell_type": "code",
   "execution_count": 190,
   "id": "904aca09",
   "metadata": {},
   "outputs": [],
   "source": [
    "\"\"\"Windy GridWorld Env\"\"\"\n",
    "class WindyGridWorld(object):\n",
    "    def __init__(self, enable_king_move=False, enable_no_move=False):\n",
    "        \"\"\"\n",
    "        Args:\n",
    "            enable_king_move (bool): If True, using King's movement. Otherwise, using the original action space.\n",
    "            enable_no_move (bool): If True, adding no movement under the condition of enable_king_move = True.\n",
    "        \n",
    "        Note: for different setup, we have the following action spaces:\n",
    "            - Original: [\"up\", \"down\", \"left\", \"right\"];\n",
    "            - King's move: [\"up\", \"down\", \"left\", \"right\", \"up-left\", \"up-right\", \"down-left\", \"down-right\"];\n",
    "            - King's move + no move: [\"up\", \"down\", \"left\", \"right\", \"up-left\", \"up-right\", \"down-left\", \"down-right\", \"stay\"]\n",
    "        \"\"\"\n",
    "        \n",
    "        # define the grid space\n",
    "        self.grid = np.zeros((7, 10))\n",
    "\n",
    "        # define the state space\n",
    "        self.state_space = [[r, c] for r, c in zip(np.where(self.grid == 0.0)[0],\n",
    "                                                   np.where(self.grid == 0.0)[1])]\n",
    "\n",
    "        # define the start state\n",
    "        self.start_state = [3, 0]\n",
    "\n",
    "        # define the goal state\n",
    "        self.goal_state = [3, 7]\n",
    "\n",
    "        # define the wind\n",
    "        self.wind = np.array([0, 0, 0, 1, 1, 1, 2, 2, 1, 0], dtype=int)\n",
    "\n",
    "        # define the action space\n",
    "        if enable_king_move:\n",
    "            # add King's move actions\n",
    "            if enable_no_move:\n",
    "                self.action_space = {\n",
    "                    \"up\": np.array([-1, 0]),\n",
    "                    \"down\": np.array([1, 0]),\n",
    "                    \"left\": np.array([0, -1]),\n",
    "                    \"right\": np.array([0, 1]),\n",
    "                    \"up-right\": np.array([-1, 1]),  # add up-right\n",
    "                    \"up-left\": np.array([-1, -1]),  # add up-left\n",
    "                    \"down-right\": np.array([1, 1]),  # add down-right\n",
    "                    \"down-left\": np.array([1, -1]),  # add down-left\n",
    "                    \"stay\": np.array([0, 0])  # add no move action\n",
    "                }\n",
    "            else:\n",
    "                # add King's move actions + one no movement action\n",
    "                self.action_space = {\n",
    "                    \"up\": np.array([-1, 0]),\n",
    "                    \"down\": np.array([1, 0]),\n",
    "                    \"left\": np.array([0, -1]),\n",
    "                    \"right\": np.array([0, 1]),\n",
    "                    \"up-right\": np.array([-1, 1]),  # add up-right\n",
    "                    \"up-left\": np.array([-1, -1]),  # add up-left\n",
    "                    \"down-right\": np.array([1, 1]),  # add down-right\n",
    "                    \"down-left\": np.array([1, -1])  # add down-left\n",
    "                }\n",
    "        else:\n",
    "            # normal actions\n",
    "            self.action_space = {\n",
    "                \"up\": np.array([-1, 0]),\n",
    "                \"down\": np.array([1, 0]),\n",
    "                \"left\": np.array([0, -1]),\n",
    "                \"right\": np.array([0, 1])\n",
    "            }\n",
    "\n",
    "        # track the current state, time step, and action\n",
    "        self.state = None\n",
    "        self.t = None\n",
    "        self.act = None\n",
    "\n",
    "    def reset(self):\n",
    "        # reset the agent to the start state\n",
    "        self.state = self.start_state\n",
    "        # reset the time step tracker\n",
    "        self.t = 0\n",
    "        # reset the action tracker\n",
    "        self.act = None\n",
    "        # reset the terminal flag\n",
    "        terminated = False\n",
    "        return self.state, terminated\n",
    "\n",
    "    def step(self, act):\n",
    "        \"\"\"\n",
    "        Args:\n",
    "            act (string): a string variable indicating the action.\n",
    "        \"\"\"\n",
    "        # obtain the state array\n",
    "        s_arr = np.array(self.state)\n",
    "\n",
    "        # obtain the action array\n",
    "        act_arr = self.action_space[act.lower()]\n",
    "\n",
    "        # obtain the wind array\n",
    "        wind_arr = -1 * np.array([self.wind[self.state[1]], 0], dtype=int)\n",
    "\n",
    "        # compute the next state\n",
    "        next_s_arr = np.clip(s_arr + act_arr + wind_arr,\n",
    "                             a_min=np.array([0, 0]),\n",
    "                             a_max=np.array([self.grid.shape[0]-1, self.grid.shape[1]-1]))\n",
    "\n",
    "        # compute the reward\n",
    "        reward = 0 if next_s_arr.tolist() == self.goal_state else -1\n",
    "\n",
    "        # check the termination\n",
    "        terminated = True if reward == 0 else False\n",
    "\n",
    "        # update the tracking variables\n",
    "        self.state = next_s_arr.tolist()\n",
    "        self.t += 1\n",
    "        self.act = act\n",
    "\n",
    "        return self.state, reward, terminated\n",
    "\n",
    "    def render(self):\n",
    "        # plot the agent and the goal\n",
    "        # agent = 1\n",
    "        # goal = 2\n",
    "        plot_arr = self.grid.copy()\n",
    "        plot_arr[self.state[0], self.state[1]] = 1.0\n",
    "        plot_arr[self.goal_state[0], self.goal_state[1]] = 2.0\n",
    "        plt.clf()\n",
    "        fig, arr = plt.subplots(1, 1)\n",
    "        arr.set_title(f\"state={self.state}, act={self.act}\")\n",
    "        arr.imshow(plot_arr)\n",
    "        plt.show(block=False)\n",
    "        plt.pause(1)\n",
    "        plt.close(fig)"
   ]
  },
  {
   "cell_type": "code",
   "execution_count": 191,
   "id": "741780fb",
   "metadata": {},
   "outputs": [],
   "source": [
    "\"\"\"Plot function similar to Ex1\"\"\"\n",
    "def plot_curves(arr_list, legend_list, color_list, ylabel, fig_title):\n",
    "    \"\"\"\n",
    "    Args:\n",
    "        arr_list (list): list of results arrays to plot\n",
    "        legend_list (list): list of legends corresponding to each result array\n",
    "        color_list (list): list of color corresponding to each result array\n",
    "        ylabel (string): label of the Y axis\n",
    "\n",
    "        Note that, make sure the elements in the arr_list, legend_list and color_list are associated with each other correctly.\n",
    "        Do not forget to change the ylabel for different plots.\n",
    "    \"\"\"\n",
    "    # set the figure type\n",
    "    plt.clf()\n",
    "    fig, ax = plt.subplots(figsize=(12, 8))\n",
    "    # PLEASE NOTE: Change the labels for different plots\n",
    "    ax.set_ylabel(ylabel)\n",
    "    ax.set_xlabel(\"Time Steps\")\n",
    "\n",
    "    # ploth results\n",
    "    h_list = []\n",
    "    for arr, legend, color in zip(arr_list, legend_list, color_list):\n",
    "        # compute the standard error\n",
    "        y = list(range(1,len(arr)+1))\n",
    "        arr_err = np.std(y) / np.sqrt(len(y))\n",
    "        # plot the mean\n",
    "        h, = ax.plot(arr, y, color=color, label=legend)\n",
    "        # plot the confidence band\n",
    "        arr_err = 1.96 * arr_err\n",
    "        ax.fill_between(arr, (y - arr_err), (y + arr_err), color=color, alpha=0.3)\n",
    "        # save the plot handle\n",
    "        h_list.append(h)\n",
    "\n",
    "    # plot legends\n",
    "    ax.set_title(f\"{fig_title}\")\n",
    "    ax.legend(handles=h_list)\n",
    "    plt.show()"
   ]
  },
  {
   "cell_type": "markdown",
   "id": "36c983fa",
   "metadata": {},
   "source": [
    "# Test Windy GridWorld "
   ]
  },
  {
   "cell_type": "code",
   "execution_count": 192,
   "id": "3324ad53",
   "metadata": {},
   "outputs": [
    {
     "ename": "NameError",
     "evalue": "name 'action' is not defined",
     "output_type": "error",
     "traceback": [
      "\u001b[1;31m---------------------------------------------------------------------------\u001b[0m",
      "\u001b[1;31mNameError\u001b[0m                                 Traceback (most recent call last)",
      "Input \u001b[1;32mIn [192]\u001b[0m, in \u001b[0;36m<cell line: 11>\u001b[1;34m()\u001b[0m\n\u001b[0;32m     13\u001b[0m a \u001b[38;5;241m=\u001b[39m np\u001b[38;5;241m.\u001b[39mrandom\u001b[38;5;241m.\u001b[39mchoice(\u001b[38;5;28mlist\u001b[39m(env\u001b[38;5;241m.\u001b[39maction_space\u001b[38;5;241m.\u001b[39mkeys()), \u001b[38;5;241m1\u001b[39m)[\u001b[38;5;241m0\u001b[39m]\n\u001b[0;32m     15\u001b[0m \u001b[38;5;66;03m# interact with the envrionment\u001b[39;00m\n\u001b[1;32m---> 16\u001b[0m next_s, r, d \u001b[38;5;241m=\u001b[39m env\u001b[38;5;241m.\u001b[39mstep(\u001b[43maction\u001b[49m)\n\u001b[0;32m     18\u001b[0m \u001b[38;5;66;03m# print info\u001b[39;00m\n\u001b[0;32m     19\u001b[0m \u001b[38;5;28mprint\u001b[39m(\u001b[38;5;124mf\u001b[39m\u001b[38;5;124m\"\u001b[39m\u001b[38;5;124mt = \u001b[39m\u001b[38;5;132;01m{\u001b[39;00mt\u001b[38;5;132;01m}\u001b[39;00m\u001b[38;5;124m: state = \u001b[39m\u001b[38;5;132;01m{\u001b[39;00ms\u001b[38;5;132;01m}\u001b[39;00m\u001b[38;5;124m, action = \u001b[39m\u001b[38;5;132;01m{\u001b[39;00ma\u001b[38;5;132;01m}\u001b[39;00m\u001b[38;5;124m,  reward = \u001b[39m\u001b[38;5;132;01m{\u001b[39;00mr\u001b[38;5;132;01m}\u001b[39;00m\u001b[38;5;124m, next_state = \u001b[39m\u001b[38;5;132;01m{\u001b[39;00mnext_s\u001b[38;5;132;01m}\u001b[39;00m\u001b[38;5;124m, done = \u001b[39m\u001b[38;5;132;01m{\u001b[39;00md\u001b[38;5;132;01m}\u001b[39;00m\u001b[38;5;124m\"\u001b[39m)\n",
      "\u001b[1;31mNameError\u001b[0m: name 'action' is not defined"
     ]
    }
   ],
   "source": [
    "# check whether enable King's movement and no movement\n",
    "use_king_move = False\n",
    "use_no_move = False\n",
    "\n",
    "# create the environment\n",
    "env = WindyGridWorld(enable_king_move=use_king_move,\n",
    "                     enable_no_move=use_no_move)\n",
    "s, d = env.reset()\n",
    "\n",
    "# iteracting with the environment for 10 time steps using a random policy\n",
    "for t in range(10): \n",
    "    # sample an random action\n",
    "    a = np.random.choice(list(env.action_space.keys()), 1)[0]\n",
    "    \n",
    "    # interact with the envrionment\n",
    "    next_s, r, d = env.step(action)\n",
    "    \n",
    "    # print info\n",
    "    print(f\"t = {t}: state = {s}, action = {a},  reward = {r}, next_state = {next_s}, done = {d}\")\n",
    "    \n",
    "    # check termination\n",
    "    if d:\n",
    "        s, d = env.reset()"
   ]
  },
  {
   "cell_type": "markdown",
   "id": "be09fa47",
   "metadata": {},
   "source": [
    "# Q4 - (a): Solve the Windy Gridworld using the following algorithms and reproduce the figure similar to the figure in Example 6.5\n",
    "\n",
    "- Implement the SARSA, Expected SARSA, and Q learning.\n",
    "- Reproduce the plot in the Example 6.5 and plot the three curves in a single plot. You can use the provided plotting code."
   ]
  },
  {
   "cell_type": "code",
   "execution_count": 322,
   "id": "fe386484",
   "metadata": {},
   "outputs": [],
   "source": [
    "def epsilon_greedy_policy_impl(S, Q, epsilon, action_space, policy):\n",
    "    final_action = random.choice(action_space)\n",
    "    max_actions = []\n",
    "    policy[S] = {}\n",
    "    expected_Q = 0\n",
    "    for action in action_space:\n",
    "        if Q[S,action] > Q[S ,final_action]:\n",
    "            final_action = action\n",
    "            max_actions = [final_action]\n",
    "        elif Q[S, action] == Q[S , final_action]:\n",
    "            max_actions.append(action)\n",
    "        #setting all action probability for s under policy to epsilon/|A|\n",
    "        policy[S][action] = epsilon/len(action_space)\n",
    "        # precalculating the value of state S for expected sarasa\n",
    "        expected_Q += policy[S][action]*Q[S,action]\n",
    "    # Rendom tie breaks between best actions\n",
    "    final_action = random.choice(max_actions)\n",
    "    #setting best action's probability of selection\n",
    "    policy[S][final_action]  +=  1 - epsilon\n",
    "    expected_Q += policy[S][final_action]*Q[S,final_action] - (epsilon/len(action_space))*Q[S,final_action]\n",
    "    # returning epsilon greedy action from the policy\n",
    "    return np.random.choice(list(policy[S].keys()), 1, p=list(policy[S].values()))[0], expected_Q"
   ]
  },
  {
   "cell_type": "code",
   "execution_count": 323,
   "id": "bf5acd3e",
   "metadata": {},
   "outputs": [],
   "source": [
    "\"\"\" CODE HERE YOUR IMPLEMENTATION for SARSA \"\"\"\n",
    "def sarsa(trial_num, n_episodes, step, epsilon, enable_king_move, enable_no_move): \n",
    "    grid_world = WindyGridWorld(enable_king_move, enable_no_move)\n",
    "    steps_per_episode = [0]*n_episodes\n",
    "    cumulative_time_steps = [0]\n",
    "    for e in tqdm.tqdm(range(trial_num), desc=\"Run trail\", position=0):\n",
    "        Q = defaultdict(float)\n",
    "        policy = {}\n",
    "        for state in grid_world.state_space:\n",
    "            for action in grid_world.action_space:\n",
    "                if state == grid_world.goal_state:\n",
    "                    Q[tuple(state) , action] = 0\n",
    "                else:\n",
    "                    Q[tuple(state), action] = 0\n",
    "        for r in tqdm.tqdm(range(n_episodes), desc=\"run number\", position=0):\n",
    "            S, terminated = grid_world.reset()\n",
    "            S = tuple(S)\n",
    "            A, _ = epsilon_greedy_policy_impl(S, Q, epsilon, list(grid_world.action_space.keys()), policy)\n",
    "            time_steps = 0\n",
    "            while True:    \n",
    "                S_prime , R, terminated = grid_world.step(A)\n",
    "                time_steps += 1\n",
    "                S_prime = tuple(S_prime)\n",
    "                A_prime, _ = epsilon_greedy_policy_impl(S_prime, Q, epsilon, list(grid_world.action_space.keys()), policy)\n",
    "                Q[S, A] += step*(R + Q[S_prime, A_prime] - Q[S, A])\n",
    "                if terminated:\n",
    "                    break\n",
    "                S, A = S_prime, A_prime\n",
    "            steps_per_episode[r] += time_steps\n",
    "    for step in steps_per_episode:\n",
    "        cumulative_time_steps.append(cumulative_time_steps[-1]+step/trial_num)\n",
    "    return cumulative_time_steps, Q"
   ]
  },
  {
   "cell_type": "code",
   "execution_count": 324,
   "id": "afafa371",
   "metadata": {
    "scrolled": false
   },
   "outputs": [
    {
     "data": {
      "application/vnd.jupyter.widget-view+json": {
       "model_id": "4446d8b536504fab93ab916b556cfe93",
       "version_major": 2,
       "version_minor": 0
      },
      "text/plain": [
       "Run trail:   0%|          | 0/10 [00:00<?, ?it/s]"
      ]
     },
     "metadata": {},
     "output_type": "display_data"
    },
    {
     "data": {
      "application/vnd.jupyter.widget-view+json": {
       "model_id": "56a683f6c05547c19911ee515a6aaf92",
       "version_major": 2,
       "version_minor": 0
      },
      "text/plain": [
       "run number:   0%|          | 0/200 [00:00<?, ?it/s]"
      ]
     },
     "metadata": {},
     "output_type": "display_data"
    },
    {
     "data": {
      "application/vnd.jupyter.widget-view+json": {
       "model_id": "aaaa6fd067e84ebca74472612bc05556",
       "version_major": 2,
       "version_minor": 0
      },
      "text/plain": [
       "run number:   0%|          | 0/200 [00:00<?, ?it/s]"
      ]
     },
     "metadata": {},
     "output_type": "display_data"
    },
    {
     "data": {
      "application/vnd.jupyter.widget-view+json": {
       "model_id": "6a02783418214e7e83c06f7779db8562",
       "version_major": 2,
       "version_minor": 0
      },
      "text/plain": [
       "run number:   0%|          | 0/200 [00:00<?, ?it/s]"
      ]
     },
     "metadata": {},
     "output_type": "display_data"
    },
    {
     "data": {
      "application/vnd.jupyter.widget-view+json": {
       "model_id": "a852af4f31fd4327bd247dd479e7c051",
       "version_major": 2,
       "version_minor": 0
      },
      "text/plain": [
       "run number:   0%|          | 0/200 [00:00<?, ?it/s]"
      ]
     },
     "metadata": {},
     "output_type": "display_data"
    },
    {
     "data": {
      "application/vnd.jupyter.widget-view+json": {
       "model_id": "97b4474683024885800ef5a603d35656",
       "version_major": 2,
       "version_minor": 0
      },
      "text/plain": [
       "run number:   0%|          | 0/200 [00:00<?, ?it/s]"
      ]
     },
     "metadata": {},
     "output_type": "display_data"
    },
    {
     "data": {
      "application/vnd.jupyter.widget-view+json": {
       "model_id": "a986f18015104a5da2b410d4c579cbcc",
       "version_major": 2,
       "version_minor": 0
      },
      "text/plain": [
       "run number:   0%|          | 0/200 [00:00<?, ?it/s]"
      ]
     },
     "metadata": {},
     "output_type": "display_data"
    },
    {
     "data": {
      "application/vnd.jupyter.widget-view+json": {
       "model_id": "91191d7c0ae2453ca98d1cd32ded483e",
       "version_major": 2,
       "version_minor": 0
      },
      "text/plain": [
       "run number:   0%|          | 0/200 [00:00<?, ?it/s]"
      ]
     },
     "metadata": {},
     "output_type": "display_data"
    },
    {
     "data": {
      "application/vnd.jupyter.widget-view+json": {
       "model_id": "6404e8787036427b88d9296451d19c57",
       "version_major": 2,
       "version_minor": 0
      },
      "text/plain": [
       "run number:   0%|          | 0/200 [00:00<?, ?it/s]"
      ]
     },
     "metadata": {},
     "output_type": "display_data"
    },
    {
     "data": {
      "application/vnd.jupyter.widget-view+json": {
       "model_id": "f92ffd933d424d2fb3fd568a13dfa029",
       "version_major": 2,
       "version_minor": 0
      },
      "text/plain": [
       "run number:   0%|          | 0/200 [00:00<?, ?it/s]"
      ]
     },
     "metadata": {},
     "output_type": "display_data"
    },
    {
     "data": {
      "application/vnd.jupyter.widget-view+json": {
       "model_id": "e91e49211dc0455f84b467ca0c60d6ea",
       "version_major": 2,
       "version_minor": 0
      },
      "text/plain": [
       "run number:   0%|          | 0/200 [00:00<?, ?it/s]"
      ]
     },
     "metadata": {},
     "output_type": "display_data"
    }
   ],
   "source": [
    "cumulative_time_steps_sarsa,_ = sarsa(10,200, 0.5, 0.1, False, False)"
   ]
  },
  {
   "cell_type": "code",
   "execution_count": 325,
   "id": "9e490dcc",
   "metadata": {},
   "outputs": [],
   "source": [
    "\"\"\" CODE HERE YOUR IMPLEMENTATION for Expected SARSA \"\"\"\n",
    "def expected_sarsa(trial_num, n_episodes, step, epsilon, enable_king_move, enable_no_move):\n",
    "    grid_world = WindyGridWorld(enable_king_move, enable_no_move)\n",
    "    steps_per_episode = [0]*n_episodes\n",
    "    cumulative_time_steps = [0]\n",
    "    for e in tqdm.tqdm(range(trial_num), desc=\"Run trail\", position=0):\n",
    "        Q = defaultdict(float)\n",
    "        policy = {}\n",
    "        for state in grid_world.state_space:\n",
    "            for action in grid_world.action_space:\n",
    "                if state == grid_world.goal_state:\n",
    "                    Q[tuple(state) , action] = 0\n",
    "                else:\n",
    "                    Q[tuple(state), action] = 0\n",
    "        for r in tqdm.tqdm(range(n_episodes), desc=\"run number\", position=0):\n",
    "            S, terminated = grid_world.reset()\n",
    "            S = tuple(S)\n",
    "            time_steps = 0\n",
    "            while True: \n",
    "                A, _ = epsilon_greedy_policy_impl(S, Q, epsilon, list(grid_world.action_space.keys()), policy)\n",
    "                S_prime , R, terminated = grid_world.step(A)\n",
    "                time_steps += 1\n",
    "                S_prime = tuple(S_prime)\n",
    "                _, expected_Q = epsilon_greedy_policy_impl(S_prime, Q, epsilon, list(grid_world.action_space.keys()), policy)\n",
    "                Q[S, A] += step*(R + expected_Q - Q[S, A])\n",
    "                if terminated:\n",
    "                    break\n",
    "                S = S_prime\n",
    "            steps_per_episode[r] += time_steps\n",
    "    for step in steps_per_episode:\n",
    "        cumulative_time_steps.append(cumulative_time_steps[-1]+step/trial_num)\n",
    "    return cumulative_time_steps, Q"
   ]
  },
  {
   "cell_type": "code",
   "execution_count": 326,
   "id": "78bc24a5",
   "metadata": {},
   "outputs": [
    {
     "data": {
      "application/vnd.jupyter.widget-view+json": {
       "model_id": "1eb09a1d8f3b41dbb0fd906b995f36ad",
       "version_major": 2,
       "version_minor": 0
      },
      "text/plain": [
       "Run trail:   0%|          | 0/10 [00:00<?, ?it/s]"
      ]
     },
     "metadata": {},
     "output_type": "display_data"
    },
    {
     "data": {
      "application/vnd.jupyter.widget-view+json": {
       "model_id": "4c6ea9de521746b48bfe8139382de2f4",
       "version_major": 2,
       "version_minor": 0
      },
      "text/plain": [
       "run number:   0%|          | 0/200 [00:00<?, ?it/s]"
      ]
     },
     "metadata": {},
     "output_type": "display_data"
    },
    {
     "data": {
      "application/vnd.jupyter.widget-view+json": {
       "model_id": "8d0a6c4d304248688705b998025fbc5f",
       "version_major": 2,
       "version_minor": 0
      },
      "text/plain": [
       "run number:   0%|          | 0/200 [00:00<?, ?it/s]"
      ]
     },
     "metadata": {},
     "output_type": "display_data"
    },
    {
     "data": {
      "application/vnd.jupyter.widget-view+json": {
       "model_id": "b33ac7dd7d104e59ae12130286d38492",
       "version_major": 2,
       "version_minor": 0
      },
      "text/plain": [
       "run number:   0%|          | 0/200 [00:00<?, ?it/s]"
      ]
     },
     "metadata": {},
     "output_type": "display_data"
    },
    {
     "data": {
      "application/vnd.jupyter.widget-view+json": {
       "model_id": "2f088087659c4331acb3ecbd3b1d0301",
       "version_major": 2,
       "version_minor": 0
      },
      "text/plain": [
       "run number:   0%|          | 0/200 [00:00<?, ?it/s]"
      ]
     },
     "metadata": {},
     "output_type": "display_data"
    },
    {
     "data": {
      "application/vnd.jupyter.widget-view+json": {
       "model_id": "6ac1e90abfbc4ab08147654d8d10b76f",
       "version_major": 2,
       "version_minor": 0
      },
      "text/plain": [
       "run number:   0%|          | 0/200 [00:00<?, ?it/s]"
      ]
     },
     "metadata": {},
     "output_type": "display_data"
    },
    {
     "data": {
      "application/vnd.jupyter.widget-view+json": {
       "model_id": "5a7a14970e8a42dca6d83074a6efd563",
       "version_major": 2,
       "version_minor": 0
      },
      "text/plain": [
       "run number:   0%|          | 0/200 [00:00<?, ?it/s]"
      ]
     },
     "metadata": {},
     "output_type": "display_data"
    },
    {
     "data": {
      "application/vnd.jupyter.widget-view+json": {
       "model_id": "f9ca008012c94c858802b42dbea490e9",
       "version_major": 2,
       "version_minor": 0
      },
      "text/plain": [
       "run number:   0%|          | 0/200 [00:00<?, ?it/s]"
      ]
     },
     "metadata": {},
     "output_type": "display_data"
    },
    {
     "data": {
      "application/vnd.jupyter.widget-view+json": {
       "model_id": "16793abc94e84e1db41ce5046f0955d4",
       "version_major": 2,
       "version_minor": 0
      },
      "text/plain": [
       "run number:   0%|          | 0/200 [00:00<?, ?it/s]"
      ]
     },
     "metadata": {},
     "output_type": "display_data"
    },
    {
     "data": {
      "application/vnd.jupyter.widget-view+json": {
       "model_id": "26d8cc9a655b4f8bbe594992fe39a2a8",
       "version_major": 2,
       "version_minor": 0
      },
      "text/plain": [
       "run number:   0%|          | 0/200 [00:00<?, ?it/s]"
      ]
     },
     "metadata": {},
     "output_type": "display_data"
    },
    {
     "data": {
      "application/vnd.jupyter.widget-view+json": {
       "model_id": "94e9c0754ddc411c8c92046bdd817bc2",
       "version_major": 2,
       "version_minor": 0
      },
      "text/plain": [
       "run number:   0%|          | 0/200 [00:00<?, ?it/s]"
      ]
     },
     "metadata": {},
     "output_type": "display_data"
    }
   ],
   "source": [
    "cumulative_time_steps_exp_sarsa,_= expected_sarsa(10,200, 0.5, 0.1, False, False)"
   ]
  },
  {
   "cell_type": "code",
   "execution_count": 327,
   "id": "ffe01f02",
   "metadata": {},
   "outputs": [],
   "source": [
    "\"\"\" CODE HERE YOUR IMPLEMENTATION for Q learning \"\"\"\n",
    "def q_learning(trial_num, n_episodes, step, epsilon, enable_king_move, enable_no_move):\n",
    "    grid_world = WindyGridWorld(enable_king_move, enable_no_move)\n",
    "    steps_per_episode = [0]*n_episodes\n",
    "    cumulative_time_steps = [0]\n",
    "    for e in tqdm.tqdm(range(trial_num), desc=\"Run trail\", position=0):\n",
    "        Q = defaultdict(float)\n",
    "        policy = {}\n",
    "        for state in grid_world.state_space:\n",
    "            for action in grid_world.action_space:\n",
    "                if state == grid_world.goal_state:\n",
    "                    Q[tuple(state) , action] = 0\n",
    "                else:\n",
    "                    Q[tuple(state), action] = random.uniform(-20,-10)\n",
    "        for r in tqdm.tqdm(range(n_episodes), desc=\"run number\", position=0):\n",
    "            S, terminated = grid_world.reset()\n",
    "            S = tuple(S)\n",
    "            time_steps = 0\n",
    "            while True:    \n",
    "                A,_ = epsilon_greedy_policy_impl(S, Q, epsilon, list(grid_world.action_space.keys()), policy)\n",
    "                S_prime , R, terminated = grid_world.step(A)\n",
    "                time_steps += 1\n",
    "                S_prime = tuple(S_prime)\n",
    "                A_max,_ = epsilon_greedy_policy_impl(S_prime, Q, 0, list(grid_world.action_space.keys()), policy)\n",
    "                Q[S, A] += step*(R + Q[S_prime, A_max] - Q[S, A])\n",
    "                if terminated:\n",
    "                    break\n",
    "                S = S_prime\n",
    "            steps_per_episode[r] += time_steps\n",
    "    for step in steps_per_episode:\n",
    "        cumulative_time_steps.append(cumulative_time_steps[-1]+step/trial_num)\n",
    "    return cumulative_time_steps, Q"
   ]
  },
  {
   "cell_type": "code",
   "execution_count": 328,
   "id": "d9267ddf",
   "metadata": {},
   "outputs": [
    {
     "data": {
      "application/vnd.jupyter.widget-view+json": {
       "model_id": "2c739d5cc7704265bebc7f02917dcccb",
       "version_major": 2,
       "version_minor": 0
      },
      "text/plain": [
       "Run trail:   0%|          | 0/10 [00:00<?, ?it/s]"
      ]
     },
     "metadata": {},
     "output_type": "display_data"
    },
    {
     "data": {
      "application/vnd.jupyter.widget-view+json": {
       "model_id": "82f2435a141748d0997dc5e0c46cb128",
       "version_major": 2,
       "version_minor": 0
      },
      "text/plain": [
       "run number:   0%|          | 0/200 [00:00<?, ?it/s]"
      ]
     },
     "metadata": {},
     "output_type": "display_data"
    },
    {
     "data": {
      "application/vnd.jupyter.widget-view+json": {
       "model_id": "e6b098768d154fa2864b06fdd22462b0",
       "version_major": 2,
       "version_minor": 0
      },
      "text/plain": [
       "run number:   0%|          | 0/200 [00:00<?, ?it/s]"
      ]
     },
     "metadata": {},
     "output_type": "display_data"
    },
    {
     "data": {
      "application/vnd.jupyter.widget-view+json": {
       "model_id": "edb9c1d21e1a418ea2531d4dddde0710",
       "version_major": 2,
       "version_minor": 0
      },
      "text/plain": [
       "run number:   0%|          | 0/200 [00:00<?, ?it/s]"
      ]
     },
     "metadata": {},
     "output_type": "display_data"
    },
    {
     "data": {
      "application/vnd.jupyter.widget-view+json": {
       "model_id": "d72707ee25f345dca506b462633f768d",
       "version_major": 2,
       "version_minor": 0
      },
      "text/plain": [
       "run number:   0%|          | 0/200 [00:00<?, ?it/s]"
      ]
     },
     "metadata": {},
     "output_type": "display_data"
    },
    {
     "data": {
      "application/vnd.jupyter.widget-view+json": {
       "model_id": "31278575514e4fb883173cfae4e4207b",
       "version_major": 2,
       "version_minor": 0
      },
      "text/plain": [
       "run number:   0%|          | 0/200 [00:00<?, ?it/s]"
      ]
     },
     "metadata": {},
     "output_type": "display_data"
    },
    {
     "data": {
      "application/vnd.jupyter.widget-view+json": {
       "model_id": "4a2cc73dd8314e6abeb3e79ef04789ae",
       "version_major": 2,
       "version_minor": 0
      },
      "text/plain": [
       "run number:   0%|          | 0/200 [00:00<?, ?it/s]"
      ]
     },
     "metadata": {},
     "output_type": "display_data"
    },
    {
     "data": {
      "application/vnd.jupyter.widget-view+json": {
       "model_id": "ca46b5e8be8e4c5a9cf607f6ff53af08",
       "version_major": 2,
       "version_minor": 0
      },
      "text/plain": [
       "run number:   0%|          | 0/200 [00:00<?, ?it/s]"
      ]
     },
     "metadata": {},
     "output_type": "display_data"
    },
    {
     "data": {
      "application/vnd.jupyter.widget-view+json": {
       "model_id": "b327085ea0c04d65a581be0a1bdf97c6",
       "version_major": 2,
       "version_minor": 0
      },
      "text/plain": [
       "run number:   0%|          | 0/200 [00:00<?, ?it/s]"
      ]
     },
     "metadata": {},
     "output_type": "display_data"
    },
    {
     "data": {
      "application/vnd.jupyter.widget-view+json": {
       "model_id": "d36ffe2580304e999a7975de7feab282",
       "version_major": 2,
       "version_minor": 0
      },
      "text/plain": [
       "run number:   0%|          | 0/200 [00:00<?, ?it/s]"
      ]
     },
     "metadata": {},
     "output_type": "display_data"
    },
    {
     "data": {
      "application/vnd.jupyter.widget-view+json": {
       "model_id": "364425491c6641d7be2466a80dd2fa63",
       "version_major": 2,
       "version_minor": 0
      },
      "text/plain": [
       "run number:   0%|          | 0/200 [00:00<?, ?it/s]"
      ]
     },
     "metadata": {},
     "output_type": "display_data"
    }
   ],
   "source": [
    "cumulative_time_steps_q_learning,_ = q_learning(10,200, 0.5, 0.1, False, False)"
   ]
  },
  {
   "cell_type": "code",
   "execution_count": 329,
   "id": "027aa18b",
   "metadata": {},
   "outputs": [
    {
     "data": {
      "text/plain": [
       "<Figure size 432x288 with 0 Axes>"
      ]
     },
     "metadata": {},
     "output_type": "display_data"
    },
    {
     "data": {
      "image/png": "[encoded data removed]",
      "text/plain": [
       "<Figure size 864x576 with 1 Axes>"
      ]
     },
     "metadata": {
      "needs_background": "light"
     },
     "output_type": "display_data"
    }
   ],
   "source": [
    "\"\"\" CODE HERE YOUR IMPLEMENTATION OF FIGURE PLOTTING \"\"\"\n",
    "plot_curves([cumulative_time_steps_sarsa, cumulative_time_steps_exp_sarsa, cumulative_time_steps_q_learning], [\"sarasa\",\"expected sarasa\",\"q learning\"], [\"green\",\"blue\",\"red\"], \"Episodes\", \"Windy Gridworld\")"
   ]
  },
  {
   "cell_type": "markdown",
   "id": "dc8d2bec",
   "metadata": {},
   "source": [
    "# Q4 - (b): Re-solve the Windy GridWorld with Kings' movement and No movement."
   ]
  },
  {
   "cell_type": "code",
   "execution_count": 330,
   "id": "2b982cab",
   "metadata": {
    "scrolled": true
   },
   "outputs": [
    {
     "data": {
      "application/vnd.jupyter.widget-view+json": {
       "model_id": "b4d5b53eb1db494ea8260f854768ce79",
       "version_major": 2,
       "version_minor": 0
      },
      "text/plain": [
       "Run trail:   0%|          | 0/10 [00:00<?, ?it/s]"
      ]
     },
     "metadata": {},
     "output_type": "display_data"
    },
    {
     "data": {
      "application/vnd.jupyter.widget-view+json": {
       "model_id": "57a2d83ed6154237964f426b504754ed",
       "version_major": 2,
       "version_minor": 0
      },
      "text/plain": [
       "run number:   0%|          | 0/200 [00:00<?, ?it/s]"
      ]
     },
     "metadata": {},
     "output_type": "display_data"
    },
    {
     "data": {
      "application/vnd.jupyter.widget-view+json": {
       "model_id": "c2d8ef47a5704cf792b7d3f999aa3c83",
       "version_major": 2,
       "version_minor": 0
      },
      "text/plain": [
       "run number:   0%|          | 0/200 [00:00<?, ?it/s]"
      ]
     },
     "metadata": {},
     "output_type": "display_data"
    },
    {
     "data": {
      "application/vnd.jupyter.widget-view+json": {
       "model_id": "f637264bd32d420fb038a04a277d7833",
       "version_major": 2,
       "version_minor": 0
      },
      "text/plain": [
       "run number:   0%|          | 0/200 [00:00<?, ?it/s]"
      ]
     },
     "metadata": {},
     "output_type": "display_data"
    },
    {
     "data": {
      "application/vnd.jupyter.widget-view+json": {
       "model_id": "221382b423754527a6199477c6c50a37",
       "version_major": 2,
       "version_minor": 0
      },
      "text/plain": [
       "run number:   0%|          | 0/200 [00:00<?, ?it/s]"
      ]
     },
     "metadata": {},
     "output_type": "display_data"
    },
    {
     "data": {
      "application/vnd.jupyter.widget-view+json": {
       "model_id": "4582e0be0d354ab29092dbfdc8c7c09b",
       "version_major": 2,
       "version_minor": 0
      },
      "text/plain": [
       "run number:   0%|          | 0/200 [00:00<?, ?it/s]"
      ]
     },
     "metadata": {},
     "output_type": "display_data"
    },
    {
     "data": {
      "application/vnd.jupyter.widget-view+json": {
       "model_id": "773530a2e3b04107ba3ad1fbe311b97c",
       "version_major": 2,
       "version_minor": 0
      },
      "text/plain": [
       "run number:   0%|          | 0/200 [00:00<?, ?it/s]"
      ]
     },
     "metadata": {},
     "output_type": "display_data"
    },
    {
     "data": {
      "application/vnd.jupyter.widget-view+json": {
       "model_id": "352ce149ce164a84a8d112d21749c77f",
       "version_major": 2,
       "version_minor": 0
      },
      "text/plain": [
       "run number:   0%|          | 0/200 [00:00<?, ?it/s]"
      ]
     },
     "metadata": {},
     "output_type": "display_data"
    },
    {
     "data": {
      "application/vnd.jupyter.widget-view+json": {
       "model_id": "6ffbfa3d62134d35a55207d5cbd1d5ca",
       "version_major": 2,
       "version_minor": 0
      },
      "text/plain": [
       "run number:   0%|          | 0/200 [00:00<?, ?it/s]"
      ]
     },
     "metadata": {},
     "output_type": "display_data"
    },
    {
     "data": {
      "application/vnd.jupyter.widget-view+json": {
       "model_id": "722e2a806e494ad8959b287feebbd50b",
       "version_major": 2,
       "version_minor": 0
      },
      "text/plain": [
       "run number:   0%|          | 0/200 [00:00<?, ?it/s]"
      ]
     },
     "metadata": {},
     "output_type": "display_data"
    },
    {
     "data": {
      "application/vnd.jupyter.widget-view+json": {
       "model_id": "366678eec20f456e8e9a0b1ce3e43948",
       "version_major": 2,
       "version_minor": 0
      },
      "text/plain": [
       "run number:   0%|          | 0/200 [00:00<?, ?it/s]"
      ]
     },
     "metadata": {},
     "output_type": "display_data"
    },
    {
     "data": {
      "application/vnd.jupyter.widget-view+json": {
       "model_id": "1e39aca4221d45d39ac9ae00ca418187",
       "version_major": 2,
       "version_minor": 0
      },
      "text/plain": [
       "Run trail:   0%|          | 0/10 [00:00<?, ?it/s]"
      ]
     },
     "metadata": {},
     "output_type": "display_data"
    },
    {
     "data": {
      "application/vnd.jupyter.widget-view+json": {
       "model_id": "5bf5ac74a3d34411b581236910270253",
       "version_major": 2,
       "version_minor": 0
      },
      "text/plain": [
       "run number:   0%|          | 0/200 [00:00<?, ?it/s]"
      ]
     },
     "metadata": {},
     "output_type": "display_data"
    },
    {
     "data": {
      "application/vnd.jupyter.widget-view+json": {
       "model_id": "6262f67329cc4a87901f4c10ed415129",
       "version_major": 2,
       "version_minor": 0
      },
      "text/plain": [
       "run number:   0%|          | 0/200 [00:00<?, ?it/s]"
      ]
     },
     "metadata": {},
     "output_type": "display_data"
    },
    {
     "data": {
      "application/vnd.jupyter.widget-view+json": {
       "model_id": "b0ab4ee65ba046ceb2e3c297af68be8d",
       "version_major": 2,
       "version_minor": 0
      },
      "text/plain": [
       "run number:   0%|          | 0/200 [00:00<?, ?it/s]"
      ]
     },
     "metadata": {},
     "output_type": "display_data"
    },
    {
     "data": {
      "application/vnd.jupyter.widget-view+json": {
       "model_id": "88bed374f69a49aca3cccf811fcb117a",
       "version_major": 2,
       "version_minor": 0
      },
      "text/plain": [
       "run number:   0%|          | 0/200 [00:00<?, ?it/s]"
      ]
     },
     "metadata": {},
     "output_type": "display_data"
    },
    {
     "data": {
      "application/vnd.jupyter.widget-view+json": {
       "model_id": "71aa1cee2f0240afbfe69fa4130a5a0d",
       "version_major": 2,
       "version_minor": 0
      },
      "text/plain": [
       "run number:   0%|          | 0/200 [00:00<?, ?it/s]"
      ]
     },
     "metadata": {},
     "output_type": "display_data"
    },
    {
     "data": {
      "application/vnd.jupyter.widget-view+json": {
       "model_id": "58ddc1c4ce0943d48b41a27e2e8dbd12",
       "version_major": 2,
       "version_minor": 0
      },
      "text/plain": [
       "run number:   0%|          | 0/200 [00:00<?, ?it/s]"
      ]
     },
     "metadata": {},
     "output_type": "display_data"
    },
    {
     "data": {
      "application/vnd.jupyter.widget-view+json": {
       "model_id": "6901d292626641528057b6464e3a4a80",
       "version_major": 2,
       "version_minor": 0
      },
      "text/plain": [
       "run number:   0%|          | 0/200 [00:00<?, ?it/s]"
      ]
     },
     "metadata": {},
     "output_type": "display_data"
    },
    {
     "data": {
      "application/vnd.jupyter.widget-view+json": {
       "model_id": "94c34b1fc536439bb2676b261f3821a8",
       "version_major": 2,
       "version_minor": 0
      },
      "text/plain": [
       "run number:   0%|          | 0/200 [00:00<?, ?it/s]"
      ]
     },
     "metadata": {},
     "output_type": "display_data"
    },
    {
     "data": {
      "application/vnd.jupyter.widget-view+json": {
       "model_id": "eddba36c018c4263955ef6e765a9a023",
       "version_major": 2,
       "version_minor": 0
      },
      "text/plain": [
       "run number:   0%|          | 0/200 [00:00<?, ?it/s]"
      ]
     },
     "metadata": {},
     "output_type": "display_data"
    },
    {
     "data": {
      "application/vnd.jupyter.widget-view+json": {
       "model_id": "cb99ad48eb7942c6b5d1050cd6ade582",
       "version_major": 2,
       "version_minor": 0
      },
      "text/plain": [
       "run number:   0%|          | 0/200 [00:00<?, ?it/s]"
      ]
     },
     "metadata": {},
     "output_type": "display_data"
    },
    {
     "data": {
      "text/plain": [
       "<Figure size 432x288 with 0 Axes>"
      ]
     },
     "metadata": {},
     "output_type": "display_data"
    },
    {
     "data": {
      "image/png": "[encoded data removed]",
      "text/plain": [
       "<Figure size 864x576 with 1 Axes>"
      ]
     },
     "metadata": {
      "needs_background": "light"
     },
     "output_type": "display_data"
    }
   ],
   "source": [
    "\"\"\" Reproduce the Figure above in Windy GridWorld with King's movement \"\"\"\n",
    "cts_ql_km, _ = q_learning(10,200, 0.5, 0.1, True, False)\n",
    "cts_es_km,_ = expected_sarasa(10,200, 0.5, 0.1, True, False)\n",
    "\"\"\" CODE HERE YOUR IMPLEMENTATION OF FIGURE PLOTTING \"\"\"\n",
    "plot_curves([cts_es_km, cts_ql_km], [\"expected sarasa\",\"q learning\"], [\"blue\",\"red\"], \"Episodes\", \"Windy Gridworld King Moves\")"
   ]
  },
  {
   "cell_type": "code",
   "execution_count": 205,
   "id": "a66539fa",
   "metadata": {
    "scrolled": true
   },
   "outputs": [
    {
     "data": {
      "application/vnd.jupyter.widget-view+json": {
       "model_id": "48f9b1be6e8c48e48f4603da0bb7a201",
       "version_major": 2,
       "version_minor": 0
      },
      "text/plain": [
       "Run trail:   0%|          | 0/10 [00:00<?, ?it/s]"
      ]
     },
     "metadata": {},
     "output_type": "display_data"
    },
    {
     "data": {
      "application/vnd.jupyter.widget-view+json": {
       "model_id": "6c6dda6bb3214231b06a94559727056e",
       "version_major": 2,
       "version_minor": 0
      },
      "text/plain": [
       "run number:   0%|          | 0/200 [00:00<?, ?it/s]"
      ]
     },
     "metadata": {},
     "output_type": "display_data"
    },
    {
     "data": {
      "application/vnd.jupyter.widget-view+json": {
       "model_id": "66ad519f22eb4d579863656b56c45be8",
       "version_major": 2,
       "version_minor": 0
      },
      "text/plain": [
       "run number:   0%|          | 0/200 [00:00<?, ?it/s]"
      ]
     },
     "metadata": {},
     "output_type": "display_data"
    },
    {
     "data": {
      "application/vnd.jupyter.widget-view+json": {
       "model_id": "81835e0682a24bd498bae0d055df8a71",
       "version_major": 2,
       "version_minor": 0
      },
      "text/plain": [
       "run number:   0%|          | 0/200 [00:00<?, ?it/s]"
      ]
     },
     "metadata": {},
     "output_type": "display_data"
    },
    {
     "data": {
      "application/vnd.jupyter.widget-view+json": {
       "model_id": "8dd76690a67c4ae1b55c1e96dc3acce1",
       "version_major": 2,
       "version_minor": 0
      },
      "text/plain": [
       "run number:   0%|          | 0/200 [00:00<?, ?it/s]"
      ]
     },
     "metadata": {},
     "output_type": "display_data"
    },
    {
     "data": {
      "application/vnd.jupyter.widget-view+json": {
       "model_id": "c604b395d0894b5fa8b87f5c3f5c797c",
       "version_major": 2,
       "version_minor": 0
      },
      "text/plain": [
       "run number:   0%|          | 0/200 [00:00<?, ?it/s]"
      ]
     },
     "metadata": {},
     "output_type": "display_data"
    },
    {
     "data": {
      "application/vnd.jupyter.widget-view+json": {
       "model_id": "47e9173b95ee414dadd38ad4e842a20a",
       "version_major": 2,
       "version_minor": 0
      },
      "text/plain": [
       "run number:   0%|          | 0/200 [00:00<?, ?it/s]"
      ]
     },
     "metadata": {},
     "output_type": "display_data"
    },
    {
     "data": {
      "application/vnd.jupyter.widget-view+json": {
       "model_id": "27a883ea81c34671af8871565444878b",
       "version_major": 2,
       "version_minor": 0
      },
      "text/plain": [
       "run number:   0%|          | 0/200 [00:00<?, ?it/s]"
      ]
     },
     "metadata": {},
     "output_type": "display_data"
    },
    {
     "data": {
      "application/vnd.jupyter.widget-view+json": {
       "model_id": "1a29efb1f1f546baa6a2098e7a59d417",
       "version_major": 2,
       "version_minor": 0
      },
      "text/plain": [
       "run number:   0%|          | 0/200 [00:00<?, ?it/s]"
      ]
     },
     "metadata": {},
     "output_type": "display_data"
    },
    {
     "data": {
      "application/vnd.jupyter.widget-view+json": {
       "model_id": "c04dd01c160e4aee9171abc38e99e1bf",
       "version_major": 2,
       "version_minor": 0
      },
      "text/plain": [
       "run number:   0%|          | 0/200 [00:00<?, ?it/s]"
      ]
     },
     "metadata": {},
     "output_type": "display_data"
    },
    {
     "data": {
      "application/vnd.jupyter.widget-view+json": {
       "model_id": "b10c7ea91163496b99bb85dbca6a504d",
       "version_major": 2,
       "version_minor": 0
      },
      "text/plain": [
       "run number:   0%|          | 0/200 [00:00<?, ?it/s]"
      ]
     },
     "metadata": {},
     "output_type": "display_data"
    },
    {
     "data": {
      "application/vnd.jupyter.widget-view+json": {
       "model_id": "69c6509183f8417993d3490602bc93c8",
       "version_major": 2,
       "version_minor": 0
      },
      "text/plain": [
       "Run trail:   0%|          | 0/10 [00:00<?, ?it/s]"
      ]
     },
     "metadata": {},
     "output_type": "display_data"
    },
    {
     "data": {
      "application/vnd.jupyter.widget-view+json": {
       "model_id": "2ef2056ca04f474d8f8c3f2d19da933c",
       "version_major": 2,
       "version_minor": 0
      },
      "text/plain": [
       "run number:   0%|          | 0/200 [00:00<?, ?it/s]"
      ]
     },
     "metadata": {},
     "output_type": "display_data"
    },
    {
     "data": {
      "application/vnd.jupyter.widget-view+json": {
       "model_id": "9970f4b0257b4daaa9cf762e3da4125a",
       "version_major": 2,
       "version_minor": 0
      },
      "text/plain": [
       "run number:   0%|          | 0/200 [00:00<?, ?it/s]"
      ]
     },
     "metadata": {},
     "output_type": "display_data"
    },
    {
     "data": {
      "application/vnd.jupyter.widget-view+json": {
       "model_id": "d740216fd27c4909834db42731c3861e",
       "version_major": 2,
       "version_minor": 0
      },
      "text/plain": [
       "run number:   0%|          | 0/200 [00:00<?, ?it/s]"
      ]
     },
     "metadata": {},
     "output_type": "display_data"
    },
    {
     "data": {
      "application/vnd.jupyter.widget-view+json": {
       "model_id": "9f0026074a004464906fd4d5fd3a9d5d",
       "version_major": 2,
       "version_minor": 0
      },
      "text/plain": [
       "run number:   0%|          | 0/200 [00:00<?, ?it/s]"
      ]
     },
     "metadata": {},
     "output_type": "display_data"
    },
    {
     "data": {
      "application/vnd.jupyter.widget-view+json": {
       "model_id": "6f49a177ca15460da236f288049ed347",
       "version_major": 2,
       "version_minor": 0
      },
      "text/plain": [
       "run number:   0%|          | 0/200 [00:00<?, ?it/s]"
      ]
     },
     "metadata": {},
     "output_type": "display_data"
    },
    {
     "data": {
      "application/vnd.jupyter.widget-view+json": {
       "model_id": "e3fd945410194aad9e21dae766e74ec8",
       "version_major": 2,
       "version_minor": 0
      },
      "text/plain": [
       "run number:   0%|          | 0/200 [00:00<?, ?it/s]"
      ]
     },
     "metadata": {},
     "output_type": "display_data"
    },
    {
     "data": {
      "application/vnd.jupyter.widget-view+json": {
       "model_id": "6422de1f7cb44b1987b027ed24fe646e",
       "version_major": 2,
       "version_minor": 0
      },
      "text/plain": [
       "run number:   0%|          | 0/200 [00:00<?, ?it/s]"
      ]
     },
     "metadata": {},
     "output_type": "display_data"
    },
    {
     "data": {
      "application/vnd.jupyter.widget-view+json": {
       "model_id": "b9e205b4c84549e78ad1aaa05838599a",
       "version_major": 2,
       "version_minor": 0
      },
      "text/plain": [
       "run number:   0%|          | 0/200 [00:00<?, ?it/s]"
      ]
     },
     "metadata": {},
     "output_type": "display_data"
    },
    {
     "data": {
      "application/vnd.jupyter.widget-view+json": {
       "model_id": "98f06d2ba3944249970493477e0e391c",
       "version_major": 2,
       "version_minor": 0
      },
      "text/plain": [
       "run number:   0%|          | 0/200 [00:00<?, ?it/s]"
      ]
     },
     "metadata": {},
     "output_type": "display_data"
    },
    {
     "data": {
      "application/vnd.jupyter.widget-view+json": {
       "model_id": "2f4afc900fbd440d862464082f3c37ca",
       "version_major": 2,
       "version_minor": 0
      },
      "text/plain": [
       "run number:   0%|          | 0/200 [00:00<?, ?it/s]"
      ]
     },
     "metadata": {},
     "output_type": "display_data"
    },
    {
     "data": {
      "text/plain": [
       "<Figure size 432x288 with 0 Axes>"
      ]
     },
     "metadata": {},
     "output_type": "display_data"
    },
    {
     "data": {
      "image/png": "[encoded data removed]",
      "text/plain": [
       "<Figure size 864x576 with 1 Axes>"
      ]
     },
     "metadata": {
      "needs_background": "light"
     },
     "output_type": "display_data"
    }
   ],
   "source": [
    "\"\"\" Reproduce the Figure above in Windy GridWorld with King's movement + no movement \"\"\"\n",
    "cts_ql_km_nm,_ = q_learning(10,200, 0.5, 0.1, True, True)\n",
    "cts_es_km_nm,_ = expected_sarasa(10,200, 0.5, 0.1, True, True)\n",
    "plot_curves([cts_es_km_nm, cts_ql_km_nm], [\"expected sarasa\",\"q learning\"], [\"blue\",\"red\"], \"Episodes\", \"Windy Gridworld King Moves\")"
   ]
  },
  {
   "cell_type": "markdown",
   "id": "629ac36f",
   "metadata": {},
   "source": [
    "# Q5: Bias-variance trade-off"
   ]
  },
  {
   "cell_type": "code",
   "execution_count": 233,
   "id": "6bb1e8e6",
   "metadata": {},
   "outputs": [],
   "source": [
    "# Generates the episodes using the epsilon greedy version of the the provided Q values\n",
    "def generate_episodes(Q, n_episodes):\n",
    "    grid_world = WindyGridWorld()\n",
    "    episodes = []\n",
    "    for r in tqdm.tqdm(range(n_episodes), desc=\"run number\", position=0):\n",
    "        S, terminated = grid_world.reset()\n",
    "        S = tuple(S)\n",
    "        episode = []\n",
    "        while True:\n",
    "            # taking an epsilong greedy action wrt to the provided q values from state S\n",
    "            A,_ = epsilon_greedy_policy_impl(S, Q, 0.1, list(grid_world.action_space.keys()), {})\n",
    "            S_prime, R, terminated = grid_world.step(A)\n",
    "            episode.append((S,A,R))\n",
    "            if terminated:\n",
    "                episode.append((tuple(S_prime),'none',0))\n",
    "                break\n",
    "            S = tuple(S_prime)\n",
    "        episodes.append(episode)\n",
    "    return episodes"
   ]
  },
  {
   "cell_type": "code",
   "execution_count": 303,
   "id": "436e0987",
   "metadata": {},
   "outputs": [],
   "source": [
    "# running state evaluation using TD for the given amount of episodes\n",
    "def estimate_vs_td(episodes, step):\n",
    "    V = {}\n",
    "    grid_world = WindyGridWorld()\n",
    "    for state in grid_world.state_space:\n",
    "        if state == grid_world.goal_state:\n",
    "            V[tuple(state)] = 0\n",
    "        else:\n",
    "            V[tuple(state)] = -5\n",
    "    for r in tqdm.tqdm(range(len(episodes)), desc=\"run number\", position=0):\n",
    "        for i in range(len(episodes[r])-1):\n",
    "            S, A, R = episodes[r][i]\n",
    "            target = R + V[episodes[r][i+1][0]]\n",
    "            V[S] += step*(target - V[S])\n",
    "    return V"
   ]
  },
  {
   "cell_type": "code",
   "execution_count": 314,
   "id": "c5a27066",
   "metadata": {},
   "outputs": [],
   "source": [
    "#Collect targets for TD with trained state values\n",
    "def collect_targets_td(episodes, step, V):\n",
    "    targets = []\n",
    "    grid_world = WindyGridWorld()\n",
    "    for r in tqdm.tqdm(range(len(episodes)), desc=\"run number\", position=0):\n",
    "        S, A, R = episodes[r][0]\n",
    "        target = R + V[episodes[r][1][0]]\n",
    "        targets.append(target)\n",
    "    return targets"
   ]
  },
  {
   "cell_type": "code",
   "execution_count": 315,
   "id": "8b0b6f94",
   "metadata": {},
   "outputs": [],
   "source": [
    "#Collect targets G for MC with trained state valuesfrom the evaluation episodes\n",
    "def collect_targets_mc(episodes):\n",
    "    # First, we initialize the empty value table as a dictionary for storing the values of each state\n",
    "    V,N = {},{}\n",
    "    targets = []\n",
    "    grid_world = WindyGridWorld()\n",
    "    for state in grid_world.state_space:\n",
    "        V[tuple(state)] = -10\n",
    "        N[tuple(state)] = 0\n",
    "    for r in tqdm.tqdm(range(len(episodes)), desc=\"run number\", position=0):\n",
    "        G = 0\n",
    "        for k in range(len(episodes[r]) - 2, -1, -1):\n",
    "            S, A, R = episodes[r][k]\n",
    "            # calculating the returns until time step k in episode\n",
    "            G += R\n",
    "            append = True\n",
    "            # running first visit MC\n",
    "            for l in range(k):\n",
    "                s = episodes[r][k][0]\n",
    "                if s == S:\n",
    "                    append = False\n",
    "            if append:\n",
    "                N[S] +=1\n",
    "                V[S] += (G - V[S]) / N[S]\n",
    "                if S == tuple(grid_world.start_state):\n",
    "                    targets.append(G)\n",
    "    return targets"
   ]
  },
  {
   "cell_type": "code",
   "execution_count": 316,
   "id": "85d3b9a2",
   "metadata": {},
   "outputs": [],
   "source": [
    "def off_policy_training(episodes, step):\n",
    "    grid_world = WindyGridWorld()\n",
    "    Q = defaultdict(float)\n",
    "    policy = {}\n",
    "    for state in grid_world.state_space:\n",
    "        for action in grid_world.action_space:\n",
    "            if state == grid_world.goal_state:\n",
    "                Q[tuple(state) , action] = 0\n",
    "            else:\n",
    "                Q[tuple(state), action] = -50\n",
    "    for r in tqdm.tqdm(range(len(episodes)), desc=\"run number\", position=0):\n",
    "        for i in range(len(episodes[r])-1):    \n",
    "            S, A, R = episodes[r][i]\n",
    "            S_prime = episodes[r][i+1][0]\n",
    "            A_max,_ = epsilon_greedy_policy_impl(S_prime, Q, 0, list(grid_world.action_space.keys()), policy)\n",
    "            Q[S, A] += step*(R + Q[S_prime, A_max] - Q[S, A])\n",
    "            S = S_prime\n",
    "    return Q"
   ]
  },
  {
   "cell_type": "code",
   "execution_count": 317,
   "id": "f2608e57",
   "metadata": {},
   "outputs": [],
   "source": [
    "# running policy evaluation using dynamic programming for the epsilon greedy version of the provided q values\n",
    "def policy_evaluation_dynamic(Q):\n",
    "    frequency = defaultdict(float)\n",
    "    threshold = 1e-2\n",
    "    policy, V = {}, {}\n",
    "    # random initialization of the values\n",
    "    grid_world = WindyGridWorld()\n",
    "    for state in grid_world.state_space:\n",
    "        if state == grid_world.goal_state:\n",
    "            V[tuple(state)] = 0\n",
    "        else:\n",
    "            V[tuple(state)] = random.randint(-20,-15)\n",
    "    while True:\n",
    "        is_optimal = True\n",
    "        for S in grid_world.state_space:\n",
    "            if S != grid_world.goal_state:\n",
    "                S = tuple(S)\n",
    "                old_v = V[S]\n",
    "                # setting the policy's probability for every action from state S\n",
    "                _,_ = epsilon_greedy_policy_impl(S, Q, 0.1, list(grid_world.action_space.keys()), policy)\n",
    "                new_v = 0\n",
    "                # calculating the expecation of V(S') under provided policy\n",
    "                for A in policy[S]:\n",
    "                    grid_world.reset()\n",
    "                    grid_world.state = list(S)\n",
    "                    S_prime, R , termination = grid_world.step(A)\n",
    "                    new_v += policy[S][A]*(R + V[tuple(S_prime)])\n",
    "                # Breaking value iteration when the difference is less than threshold\n",
    "                if abs(old_v-new_v) > threshold or not is_optimal:\n",
    "                    is_optimal = False\n",
    "                else:\n",
    "                    is_optimal = True\n",
    "                V[S] = new_v\n",
    "        if is_optimal:\n",
    "            break\n",
    "    return V[tuple(grid_world.start_state)]"
   ]
  },
  {
   "cell_type": "code",
   "execution_count": 318,
   "id": "14b8802b",
   "metadata": {},
   "outputs": [],
   "source": [
    "# Runs value iteration for finding the true value of the states in the grid worls\n",
    "def value_iteration():\n",
    "    frequency = defaultdict(float)\n",
    "    threshold = 1e-2\n",
    "    policy, V = {}, {}\n",
    "    grid_world = WindyGridWorld()\n",
    "    # randomly initializing V\n",
    "    for state in grid_world.state_space:\n",
    "        if state == grid_world.goal_state:\n",
    "            V[tuple(state)] = 0\n",
    "        else:\n",
    "            V[tuple(state)] = random.randint(-20,-15)\n",
    "    while True:\n",
    "        is_optimal = True\n",
    "        for S in grid_world.state_space:\n",
    "            if S != grid_world.goal_state:\n",
    "                S = tuple(S)\n",
    "                old_v = V[S]\n",
    "                new_v = float('-inf')\n",
    "                # setting V(S) to the max V(s')\n",
    "                for A in grid_world.action_space:\n",
    "                    grid_world.reset()\n",
    "                    grid_world.state = list(S)\n",
    "                    S_prime, R , termination = grid_world.step(A)\n",
    "                    v = R + V[tuple(S_prime)]\n",
    "                    if v > new_v:\n",
    "                        new_v = v\n",
    "                # Breaking value iteration when the difference is less than threshold\n",
    "                if abs(old_v-new_v) > threshold or not is_optimal:\n",
    "                    is_optimal = False\n",
    "                else:\n",
    "                    is_optimal = True\n",
    "                V[S] = new_v\n",
    "        if is_optimal:\n",
    "            break\n",
    "    return V[tuple(grid_world.start_state)]"
   ]
  },
  {
   "cell_type": "code",
   "execution_count": 319,
   "id": "3ef75662",
   "metadata": {},
   "outputs": [
    {
     "data": {
      "application/vnd.jupyter.widget-view+json": {
       "model_id": "e92fe135f88641c89e066369df235c9c",
       "version_major": 2,
       "version_minor": 0
      },
      "text/plain": [
       "Run trail:   0%|          | 0/1 [00:00<?, ?it/s]"
      ]
     },
     "metadata": {},
     "output_type": "display_data"
    },
    {
     "data": {
      "application/vnd.jupyter.widget-view+json": {
       "model_id": "03408302da734842bee704a71474a5ec",
       "version_major": 2,
       "version_minor": 0
      },
      "text/plain": [
       "run number:   0%|          | 0/300 [00:00<?, ?it/s]"
      ]
     },
     "metadata": {},
     "output_type": "display_data"
    },
    {
     "name": "stdout",
     "output_type": "stream",
     "text": [
      "Episode Generation for N = 1\n"
     ]
    },
    {
     "data": {
      "application/vnd.jupyter.widget-view+json": {
       "model_id": "8fcb4041d8664b99ada6912a900795c1",
       "version_major": 2,
       "version_minor": 0
      },
      "text/plain": [
       "run number:   0%|          | 0/1 [00:00<?, ?it/s]"
      ]
     },
     "metadata": {},
     "output_type": "display_data"
    },
    {
     "name": "stdout",
     "output_type": "stream",
     "text": [
      "Episode Generation for N = 10\n"
     ]
    },
    {
     "data": {
      "application/vnd.jupyter.widget-view+json": {
       "model_id": "54c7e799d26e461f9c77b2dbe4d9deff",
       "version_major": 2,
       "version_minor": 0
      },
      "text/plain": [
       "run number:   0%|          | 0/10 [00:00<?, ?it/s]"
      ]
     },
     "metadata": {},
     "output_type": "display_data"
    },
    {
     "name": "stdout",
     "output_type": "stream",
     "text": [
      "Episode Generation for N = 50\n"
     ]
    },
    {
     "data": {
      "application/vnd.jupyter.widget-view+json": {
       "model_id": "96eee5ea8a0041dc949c1a7100cc65d7",
       "version_major": 2,
       "version_minor": 0
      },
      "text/plain": [
       "run number:   0%|          | 0/50 [00:00<?, ?it/s]"
      ]
     },
     "metadata": {},
     "output_type": "display_data"
    },
    {
     "name": "stdout",
     "output_type": "stream",
     "text": [
      "Collecting evaluation episodes\n"
     ]
    },
    {
     "data": {
      "application/vnd.jupyter.widget-view+json": {
       "model_id": "1dfa7f3b1dbd4199a676a48f3d928095",
       "version_major": 2,
       "version_minor": 0
      },
      "text/plain": [
       "run number:   0%|          | 0/100 [00:00<?, ?it/s]"
      ]
     },
     "metadata": {},
     "output_type": "display_data"
    },
    {
     "name": "stdout",
     "output_type": "stream",
     "text": [
      "Finding true value of Vpi(S)\n"
     ]
    },
    {
     "data": {
      "application/vnd.jupyter.widget-view+json": {
       "model_id": "bc278e26c0724246abdea37d6bba713e",
       "version_major": 2,
       "version_minor": 0
      },
      "text/plain": [
       "run number:   0%|          | 0/1 [00:00<?, ?it/s]"
      ]
     },
     "metadata": {},
     "output_type": "display_data"
    },
    {
     "name": "stdout",
     "output_type": "stream",
     "text": [
      "Training off policy for N=10 using td\n"
     ]
    },
    {
     "data": {
      "application/vnd.jupyter.widget-view+json": {
       "model_id": "5dba93b97c244b02b7060936d1b99fd1",
       "version_major": 2,
       "version_minor": 0
      },
      "text/plain": [
       "run number:   0%|          | 0/10 [00:00<?, ?it/s]"
      ]
     },
     "metadata": {},
     "output_type": "display_data"
    },
    {
     "name": "stdout",
     "output_type": "stream",
     "text": [
      "Training off policy for N=50 using td\n"
     ]
    },
    {
     "data": {
      "application/vnd.jupyter.widget-view+json": {
       "model_id": "b8d63746e6dc417094526c6af2dc40be",
       "version_major": 2,
       "version_minor": 0
      },
      "text/plain": [
       "run number:   0%|          | 0/50 [00:00<?, ?it/s]"
      ]
     },
     "metadata": {},
     "output_type": "display_data"
    },
    {
     "name": "stdout",
     "output_type": "stream",
     "text": [
      "Value estimation for One episode with TD\n"
     ]
    },
    {
     "data": {
      "application/vnd.jupyter.widget-view+json": {
       "model_id": "61b59d0159c949af963b2833da487204",
       "version_major": 2,
       "version_minor": 0
      },
      "text/plain": [
       "run number:   0%|          | 0/100 [00:00<?, ?it/s]"
      ]
     },
     "metadata": {},
     "output_type": "display_data"
    },
    {
     "name": "stdout",
     "output_type": "stream",
     "text": [
      "Value estimation for Ten episode with TD\n"
     ]
    },
    {
     "data": {
      "application/vnd.jupyter.widget-view+json": {
       "model_id": "0652a50dfae747cca3e026851ae2376d",
       "version_major": 2,
       "version_minor": 0
      },
      "text/plain": [
       "run number:   0%|          | 0/100 [00:00<?, ?it/s]"
      ]
     },
     "metadata": {},
     "output_type": "display_data"
    },
    {
     "name": "stdout",
     "output_type": "stream",
     "text": [
      "Value estimation for Fifty episode with TD\n"
     ]
    },
    {
     "data": {
      "application/vnd.jupyter.widget-view+json": {
       "model_id": "445ac297fbcc4b48b16207d00fb04213",
       "version_major": 2,
       "version_minor": 0
      },
      "text/plain": [
       "run number:   0%|          | 0/100 [00:00<?, ?it/s]"
      ]
     },
     "metadata": {},
     "output_type": "display_data"
    },
    {
     "name": "stdout",
     "output_type": "stream",
     "text": [
      "Value estimation for episodes with MC\n"
     ]
    },
    {
     "data": {
      "application/vnd.jupyter.widget-view+json": {
       "model_id": "afbb2bc22c1d42d8ba888dd621d39dff",
       "version_major": 2,
       "version_minor": 0
      },
      "text/plain": [
       "run number:   0%|          | 0/100 [00:00<?, ?it/s]"
      ]
     },
     "metadata": {},
     "output_type": "display_data"
    }
   ],
   "source": [
    "_, q_optimal = q_learning(1, 300, 0.5, 0.1, False, False)\n",
    "\n",
    "print(\"Episode Generation for N = 1\")\n",
    "training_episodes_one = generate_episodes(q_optimal, 1)\n",
    "print(\"Episode Generation for N = 10\")\n",
    "training_episodes_ten = generate_episodes(q_optimal, 10)\n",
    "print(\"Episode Generation for N = 50\")\n",
    "training_episodes_fifty = generate_episodes(q_optimal, 50)\n",
    "\n",
    "print(\"Collecting evaluation episodes\")\n",
    "evaluation_episodes = generate_episodes(q_optimal, 100)\n",
    "                                              \n",
    "print(\"Finding true value of Vpi(S)\")\n",
    "V_S = value_iteration()\n",
    "                                              \n",
    "# print(\"Training off policy for N=1 using td\")\n",
    "vs_td_one = estimate_vs_td(training_episodes_one, 0.5)         \n",
    "print(\"Training off policy for N=10 using td\")\n",
    "vs_td_ten = estimate_vs_td(training_episodes_ten, 0.5) \n",
    "print(\"Training off policy for N=50 using td\")\n",
    "vs_td_fifty = estimate_vs_td(training_episodes_fifty, 0.5) \n",
    "\n",
    "\n",
    "print(\"Value estimation for One episode with TD\")\n",
    "targets_one_td = collect_targets_td(evaluation_episodes, 0.5, vs_td_one)\n",
    "print(\"Value estimation for Ten episode with TD\")\n",
    "targets_ten_td = collect_targets_td(evaluation_episodes, 0.5, vs_td_ten)\n",
    "print(\"Value estimation for Fifty episode with TD\")\n",
    "targets_fifty_td = collect_targets_td(evaluation_episodes, 0.5, vs_td_fifty)\n",
    "print(\"Value estimation for episodes with MC\")\n",
    "targets_mc = collect_targets_mc(evaluation_episodes)"
   ]
  },
  {
   "cell_type": "code",
   "execution_count": 320,
   "id": "77ea321c",
   "metadata": {},
   "outputs": [
    {
     "data": {
      "image/png": "[encoded data removed]",
      "text/plain": [
       "<Figure size 432x288 with 1 Axes>"
      ]
     },
     "metadata": {
      "needs_background": "light"
     },
     "output_type": "display_data"
    },
    {
     "name": "stdout",
     "output_type": "stream",
     "text": [
      "std deviation for N=1 TD 0.06609652033201142\n"
     ]
    },
    {
     "data": {
      "image/png": "[encoded data removed]",
      "text/plain": [
       "<Figure size 432x288 with 1 Axes>"
      ]
     },
     "metadata": {
      "needs_background": "light"
     },
     "output_type": "display_data"
    },
    {
     "name": "stdout",
     "output_type": "stream",
     "text": [
      "std deviation for N=1 TD 0.9713490056423228\n"
     ]
    },
    {
     "data": {
      "image/png": "[encoded data removed]",
      "text/plain": [
       "<Figure size 432x288 with 1 Axes>"
      ]
     },
     "metadata": {
      "needs_background": "light"
     },
     "output_type": "display_data"
    },
    {
     "name": "stdout",
     "output_type": "stream",
     "text": [
      "std deviation for N=1 TD 1.5935554020580673\n"
     ]
    },
    {
     "data": {
      "image/png": "[encoded data removed]",
      "text/plain": [
       "<Figure size 432x288 with 1 Axes>"
      ]
     },
     "metadata": {
      "needs_background": "light"
     },
     "output_type": "display_data"
    },
    {
     "name": "stdout",
     "output_type": "stream",
     "text": [
      "std deviation for N=1 MC 4.087480886805467\n"
     ]
    }
   ],
   "source": [
    "plt.hist(targets_one_td, edgecolor=\"red\", bins=50)\n",
    "plt.axvline(V_S, color='k', linestyle='dashed', linewidth=1)\n",
    "plt.show()\n",
    "print(\"std deviation for N=1 TD\",np.std(targets_one_td))\n",
    "plt.hist(targets_ten_td, edgecolor=\"red\", bins=50)\n",
    "plt.axvline(V_S, color='k', linestyle='dashed', linewidth=1)\n",
    "plt.show()\n",
    "print(\"std deviation for N=1 TD\",np.std(targets_ten_td))\n",
    "plt.hist(targets_fifty_td, edgecolor=\"red\", bins=50)\n",
    "plt.axvline(V_S, color='k', linestyle='dashed', linewidth=1)\n",
    "plt.show()\n",
    "print(\"std deviation for N=1 TD\",np.std(targets_fifty_td))\n",
    "plt.hist(targets_mc, edgecolor=\"red\", bins=50)\n",
    "plt.axvline(V_S, color='k', linestyle='dashed', linewidth=1)\n",
    "plt.show()\n",
    "print(\"std deviation for N=1 MC\",np.std(targets_mc))"
   ]
  }
 ],
 "metadata": {
  "kernelspec": {
   "display_name": "Python 3 (ipykernel)",
   "language": "python",
   "name": "python3"
  },
  "language_info": {
   "codemirror_mode": {
    "name": "ipython",
    "version": 3
   },
   "file_extension": ".py",
   "mimetype": "text/x-python",
   "name": "python",
   "nbconvert_exporter": "python",
   "pygments_lexer": "ipython3",
   "version": "3.9.12"
  }
 },
 "nbformat": 4,
 "nbformat_minor": 5
}
